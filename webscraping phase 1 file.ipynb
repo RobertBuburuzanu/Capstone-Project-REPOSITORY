{
 "cells": [
  {
   "cell_type": "markdown",
   "id": "8e8cfdeb",
   "metadata": {},
   "source": [
    "## Capstone  Project\n",
    "\n",
    "Booking.com\n",
    "\n",
    "This capstone is divided into 4 Phase(weekly) duration. In this document the entire details of 4 Phase(weekly) duration is given.\n",
    "\n",
    "### Phase 1   \n",
    "\n",
    "Web scrapping the URL   along  12  cities names provided at bottom of page .\n",
    "\n",
    "https://www.booking.com/index.en-gb.html?aid=397646&label=yho748jc-1DCAEoggI46AdIM1gDaGyIAQGYAQm4ARfIAQzYAQPoAQGIAgGoAgO4Ap3Y96YGwAIB0gIkY2NlMDIyZmItZDdlZi00MWVkLWE5YzUtNmIzNmE1NWI3MDU32AIE4AIB&sid=0cb28093647b47834b4f3a02e11acd13&keep_landing=1&sb_price_type=total&\n",
    "\n",
    "Go bottom of page and start navigating in CITIES tab:\n",
    "#### 12 Cities Name given below\n",
    "\n",
    "1. Dubai, United Arab Emirates\n",
    "2. London, United Kingdom\n",
    "3. Kuala Lumpur, Malaysia\n",
    "4. Manchester\n",
    "5. New Delhi\n",
    "6. Birmingham\n",
    "7. Berlin\n",
    "8. Sydney\n",
    "9. Melbourne\n",
    "10. Paris\n",
    "11. Tokyo\n",
    "12. Toronto\n",
    "\n",
    "### Phase 2\n",
    "\n",
    "Make the table in  csv format  (3 csv files)\n",
    "1. Data1.csv :   sno, Hotel name ,cities, location, number of reviews, user ratings, star rating, review score\n",
    "2. Data2.csv  : sno, Hotel name ,Free wifi, Family rooms ,Non Smoking Rooms, Restaurant ,Bar, Heating ,Lift ,Breakfast Cuisine1,Breakfast Cuisine2, Breakfast Cuisine3(can take Yes /NO values)\n",
    "3. Data3.csv :    sno ,  Hotel name, Room Type ,Single Bed ,Double bed  ,Prices\n",
    "\n",
    "#### Write the SQL queries :\n",
    "\n",
    "##### Table 1\n",
    "1. Write a query to give  details of hotels city is Sydney and  ratings is more than 5.\n",
    "2. Write a query  to find the location with the most reviews.\n",
    "3. Write a  query that  will retrieve all rows and sort them in descending order of user ratings.\n",
    "4. Write a query that  retrieves rows where the star rating is greater than or equal to 4.0 and sorts them in descending order of review score.\n",
    "5. Write a query to count the number of hotels in each city.\n",
    "\n",
    "##### Table 2\n",
    "1. Write a query to retrieve hotels that have both a restaurant and a bar\n",
    "2. Write a query to retrieve hotels that offer free WiFi and have family rooms.\n",
    "3. Write a query to count the occurrences of each breakfast cuisine type.\n",
    "4. Write a query to retrieve hotels that offer a certain(CONTINENTAL )  breakfast cuisine .{{Students you may give any cuisine as per your choices}}\n",
    "5. Write a query to see whether an hotel has all amenities such as Heating, Lift and Bar.\n",
    "\n",
    "###### Table 3 :\n",
    "1. Write SQL query to retrieve hotels that offer double bed rooms and sort them by price in descending order.\n",
    "2. Write a SQL query to calculate the average price for each room type.\n",
    "\n",
    "From here we will be making SUBQUERIES including the data from table 1/Table 2/Table 3\n",
    "3. Write a query to find details of hotels with user ratings above 5 as a  threshold and that offer free WiFi. (Use table 1 and table 2) \n",
    "4. Write a query to find hotels that offer both family rooms and non-smoking rooms(Use table 1 and Table 2)\n",
    "5. Write a query to calculate the average price for each room type (Use table2 and Table 3)\n",
    "\n",
    "### Phase  3\n",
    "Now make only 1 dataframe of 3 csv file using concat/merge /join operation of pandas and start doing EDA. Do the complete EDA in details to explore the insights of data and write the detailed observations of each analysis. \n",
    "\n",
    "### Phase 4\n",
    "Write the complete Machine learning code to make predictions of price and review score .Use appropriate models on their label basis. Remember you need to make 2 different predictions: price  and review score (Note : Inside Review score ----  Superb/Very good /Good /Pleasant).\n",
    "Apply all the best techniques of scaling ,hyperparameter tuning , avoid underfitting or overfitting (bias/variance). At the end save the best model and convey on which basis you have chosen that model.  \n",
    " \n",
    "\n",
    "### Submission guidelines :\n",
    "1. Only Github link will be accepted .\n",
    "2. Make Capstone Project REPOSITORY in github and put three files in it\n",
    "3. File 1 : webscraping phase 1 file\n",
    "4. File 2 : SQL Queries phase 2 file\n",
    "5. File 3 : EDA and Machine Learning  file\n",
    "6. Once you finish all phases now upload all three files in Capstone project repository in github and share this Capstone project repository github  link in LMS   .\n",
    "\n",
    "#### Note :\n",
    "1. Do not submit direct file in LMS . Only Github link will be accepted.\n",
    "2. No extension will be provided .\n",
    "3. We will not provide any kind of support with technical queries related with Capstone project.(i.e.    codes  /syntax /errors etc.  ) \n",
    "4. No mentor sessions will be provided for Capstone project .\n",
    "\n",
    "#### END"
   ]
  },
  {
   "cell_type": "code",
   "execution_count": 2,
   "id": "cf7ae4a5",
   "metadata": {},
   "outputs": [
    {
     "name": "stdout",
     "output_type": "stream",
     "text": [
      "Collecting selenium\n",
      "  Downloading selenium-4.14.0-py3-none-any.whl (9.9 MB)\n",
      "     ---------------------------------------- 9.9/9.9 MB 7.9 MB/s eta 0:00:00\n",
      "Requirement already satisfied: urllib3[socks]<3,>=1.26 in c:\\users\\rober\\anaconda3\\lib\\site-packages (from selenium) (1.26.16)\n",
      "Collecting trio-websocket~=0.9\n",
      "  Downloading trio_websocket-0.11.1-py3-none-any.whl (17 kB)\n",
      "Collecting trio~=0.17\n",
      "  Downloading trio-0.22.2-py3-none-any.whl (400 kB)\n",
      "     -------------------------------------- 400.2/400.2 kB 8.3 MB/s eta 0:00:00\n",
      "Requirement already satisfied: certifi>=2021.10.8 in c:\\users\\rober\\anaconda3\\lib\\site-packages (from selenium) (2023.5.7)\n",
      "Requirement already satisfied: idna in c:\\users\\rober\\anaconda3\\lib\\site-packages (from trio~=0.17->selenium) (3.4)\n",
      "Collecting exceptiongroup>=1.0.0rc9\n",
      "  Downloading exceptiongroup-1.1.3-py3-none-any.whl (14 kB)\n",
      "Requirement already satisfied: attrs>=20.1.0 in c:\\users\\rober\\anaconda3\\lib\\site-packages (from trio~=0.17->selenium) (22.1.0)\n",
      "Requirement already satisfied: sortedcontainers in c:\\users\\rober\\anaconda3\\lib\\site-packages (from trio~=0.17->selenium) (2.4.0)\n",
      "Requirement already satisfied: cffi>=1.14 in c:\\users\\rober\\anaconda3\\lib\\site-packages (from trio~=0.17->selenium) (1.15.1)\n",
      "Requirement already satisfied: sniffio in c:\\users\\rober\\anaconda3\\lib\\site-packages (from trio~=0.17->selenium) (1.2.0)\n",
      "Collecting outcome\n",
      "  Using cached outcome-1.2.0-py2.py3-none-any.whl (9.7 kB)\n",
      "Collecting wsproto>=0.14\n",
      "  Using cached wsproto-1.2.0-py3-none-any.whl (24 kB)\n",
      "Requirement already satisfied: PySocks!=1.5.7,<2.0,>=1.5.6 in c:\\users\\rober\\anaconda3\\lib\\site-packages (from urllib3[socks]<3,>=1.26->selenium) (1.7.1)\n",
      "Requirement already satisfied: pycparser in c:\\users\\rober\\anaconda3\\lib\\site-packages (from cffi>=1.14->trio~=0.17->selenium) (2.21)\n",
      "Requirement already satisfied: h11<1,>=0.9.0 in c:\\users\\rober\\anaconda3\\lib\\site-packages (from wsproto>=0.14->trio-websocket~=0.9->selenium) (0.12.0)\n",
      "Installing collected packages: wsproto, outcome, exceptiongroup, trio, trio-websocket, selenium\n",
      "Successfully installed exceptiongroup-1.1.3 outcome-1.2.0 selenium-4.14.0 trio-0.22.2 trio-websocket-0.11.1 wsproto-1.2.0\n"
     ]
    }
   ],
   "source": [
    "!pip install selenium"
   ]
  },
  {
   "cell_type": "code",
   "execution_count": 4,
   "id": "8828722a",
   "metadata": {},
   "outputs": [
    {
     "name": "stdout",
     "output_type": "stream",
     "text": [
      "Collecting undetected-chromedriver\n",
      "  Downloading undetected-chromedriver-3.5.3.tar.gz (65 kB)\n",
      "     ---------------------------------------- 65.3/65.3 kB 1.8 MB/s eta 0:00:00\n",
      "  Preparing metadata (setup.py): started\n",
      "  Preparing metadata (setup.py): finished with status 'done'\n",
      "Requirement already satisfied: selenium>=4.9.0 in c:\\users\\rober\\anaconda3\\lib\\site-packages (from undetected-chromedriver) (4.14.0)\n",
      "Requirement already satisfied: requests in c:\\users\\rober\\anaconda3\\lib\\site-packages (from undetected-chromedriver) (2.29.0)\n",
      "Collecting websockets\n",
      "  Downloading websockets-11.0.3-cp310-cp310-win_amd64.whl (124 kB)\n",
      "     -------------------------------------- 124.7/124.7 kB 3.7 MB/s eta 0:00:00\n",
      "Requirement already satisfied: trio-websocket~=0.9 in c:\\users\\rober\\anaconda3\\lib\\site-packages (from selenium>=4.9.0->undetected-chromedriver) (0.11.1)\n",
      "Requirement already satisfied: trio~=0.17 in c:\\users\\rober\\anaconda3\\lib\\site-packages (from selenium>=4.9.0->undetected-chromedriver) (0.22.2)\n",
      "Requirement already satisfied: urllib3[socks]<3,>=1.26 in c:\\users\\rober\\anaconda3\\lib\\site-packages (from selenium>=4.9.0->undetected-chromedriver) (1.26.16)\n",
      "Requirement already satisfied: certifi>=2021.10.8 in c:\\users\\rober\\anaconda3\\lib\\site-packages (from selenium>=4.9.0->undetected-chromedriver) (2023.5.7)\n",
      "Requirement already satisfied: idna<4,>=2.5 in c:\\users\\rober\\anaconda3\\lib\\site-packages (from requests->undetected-chromedriver) (3.4)\n",
      "Requirement already satisfied: charset-normalizer<4,>=2 in c:\\users\\rober\\anaconda3\\lib\\site-packages (from requests->undetected-chromedriver) (2.0.4)\n",
      "Requirement already satisfied: sniffio in c:\\users\\rober\\anaconda3\\lib\\site-packages (from trio~=0.17->selenium>=4.9.0->undetected-chromedriver) (1.2.0)\n",
      "Requirement already satisfied: exceptiongroup>=1.0.0rc9 in c:\\users\\rober\\anaconda3\\lib\\site-packages (from trio~=0.17->selenium>=4.9.0->undetected-chromedriver) (1.1.3)\n",
      "Requirement already satisfied: attrs>=20.1.0 in c:\\users\\rober\\anaconda3\\lib\\site-packages (from trio~=0.17->selenium>=4.9.0->undetected-chromedriver) (22.1.0)\n",
      "Requirement already satisfied: cffi>=1.14 in c:\\users\\rober\\anaconda3\\lib\\site-packages (from trio~=0.17->selenium>=4.9.0->undetected-chromedriver) (1.15.1)\n",
      "Requirement already satisfied: sortedcontainers in c:\\users\\rober\\anaconda3\\lib\\site-packages (from trio~=0.17->selenium>=4.9.0->undetected-chromedriver) (2.4.0)\n",
      "Requirement already satisfied: outcome in c:\\users\\rober\\anaconda3\\lib\\site-packages (from trio~=0.17->selenium>=4.9.0->undetected-chromedriver) (1.2.0)\n",
      "Requirement already satisfied: wsproto>=0.14 in c:\\users\\rober\\anaconda3\\lib\\site-packages (from trio-websocket~=0.9->selenium>=4.9.0->undetected-chromedriver) (1.2.0)\n",
      "Requirement already satisfied: PySocks!=1.5.7,<2.0,>=1.5.6 in c:\\users\\rober\\anaconda3\\lib\\site-packages (from urllib3[socks]<3,>=1.26->selenium>=4.9.0->undetected-chromedriver) (1.7.1)\n",
      "Requirement already satisfied: pycparser in c:\\users\\rober\\anaconda3\\lib\\site-packages (from cffi>=1.14->trio~=0.17->selenium>=4.9.0->undetected-chromedriver) (2.21)\n",
      "Requirement already satisfied: h11<1,>=0.9.0 in c:\\users\\rober\\anaconda3\\lib\\site-packages (from wsproto>=0.14->trio-websocket~=0.9->selenium>=4.9.0->undetected-chromedriver) (0.12.0)\n",
      "Building wheels for collected packages: undetected-chromedriver\n",
      "  Building wheel for undetected-chromedriver (setup.py): started\n",
      "  Building wheel for undetected-chromedriver (setup.py): finished with status 'done'\n",
      "  Created wheel for undetected-chromedriver: filename=undetected_chromedriver-3.5.3-py3-none-any.whl size=46975 sha256=da36efc04e90cd17eed6c7f381d129f1e91954679d827259f6251e8337954fe6\n",
      "  Stored in directory: c:\\users\\rober\\appdata\\local\\pip\\cache\\wheels\\07\\f3\\b2\\11456cd744a1f4167b45a7f85a9e2cd03252c3360c79eb8445\n",
      "Successfully built undetected-chromedriver\n",
      "Installing collected packages: websockets, undetected-chromedriver\n",
      "Successfully installed undetected-chromedriver-3.5.3 websockets-11.0.3\n",
      "Note: you may need to restart the kernel to use updated packages.\n"
     ]
    }
   ],
   "source": [
    "pip install undetected-chromedriver"
   ]
  },
  {
   "cell_type": "code",
   "execution_count": 1,
   "id": "a729e3ab",
   "metadata": {},
   "outputs": [],
   "source": [
    "import selenium\n",
    "import pandas as pd\n",
    "from selenium import webdriver\n",
    "import warnings\n",
    "warnings.filterwarnings('ignore')\n",
    "from selenium.common.exceptions import StaleElementReferenceException, NoSuchElementException, ElementNotInteractableException, ElementClickInterceptedException\n",
    "from selenium.webdriver.common.by import By\n",
    "import undetected_chromedriver as uc\n",
    "import time\n",
    "from bs4 import BeautifulSoup\n",
    "import requests"
   ]
  },
  {
   "cell_type": "code",
   "execution_count": 2,
   "id": "13dadc15",
   "metadata": {},
   "outputs": [],
   "source": [
    "driver = webdriver.Chrome()\n",
    "driver.get('https://www.booking.com/index.en-gb.html?aid=397646&label=yho748jc-1FCAEoggI46AdIM1gDaGyIAQGYAQm4ARfIAQzYAQHoAQH4AQyIAgGoAgO4AurS96YGwAIB0gIkMTJhN2VkNjAtYzc1MS00MjVhLTg3ZjYtMzI5ZWMzNzlkNzhm2AIG4AIB&sid=3a7ac12877fb3e504301d24e85fc69b8&click_from_logo=1')\n",
    "time.sleep(2)"
   ]
  },
  {
   "cell_type": "code",
   "execution_count": 3,
   "id": "b071c7e7",
   "metadata": {},
   "outputs": [],
   "source": [
    "cookie = driver.find_element(By.ID, 'onetrust-accept-btn-handler')\n",
    "cookie.click()"
   ]
  },
  {
   "cell_type": "code",
   "execution_count": 4,
   "id": "9496afca",
   "metadata": {},
   "outputs": [],
   "source": [
    "button = driver.find_element(By.XPATH, '//li[3]/a[@data-ga=\"seoindexlinks\"]')\n",
    "button.click()"
   ]
  },
  {
   "cell_type": "code",
   "execution_count": 6,
   "id": "035b2ca2",
   "metadata": {},
   "outputs": [],
   "source": [
    "button = driver.find_element(By.XPATH, '//button[@class=\"bui-popover__close\"]')\n",
    "button.click()"
   ]
  },
  {
   "cell_type": "code",
   "execution_count": 7,
   "id": "c9c2b12a",
   "metadata": {},
   "outputs": [
    {
     "data": {
      "text/plain": [
       "1"
      ]
     },
     "execution_count": 7,
     "metadata": {},
     "output_type": "execute_result"
    }
   ],
   "source": [
    "cities_search = []\n",
    "\n",
    "cities_search_tags = driver.find_elements(By.XPATH, '//a[@title=\"Hotels in Dubai, United Arab Emirates\"]')\n",
    "for i in cities_search_tags:\n",
    "    dubai = i.get_attribute('href')\n",
    "    cities_search.append(dubai)\n",
    "    \n",
    "len(cities_search)"
   ]
  },
  {
   "cell_type": "code",
   "execution_count": 8,
   "id": "240b822a",
   "metadata": {},
   "outputs": [
    {
     "data": {
      "text/plain": [
       "2"
      ]
     },
     "execution_count": 8,
     "metadata": {},
     "output_type": "execute_result"
    }
   ],
   "source": [
    "cities_search_tags = driver.find_elements(By.XPATH, '//a[@title=\"Hotels in London, United Kingdom\"]')\n",
    "for i in cities_search_tags:\n",
    "    london = i.get_attribute('href')\n",
    "    cities_search.append(london)\n",
    "    \n",
    "len(cities_search)"
   ]
  },
  {
   "cell_type": "code",
   "execution_count": 9,
   "id": "c73fa6fb",
   "metadata": {},
   "outputs": [
    {
     "data": {
      "text/plain": [
       "3"
      ]
     },
     "execution_count": 9,
     "metadata": {},
     "output_type": "execute_result"
    }
   ],
   "source": [
    "cities_search_tags = driver.find_elements(By.XPATH, '//a[@title=\"Hotels in Kuala Lumpur, Malaysia\"]')\n",
    "for i in cities_search_tags:\n",
    "    kuala = i.get_attribute('href')\n",
    "    cities_search.append(kuala)\n",
    "    \n",
    "len(cities_search)"
   ]
  },
  {
   "cell_type": "code",
   "execution_count": 10,
   "id": "8c4b0674",
   "metadata": {},
   "outputs": [
    {
     "data": {
      "text/plain": [
       "4"
      ]
     },
     "execution_count": 10,
     "metadata": {},
     "output_type": "execute_result"
    }
   ],
   "source": [
    "cities_search_tags = driver.find_elements(By.XPATH, '//a[@title=\"Hotels in Manchester, United Kingdom\"]')\n",
    "for i in cities_search_tags:\n",
    "    man = i.get_attribute('href')\n",
    "    cities_search.append(man)\n",
    "    \n",
    "len(cities_search)"
   ]
  },
  {
   "cell_type": "code",
   "execution_count": 11,
   "id": "856f2244",
   "metadata": {},
   "outputs": [
    {
     "data": {
      "text/plain": [
       "5"
      ]
     },
     "execution_count": 11,
     "metadata": {},
     "output_type": "execute_result"
    }
   ],
   "source": [
    "cities_search_tags = driver.find_elements(By.XPATH, '//a[@title=\"Hotels in New Delhi, India\"]')\n",
    "for i in cities_search_tags:\n",
    "    delhi = i.get_attribute('href')\n",
    "    cities_search.append(delhi)\n",
    "    \n",
    "len(cities_search)"
   ]
  },
  {
   "cell_type": "code",
   "execution_count": 12,
   "id": "f6cb78fc",
   "metadata": {},
   "outputs": [
    {
     "data": {
      "text/plain": [
       "6"
      ]
     },
     "execution_count": 12,
     "metadata": {},
     "output_type": "execute_result"
    }
   ],
   "source": [
    "cities_search_tags = driver.find_elements(By.XPATH, '//a[@title=\"Hotels in Birmingham, United Kingdom\"]')\n",
    "for i in cities_search_tags:\n",
    "    bir = i.get_attribute('href')\n",
    "    cities_search.append(bir)\n",
    "    \n",
    "len(cities_search)"
   ]
  },
  {
   "cell_type": "code",
   "execution_count": 13,
   "id": "6c663b41",
   "metadata": {},
   "outputs": [
    {
     "data": {
      "text/plain": [
       "7"
      ]
     },
     "execution_count": 13,
     "metadata": {},
     "output_type": "execute_result"
    }
   ],
   "source": [
    "cities_search_tags = driver.find_elements(By.XPATH, '//a[@title=\"Hotels in Berlin, Germany\"]')\n",
    "for i in cities_search_tags:\n",
    "    berlin = i.get_attribute('href')\n",
    "    cities_search.append(berlin)\n",
    "    \n",
    "len(cities_search)"
   ]
  },
  {
   "cell_type": "code",
   "execution_count": 14,
   "id": "ae1c2222",
   "metadata": {},
   "outputs": [
    {
     "data": {
      "text/plain": [
       "8"
      ]
     },
     "execution_count": 14,
     "metadata": {},
     "output_type": "execute_result"
    }
   ],
   "source": [
    "cities_search_tags = driver.find_elements(By.XPATH, '//a[@title=\"Hotels in Sydney, Australia\"]')\n",
    "for i in cities_search_tags:\n",
    "    sydney = i.get_attribute('href')\n",
    "    cities_search.append(sydney)\n",
    "    \n",
    "len(cities_search)"
   ]
  },
  {
   "cell_type": "code",
   "execution_count": 15,
   "id": "e7384659",
   "metadata": {},
   "outputs": [
    {
     "data": {
      "text/plain": [
       "9"
      ]
     },
     "execution_count": 15,
     "metadata": {},
     "output_type": "execute_result"
    }
   ],
   "source": [
    "cities_search_tags = driver.find_elements(By.XPATH, '//a[@title=\"Hotels in Melbourne, Australia\"]')\n",
    "for i in cities_search_tags:\n",
    "    melbourne = i.get_attribute('href')\n",
    "    cities_search.append(melbourne)\n",
    "    \n",
    "len(cities_search)"
   ]
  },
  {
   "cell_type": "code",
   "execution_count": 16,
   "id": "3a764214",
   "metadata": {},
   "outputs": [
    {
     "data": {
      "text/plain": [
       "10"
      ]
     },
     "execution_count": 16,
     "metadata": {},
     "output_type": "execute_result"
    }
   ],
   "source": [
    "cities_search_tags = driver.find_elements(By.XPATH, '//a[@title=\"Hotels in Paris, France\"]')\n",
    "for i in cities_search_tags:\n",
    "    paris = i.get_attribute('href')\n",
    "    cities_search.append(paris)\n",
    "    \n",
    "len(cities_search)"
   ]
  },
  {
   "cell_type": "code",
   "execution_count": 17,
   "id": "81b3791f",
   "metadata": {},
   "outputs": [
    {
     "data": {
      "text/plain": [
       "11"
      ]
     },
     "execution_count": 17,
     "metadata": {},
     "output_type": "execute_result"
    }
   ],
   "source": [
    "cities_search_tags = driver.find_elements(By.XPATH, '//a[@title=\"Hotels in Tokyo, Japan\"]')\n",
    "for i in cities_search_tags:\n",
    "    tokyo = i.get_attribute('href')\n",
    "    cities_search.append(tokyo)\n",
    "    \n",
    "len(cities_search)"
   ]
  },
  {
   "cell_type": "code",
   "execution_count": 18,
   "id": "62f1b343",
   "metadata": {},
   "outputs": [
    {
     "data": {
      "text/plain": [
       "12"
      ]
     },
     "execution_count": 18,
     "metadata": {},
     "output_type": "execute_result"
    }
   ],
   "source": [
    "cities_search_tags = driver.find_elements(By.XPATH, '//a[@title=\"Hotels in Toronto, Canada\"]')\n",
    "for i in cities_search_tags:\n",
    "    toronto = i.get_attribute('href')\n",
    "    cities_search.append(toronto)\n",
    "    \n",
    "len(cities_search)"
   ]
  },
  {
   "cell_type": "code",
   "execution_count": 19,
   "id": "6fed621f",
   "metadata": {},
   "outputs": [
    {
     "data": {
      "text/html": [
       "<div>\n",
       "<style scoped>\n",
       "    .dataframe tbody tr th:only-of-type {\n",
       "        vertical-align: middle;\n",
       "    }\n",
       "\n",
       "    .dataframe tbody tr th {\n",
       "        vertical-align: top;\n",
       "    }\n",
       "\n",
       "    .dataframe thead th {\n",
       "        text-align: right;\n",
       "    }\n",
       "</style>\n",
       "<table border=\"1\" class=\"dataframe\">\n",
       "  <thead>\n",
       "    <tr style=\"text-align: right;\">\n",
       "      <th></th>\n",
       "      <th>0</th>\n",
       "    </tr>\n",
       "  </thead>\n",
       "  <tbody>\n",
       "    <tr>\n",
       "      <th>0</th>\n",
       "      <td>https://www.booking.com/city/ae/dubai.en-gb.ht...</td>\n",
       "    </tr>\n",
       "    <tr>\n",
       "      <th>1</th>\n",
       "      <td>https://www.booking.com/city/gb/london.en-gb.h...</td>\n",
       "    </tr>\n",
       "    <tr>\n",
       "      <th>2</th>\n",
       "      <td>https://www.booking.com/city/my/kuala-lumpur.e...</td>\n",
       "    </tr>\n",
       "    <tr>\n",
       "      <th>3</th>\n",
       "      <td>https://www.booking.com/city/gb/manchester.en-...</td>\n",
       "    </tr>\n",
       "    <tr>\n",
       "      <th>4</th>\n",
       "      <td>https://www.booking.com/city/in/new-delhi.en-g...</td>\n",
       "    </tr>\n",
       "    <tr>\n",
       "      <th>5</th>\n",
       "      <td>https://www.booking.com/city/gb/birmingham.en-...</td>\n",
       "    </tr>\n",
       "    <tr>\n",
       "      <th>6</th>\n",
       "      <td>https://www.booking.com/city/de/berlin.en-gb.h...</td>\n",
       "    </tr>\n",
       "    <tr>\n",
       "      <th>7</th>\n",
       "      <td>https://www.booking.com/city/au/sydney.en-gb.h...</td>\n",
       "    </tr>\n",
       "    <tr>\n",
       "      <th>8</th>\n",
       "      <td>https://www.booking.com/city/au/melbourne.en-g...</td>\n",
       "    </tr>\n",
       "    <tr>\n",
       "      <th>9</th>\n",
       "      <td>https://www.booking.com/city/fr/paris.en-gb.ht...</td>\n",
       "    </tr>\n",
       "    <tr>\n",
       "      <th>10</th>\n",
       "      <td>https://www.booking.com/city/jp/tokyo.en-gb.ht...</td>\n",
       "    </tr>\n",
       "    <tr>\n",
       "      <th>11</th>\n",
       "      <td>https://www.booking.com/city/ca/toronto.en-gb....</td>\n",
       "    </tr>\n",
       "  </tbody>\n",
       "</table>\n",
       "</div>"
      ],
      "text/plain": [
       "                                                    0\n",
       "0   https://www.booking.com/city/ae/dubai.en-gb.ht...\n",
       "1   https://www.booking.com/city/gb/london.en-gb.h...\n",
       "2   https://www.booking.com/city/my/kuala-lumpur.e...\n",
       "3   https://www.booking.com/city/gb/manchester.en-...\n",
       "4   https://www.booking.com/city/in/new-delhi.en-g...\n",
       "5   https://www.booking.com/city/gb/birmingham.en-...\n",
       "6   https://www.booking.com/city/de/berlin.en-gb.h...\n",
       "7   https://www.booking.com/city/au/sydney.en-gb.h...\n",
       "8   https://www.booking.com/city/au/melbourne.en-g...\n",
       "9   https://www.booking.com/city/fr/paris.en-gb.ht...\n",
       "10  https://www.booking.com/city/jp/tokyo.en-gb.ht...\n",
       "11  https://www.booking.com/city/ca/toronto.en-gb...."
      ]
     },
     "execution_count": 19,
     "metadata": {},
     "output_type": "execute_result"
    }
   ],
   "source": [
    "cities_links = pd.DataFrame(cities_search)\n",
    "cities_links"
   ]
  },
  {
   "cell_type": "code",
   "execution_count": 20,
   "id": "1e9eb68b",
   "metadata": {},
   "outputs": [],
   "source": [
    "driver.close()"
   ]
  },
  {
   "cell_type": "markdown",
   "id": "8e66a8e6",
   "metadata": {},
   "source": [
    "### Dubai"
   ]
  },
  {
   "cell_type": "code",
   "execution_count": 120,
   "id": "5bd97910",
   "metadata": {},
   "outputs": [],
   "source": [
    "dubai = webdriver.Chrome()\n",
    "dubai.get('https://shorturl.at/hpSV9')"
   ]
  },
  {
   "cell_type": "code",
   "execution_count": 121,
   "id": "8d301e36",
   "metadata": {},
   "outputs": [],
   "source": [
    "search = dubai.find_element(By.XPATH, '//input[@class=\"eb46370fe1\"]')\n",
    "search.send_keys('dubai')\n",
    "time.sleep(5)"
   ]
  },
  {
   "cell_type": "code",
   "execution_count": 122,
   "id": "e22a5703",
   "metadata": {},
   "outputs": [],
   "source": [
    "button = dubai.find_element(By.XPATH, '//button[@class=\"a83ed08757 c21c56c305 a4c1805887 f671049264 d2529514af c082d89982 cceeb8986b\"]')\n",
    "button.click()"
   ]
  },
  {
   "cell_type": "code",
   "execution_count": 123,
   "id": "4c7423e9",
   "metadata": {},
   "outputs": [],
   "source": [
    "cookie = dubai.find_element(By.ID, 'onetrust-accept-btn-handler')\n",
    "cookie.click()"
   ]
  },
  {
   "cell_type": "code",
   "execution_count": 124,
   "id": "c041dc98",
   "metadata": {},
   "outputs": [],
   "source": [
    "sort = dubai.find_element(By.XPATH, '//span[@class=\"fcd9eec8fb a07dcf7ef3 bf9a32efa5\"]')\n",
    "sort.click()"
   ]
  },
  {
   "cell_type": "code",
   "execution_count": 125,
   "id": "7bb5c085",
   "metadata": {},
   "outputs": [],
   "source": [
    "high = dubai.find_element(By.XPATH, '//div[@class=\"f998a7c837 ec5d8a4630 ed9055eada da4aa3251d\"]/div/div/div/ul/li[3]')\n",
    "high.click()"
   ]
  },
  {
   "cell_type": "code",
   "execution_count": 4,
   "id": "4fdfaa5b",
   "metadata": {},
   "outputs": [
    {
     "data": {
      "text/plain": [
       "50"
      ]
     },
     "execution_count": 4,
     "metadata": {},
     "output_type": "execute_result"
    }
   ],
   "source": [
    "dubai_hotels_url = []\n",
    "\n",
    "start = 0\n",
    "end = 2\n",
    "for page in range(start,end):\n",
    "    url = dubai.find_elements(By.XPATH, '//h3[@class=\"aab71f8e4e\"]/a')\n",
    "    for i in url:\n",
    "        dubai_hotels_url.append(i.get_attribute('href')) \n",
    "    next_button = dubai.find_element(By.XPATH, '//div[3]/button/span/span[@class=\"fcd9eec8fb bf9a32efa5\"]')\n",
    "    next_button.click()\n",
    "    time.sleep(3)\n",
    "len(dubai_hotels_url)"
   ]
  },
  {
   "cell_type": "code",
   "execution_count": 28,
   "id": "feececad",
   "metadata": {},
   "outputs": [
    {
     "data": {
      "text/html": [
       "<div>\n",
       "<style scoped>\n",
       "    .dataframe tbody tr th:only-of-type {\n",
       "        vertical-align: middle;\n",
       "    }\n",
       "\n",
       "    .dataframe tbody tr th {\n",
       "        vertical-align: top;\n",
       "    }\n",
       "\n",
       "    .dataframe thead th {\n",
       "        text-align: right;\n",
       "    }\n",
       "</style>\n",
       "<table border=\"1\" class=\"dataframe\">\n",
       "  <thead>\n",
       "    <tr style=\"text-align: right;\">\n",
       "      <th></th>\n",
       "      <th>0</th>\n",
       "    </tr>\n",
       "  </thead>\n",
       "  <tbody>\n",
       "    <tr>\n",
       "      <th>0</th>\n",
       "      <td>https://www.booking.com/hotel/ae/heaven-escape...</td>\n",
       "    </tr>\n",
       "    <tr>\n",
       "      <th>1</th>\n",
       "      <td>https://www.booking.com/hotel/ae/sea-view-bran...</td>\n",
       "    </tr>\n",
       "    <tr>\n",
       "      <th>2</th>\n",
       "      <td>https://www.booking.com/hotel/ae/primestay-blu...</td>\n",
       "    </tr>\n",
       "    <tr>\n",
       "      <th>3</th>\n",
       "      <td>https://www.booking.com/hotel/ae/anantara-resi...</td>\n",
       "    </tr>\n",
       "    <tr>\n",
       "      <th>4</th>\n",
       "      <td>https://www.booking.com/hotel/ae/high-class-1b...</td>\n",
       "    </tr>\n",
       "    <tr>\n",
       "      <th>5</th>\n",
       "      <td>https://www.booking.com/hotel/ae/fam-living-ch...</td>\n",
       "    </tr>\n",
       "    <tr>\n",
       "      <th>6</th>\n",
       "      <td>https://www.booking.com/hotel/ae/klnzwave.en-g...</td>\n",
       "    </tr>\n",
       "    <tr>\n",
       "      <th>7</th>\n",
       "      <td>https://www.booking.com/hotel/ae/small-amp-qui...</td>\n",
       "    </tr>\n",
       "    <tr>\n",
       "      <th>8</th>\n",
       "      <td>https://www.booking.com/hotel/ae/studio-star.e...</td>\n",
       "    </tr>\n",
       "    <tr>\n",
       "      <th>9</th>\n",
       "      <td>https://www.booking.com/hotel/ae/loft-style-be...</td>\n",
       "    </tr>\n",
       "    <tr>\n",
       "      <th>10</th>\n",
       "      <td>https://www.booking.com/hotel/ae/spacious-amp-...</td>\n",
       "    </tr>\n",
       "    <tr>\n",
       "      <th>11</th>\n",
       "      <td>https://www.booking.com/hotel/ae/elegant-studi...</td>\n",
       "    </tr>\n",
       "    <tr>\n",
       "      <th>12</th>\n",
       "      <td>https://www.booking.com/hotel/ae/majestine-spa...</td>\n",
       "    </tr>\n",
       "    <tr>\n",
       "      <th>13</th>\n",
       "      <td>https://www.booking.com/hotel/ae/1br-apartment...</td>\n",
       "    </tr>\n",
       "    <tr>\n",
       "      <th>14</th>\n",
       "      <td>https://www.booking.com/hotel/ae/sweden-beach-...</td>\n",
       "    </tr>\n",
       "    <tr>\n",
       "      <th>15</th>\n",
       "      <td>https://www.booking.com/hotel/ae/modern-studio...</td>\n",
       "    </tr>\n",
       "    <tr>\n",
       "      <th>16</th>\n",
       "      <td>https://www.booking.com/hotel/ae/stwdyw-mfrwsh...</td>\n",
       "    </tr>\n",
       "    <tr>\n",
       "      <th>17</th>\n",
       "      <td>https://www.booking.com/hotel/ae/1-bed-fully-f...</td>\n",
       "    </tr>\n",
       "    <tr>\n",
       "      <th>18</th>\n",
       "      <td>https://www.booking.com/hotel/ae/360-vacation-...</td>\n",
       "    </tr>\n",
       "    <tr>\n",
       "      <th>19</th>\n",
       "      <td>https://www.booking.com/hotel/ae/elegant-amp-c...</td>\n",
       "    </tr>\n",
       "    <tr>\n",
       "      <th>20</th>\n",
       "      <td>https://www.booking.com/hotel/ae/stay-splendif...</td>\n",
       "    </tr>\n",
       "    <tr>\n",
       "      <th>21</th>\n",
       "      <td>https://www.booking.com/hotel/ae/frank-porter-...</td>\n",
       "    </tr>\n",
       "    <tr>\n",
       "      <th>22</th>\n",
       "      <td>https://www.booking.com/hotel/ae/refined-studi...</td>\n",
       "    </tr>\n",
       "    <tr>\n",
       "      <th>23</th>\n",
       "      <td>https://www.booking.com/hotel/ae/kvartira-stud...</td>\n",
       "    </tr>\n",
       "    <tr>\n",
       "      <th>24</th>\n",
       "      <td>https://www.booking.com/hotel/ae/phenomenal-re...</td>\n",
       "    </tr>\n",
       "    <tr>\n",
       "      <th>25</th>\n",
       "      <td>https://www.booking.com/hotel/ae/the-meydan.en...</td>\n",
       "    </tr>\n",
       "    <tr>\n",
       "      <th>26</th>\n",
       "      <td>https://www.booking.com/hotel/ae/mapvenpick-ju...</td>\n",
       "    </tr>\n",
       "    <tr>\n",
       "      <th>27</th>\n",
       "      <td>https://www.booking.com/hotel/ae/movenpick-grn...</td>\n",
       "    </tr>\n",
       "    <tr>\n",
       "      <th>28</th>\n",
       "      <td>https://www.booking.com/hotel/ae/crowne-plaza-...</td>\n",
       "    </tr>\n",
       "    <tr>\n",
       "      <th>29</th>\n",
       "      <td>https://www.booking.com/hotel/ae/taj-jumeirah-...</td>\n",
       "    </tr>\n",
       "    <tr>\n",
       "      <th>30</th>\n",
       "      <td>https://www.booking.com/hotel/ae/pullman-dubai...</td>\n",
       "    </tr>\n",
       "    <tr>\n",
       "      <th>31</th>\n",
       "      <td>https://www.booking.com/hotel/ae/indigo-dubai-...</td>\n",
       "    </tr>\n",
       "    <tr>\n",
       "      <th>32</th>\n",
       "      <td>https://www.booking.com/hotel/ae/hyatt-centric...</td>\n",
       "    </tr>\n",
       "    <tr>\n",
       "      <th>33</th>\n",
       "      <td>https://www.booking.com/hotel/ae/one-only-roya...</td>\n",
       "    </tr>\n",
       "    <tr>\n",
       "      <th>34</th>\n",
       "      <td>https://www.booking.com/hotel/ae/hyatt-regency...</td>\n",
       "    </tr>\n",
       "    <tr>\n",
       "      <th>35</th>\n",
       "      <td>https://www.booking.com/hotel/ae/park-regis-kr...</td>\n",
       "    </tr>\n",
       "    <tr>\n",
       "      <th>36</th>\n",
       "      <td>https://www.booking.com/hotel/ae/hilton-dubai-...</td>\n",
       "    </tr>\n",
       "    <tr>\n",
       "      <th>37</th>\n",
       "      <td>https://www.booking.com/hotel/ae/dukes.en-gb.h...</td>\n",
       "    </tr>\n",
       "    <tr>\n",
       "      <th>38</th>\n",
       "      <td>https://www.booking.com/hotel/ae/intercontinen...</td>\n",
       "    </tr>\n",
       "    <tr>\n",
       "      <th>39</th>\n",
       "      <td>https://www.booking.com/hotel/ae/radisson-blu-...</td>\n",
       "    </tr>\n",
       "    <tr>\n",
       "      <th>40</th>\n",
       "      <td>https://www.booking.com/hotel/ae/radisson-blu-...</td>\n",
       "    </tr>\n",
       "    <tr>\n",
       "      <th>41</th>\n",
       "      <td>https://www.booking.com/hotel/ae/le-royal-meri...</td>\n",
       "    </tr>\n",
       "    <tr>\n",
       "      <th>42</th>\n",
       "      <td>https://www.booking.com/hotel/ae/millennium-at...</td>\n",
       "    </tr>\n",
       "    <tr>\n",
       "      <th>43</th>\n",
       "      <td>https://www.booking.com/hotel/ae/the-downtown-...</td>\n",
       "    </tr>\n",
       "    <tr>\n",
       "      <th>44</th>\n",
       "      <td>https://www.booking.com/hotel/ae/the-tower-pla...</td>\n",
       "    </tr>\n",
       "    <tr>\n",
       "      <th>45</th>\n",
       "      <td>https://www.booking.com/hotel/ae/canvas-dubai-...</td>\n",
       "    </tr>\n",
       "    <tr>\n",
       "      <th>46</th>\n",
       "      <td>https://www.booking.com/hotel/ae/my-places-dub...</td>\n",
       "    </tr>\n",
       "    <tr>\n",
       "      <th>47</th>\n",
       "      <td>https://www.booking.com/hotel/ae/ocean-view.en...</td>\n",
       "    </tr>\n",
       "    <tr>\n",
       "      <th>48</th>\n",
       "      <td>https://www.booking.com/hotel/ae/sheraton-duba...</td>\n",
       "    </tr>\n",
       "    <tr>\n",
       "      <th>49</th>\n",
       "      <td>https://www.booking.com/hotel/ae/sofitel-dubai...</td>\n",
       "    </tr>\n",
       "  </tbody>\n",
       "</table>\n",
       "</div>"
      ],
      "text/plain": [
       "                                                    0\n",
       "0   https://www.booking.com/hotel/ae/heaven-escape...\n",
       "1   https://www.booking.com/hotel/ae/sea-view-bran...\n",
       "2   https://www.booking.com/hotel/ae/primestay-blu...\n",
       "3   https://www.booking.com/hotel/ae/anantara-resi...\n",
       "4   https://www.booking.com/hotel/ae/high-class-1b...\n",
       "5   https://www.booking.com/hotel/ae/fam-living-ch...\n",
       "6   https://www.booking.com/hotel/ae/klnzwave.en-g...\n",
       "7   https://www.booking.com/hotel/ae/small-amp-qui...\n",
       "8   https://www.booking.com/hotel/ae/studio-star.e...\n",
       "9   https://www.booking.com/hotel/ae/loft-style-be...\n",
       "10  https://www.booking.com/hotel/ae/spacious-amp-...\n",
       "11  https://www.booking.com/hotel/ae/elegant-studi...\n",
       "12  https://www.booking.com/hotel/ae/majestine-spa...\n",
       "13  https://www.booking.com/hotel/ae/1br-apartment...\n",
       "14  https://www.booking.com/hotel/ae/sweden-beach-...\n",
       "15  https://www.booking.com/hotel/ae/modern-studio...\n",
       "16  https://www.booking.com/hotel/ae/stwdyw-mfrwsh...\n",
       "17  https://www.booking.com/hotel/ae/1-bed-fully-f...\n",
       "18  https://www.booking.com/hotel/ae/360-vacation-...\n",
       "19  https://www.booking.com/hotel/ae/elegant-amp-c...\n",
       "20  https://www.booking.com/hotel/ae/stay-splendif...\n",
       "21  https://www.booking.com/hotel/ae/frank-porter-...\n",
       "22  https://www.booking.com/hotel/ae/refined-studi...\n",
       "23  https://www.booking.com/hotel/ae/kvartira-stud...\n",
       "24  https://www.booking.com/hotel/ae/phenomenal-re...\n",
       "25  https://www.booking.com/hotel/ae/the-meydan.en...\n",
       "26  https://www.booking.com/hotel/ae/mapvenpick-ju...\n",
       "27  https://www.booking.com/hotel/ae/movenpick-grn...\n",
       "28  https://www.booking.com/hotel/ae/crowne-plaza-...\n",
       "29  https://www.booking.com/hotel/ae/taj-jumeirah-...\n",
       "30  https://www.booking.com/hotel/ae/pullman-dubai...\n",
       "31  https://www.booking.com/hotel/ae/indigo-dubai-...\n",
       "32  https://www.booking.com/hotel/ae/hyatt-centric...\n",
       "33  https://www.booking.com/hotel/ae/one-only-roya...\n",
       "34  https://www.booking.com/hotel/ae/hyatt-regency...\n",
       "35  https://www.booking.com/hotel/ae/park-regis-kr...\n",
       "36  https://www.booking.com/hotel/ae/hilton-dubai-...\n",
       "37  https://www.booking.com/hotel/ae/dukes.en-gb.h...\n",
       "38  https://www.booking.com/hotel/ae/intercontinen...\n",
       "39  https://www.booking.com/hotel/ae/radisson-blu-...\n",
       "40  https://www.booking.com/hotel/ae/radisson-blu-...\n",
       "41  https://www.booking.com/hotel/ae/le-royal-meri...\n",
       "42  https://www.booking.com/hotel/ae/millennium-at...\n",
       "43  https://www.booking.com/hotel/ae/the-downtown-...\n",
       "44  https://www.booking.com/hotel/ae/the-tower-pla...\n",
       "45  https://www.booking.com/hotel/ae/canvas-dubai-...\n",
       "46  https://www.booking.com/hotel/ae/my-places-dub...\n",
       "47  https://www.booking.com/hotel/ae/ocean-view.en...\n",
       "48  https://www.booking.com/hotel/ae/sheraton-duba...\n",
       "49  https://www.booking.com/hotel/ae/sofitel-dubai..."
      ]
     },
     "execution_count": 28,
     "metadata": {},
     "output_type": "execute_result"
    }
   ],
   "source": [
    "dubaiurlhotels = pd.DataFrame(dubai_hotels_url)\n",
    "dubaiurlhotels"
   ]
  },
  {
   "cell_type": "code",
   "execution_count": 29,
   "id": "9c365554",
   "metadata": {},
   "outputs": [
    {
     "data": {
      "text/plain": [
       "0    50\n",
       "dtype: int64"
      ]
     },
     "execution_count": 29,
     "metadata": {},
     "output_type": "execute_result"
    }
   ],
   "source": [
    "dubaiurlhotels.nunique()"
   ]
  },
  {
   "cell_type": "markdown",
   "id": "d7a45ad6",
   "metadata": {},
   "source": [
    "Data1.csv : sno, Hotel name ,cities, location, number of reviews, user ratings, star rating, review score"
   ]
  },
  {
   "cell_type": "code",
   "execution_count": 30,
   "id": "7bfbd70f",
   "metadata": {},
   "outputs": [
    {
     "name": "stdout",
     "output_type": "stream",
     "text": [
      "['Heaven Escape surrounded by stunning golf view High floor -Netflix-GYM-pool -perfect vacations', '2 Bedroom Apt with Sea View', 'Primestay - Bluewaters Residences 2BR, Dubai', 'Anantara Residences Palm Jumeirah', 'High Class 1BHK/Binghatti Mirage', 'FAM Living - Chic 1BR in Zada Tower near Dubai Mall & Metro', 'KLNZwave', 'Quiet Studio with Balcony and Roof Top Pool in Dubai Marina', 'STUDIO STAR', 'Loft Style Partition Room in Shared Apartment in Al Barsha 1 Near MOE Metro', 'The Retreat - Elevate Your Stay in Sports City', 'Elegant Studio at DAMAC Lincoln Park A Arjan-Dubailand by Deluxe Holiday Homes', 'Majestine - Spacious Studio', '1BR Apartment in Harbour Views-Creek Marina view', 'Sweden Beach Palace', 'Modern Studio, Jadaf', 'استوديو مفروش فاخر للايجار', 'One Bed Fully Furnished Apartment in Dubai Hills', '360 Vacation - Classic Studio in the Heart of the Marina', 'Elegant & Chic 1BR Apt w/ Full swimming pool View', 'STAY Splendiferous 1BR Holiday Home near Downtown', 'Frank Porter - Reva Residences', 'Refined Studio-Ghalia Tower', 'Квартира студия Damac Maison Cour Jardin', 'Phenomenal Retreat from the Real World', 'The Meydan Hotel Dubai', 'Mövenpick Hotel Jumeirah Lakes Towers Dubai', 'Grand Plaza Mövenpick', 'Crowne Plaza - Dubai Jumeirah, an IHG Hotel', 'Taj Jumeirah Lakes Towers', 'Pullman Dubai Downtown', 'Hotel Indigo Dubai Downtown, an IHG Hotel', 'Hyatt Centric Jumeirah Dubai', 'One&Only Royal Mirage Resort Dubai at Jumeirah Beach', 'Hyatt Regency Dubai - Corniche', 'Park Regis Kris Kin Hotel', 'Hilton Dubai Al Habtoor City', 'Dukes The Palm, a Royal Hideaway Hotel', 'InterContinental Dubai Festival City, an IHG Hotel', 'Radisson Blu Hotel, Dubai Canal View', 'Radisson Blu Hotel, Dubai Waterfront', 'Le Royal Meridien Beach Resort & Spa Dubai', 'Millennium Atria Business Bay', 'The Dubai EDITION', 'The Tower Plaza Hotel Dubai', 'The Canvas Dubai - MGallery Hotel Collection', 'My-Places Dubai Apartment suitable for large groups Al Sahab 1', 'JA Ocean View Hotel', 'Sheraton Dubai Creek Hotel & Towers', 'Sofitel Dubai Downtown']\n"
     ]
    }
   ],
   "source": [
    "hotel = []\n",
    "for i in dubai_hotels_url:\n",
    "    dubai.get(i)\n",
    "    try:\n",
    "        hotels = dubai.find_element(By.XPATH,'//h2[@class=\"d2fee87262 pp-header__title\"]')\n",
    "        hotel.append(hotels.text)\n",
    "    except NoSuchElementException:\n",
    "        hotel.append(' ')\n",
    "\n",
    "print(hotel)"
   ]
  },
  {
   "cell_type": "code",
   "execution_count": 31,
   "id": "9db25dd6",
   "metadata": {},
   "outputs": [
    {
     "name": "stdout",
     "output_type": "stream",
     "text": [
      "['Dubai', 'Dubai', 'Dubai', 'Dubai', 'Dubai', 'Dubai', 'Dubai', 'Dubai', 'Dubai', 'Dubai', 'Dubai', 'Dubai', 'Dubai', 'Dubai', 'Dubai', 'Dubai', 'Dubai', 'Dubai', 'Dubai', 'Dubai', 'Dubai', 'Dubai', 'Dubai', 'Dubai', 'Dubai', ' ', 'Jumeirah Lakes Towers', 'Dubai Internet City', ' ', 'Jumeirah Lakes Towers', ' ', ' ', ' ', 'Dubai', ' ', 'Bur Dubai', ' ', 'Dubai', 'Dubai Festival City', ' ', ' ', 'Dubai', 'Dubai', 'Downtown Dubai', 'Trade Centre', 'Bur Dubai', 'Dubai', 'Jumeirah Beach Residence', ' ', 'Downtown Dubai']\n"
     ]
    }
   ],
   "source": [
    "city= []\n",
    "for i in dubai_hotels_url:\n",
    "    dubai.get(i)\n",
    "    try:\n",
    "        cities = dubai.find_element(By.XPATH, '//li[5]/div[@class=\"bui-breadcrumb__text\"]/a')\n",
    "        city.append(cities.text)\n",
    "    except NoSuchElementException:\n",
    "        city.append(' ')\n",
    "print(city)"
   ]
  },
  {
   "cell_type": "code",
   "execution_count": 32,
   "id": "9ce340fa",
   "metadata": {},
   "outputs": [
    {
     "name": "stdout",
     "output_type": "stream",
     "text": [
      "['Dmac Hills, carson tower A, Dubai, United Arab Emirates', 'Dubai Marina, Dubai Marina, Dubai, United Arab Emirates', 'BLUEWATERS building 5, Dubai, United Arab Emirates', 'Crescent Road Anantara Residences, Palm Jumeirah, Dubai, United Arab Emirates', 'Street 15, District 10, قرية جميرا الدائرية - قرية جميرا - دبي - United Arab Emirates, Dubai, United Arab Emirates', 'Zada Tower, Business Bay, Dubai, United Arab Emirates', 'شارع دبي العين, Dubai, United Arab Emirates', 'Dubai Marina Manchester Tower Apto 206, Dubai Marina, Dubai, United Arab Emirates', 'Al Murar, Street 22, Dubai, United Arab Emirates', 'Al Barsha 1, Al Barsha, Dubai, United Arab Emirates', 'Dubai Sports City The Matrix Tower, Dubai, United Arab Emirates', '27, 13 Street Arjan, Al Barsha South 3, Hadaeq Mohammed Bin Rashid, Dubai, United Arab Emirates', 'Damac Majestine, Dubai, United Arab Emirates', 'Harbour Views Tower 2 Al Kheeran First, Dubai Creek Harbour Unit 2008, Dubai, United Arab Emirates', 'Europe Island, The Heart of Europe - The World Islands - Dubai, Dubai, United Arab Emirates', 'Farhad azizi, Bur Dubai, Dubai, United Arab Emirates', 'Liwan -mazaya 33 217, Dubai, United Arab Emirates', 'Dubai Hills Estate , Park Ridge Tower C 1502, Dubai, United Arab Emirates', 'Dubai Marina Marina Diamond 1, Dubai Marina, Dubai, United Arab Emirates', 'Al Furjan, Dubai, United Arab Emirates', 'A702, Sobha Creek Vistas Reserve Tower A, Sobha Hartland, Nad Al Sheba 1, Dubai, United Arab Emirates', 'Marasi Drive, Dubai, United Arab Emirates', 'JVC-Ghalia Tower 12, Dubai, United Arab Emirates', '34 Marasi Drive Street / 2, 5 Street 3, Dubai, United Arab Emirates', 'JVC, Street 5 415, Dubai, United Arab Emirates', 'The Meydan Hotel, Meydan Racecourse, Nad Al Sheba, P.O. Box 9305, 9305 Dubai, United Arab Emirates', 'Cluster A, Jumeirah Lakes Towers, Jumeirah Lakes Towers, 454439 Dubai, United Arab Emirates', 'Dubai Media City, Sheikh Zayed Road, Opposite The Innovation Hub, Dubai Internet City, Dubai, United Arab Emirates', 'Al Mina Road, 121122 Dubai, United Arab Emirates', 'DMCC Plot No. 2-27, Al Thanyah, Jumeirah Lakes Towers PO Box 120810, Dubai, Jumeirah Lakes Towers, Dubai, United Arab Emirates', 'Marasi Drive, Business Bay, Dubai, United Arab Emirates', 'Marasi Drive, 24666 Dubai, United Arab Emirates', 'La Mer Beach, Jumeirah 1, Dubai, United Arab Emirates', 'King Salman bin Abdulaziz Al Saud St, Al Sufouh, Dubai, United Arab Emirates', 'Deira, Dubai, United Arab Emirates', 'Sheikh Khalifah Bin Zayed St. Opp Burjuman Centre, Bur Dubai, Dubai, United Arab Emirates', 'Al Habtoor City, Sheikh Zayed Road, Dubai, United Arab Emirates', 'Palm Jumeirah Dubai, Palm Jumeirah, Dubai, United Arab Emirates', 'Dubai, Dubai Festival City, Dubai, United Arab Emirates', 'Marasi Drive, Business bay, PO Box 16021, Dubai, United Arab Emirates', 'Al Abraaj Street, Business Bay, Dubai, United Arab Emirates', 'Al Mamsha Street, Jumeirah Beach Residence, Dubai, United Arab Emirates', 'Al Abraj Street, Dubai, United Arab Emirates', 'Downtown Dubai, Downtown Dubai, 11788 Dubai, United Arab Emirates', 'Sheikh Zayed Road, Trade Centre, Dubai, United Arab Emirates', 'Kuwait Street, 23, Bur Dubai, 116656 Dubai, United Arab Emirates', 'Al Sahab 1, Dubai Marina, Dubai Marina, Dubai, United Arab Emirates', 'Jumeirah Beach Residence, The Walk JBR, Jumeirah Beach Residence, Dubai, United Arab Emirates', 'Baniyas Street, Dubai, United Arab Emirates', 'Sheikh Zayed Road, beside Burj Khalifa Metro Station, Downtown Dubai, Dubai, United Arab Emirates']\n"
     ]
    }
   ],
   "source": [
    "location = []\n",
    "for i in dubai_hotels_url:\n",
    "    dubai.get(i)\n",
    "    try:\n",
    "        locations = dubai.find_element(By.XPATH, '//span[@data-source=\"top_link\"]')\n",
    "        location.append(locations.text)\n",
    "    except NoSuchElementException:\n",
    "        location.append(' ')\n",
    "print(location)"
   ]
  },
  {
   "cell_type": "code",
   "execution_count": 33,
   "id": "f07df6fc",
   "metadata": {},
   "outputs": [
    {
     "name": "stdout",
     "output_type": "stream",
     "text": [
      "['2', '', '', '', '', '', '', '5', '', '2', '', '4', '', '', '', '', '', '4', '5', '', '', '', '3', '', '', '9,860', '2,455', '3,336', '1,445', '4,396', '4,181', '2,779', '1,080', '1,314', '5,705', '2,643', '3,299', '6,200', '2,499', '5,755', '9,758', '2,290', '5,593', '2,345', '6,701', '2,515', '2', '4,971', '2,445', '3,984']\n"
     ]
    }
   ],
   "source": [
    "reviews_no = []\n",
    "for i in dubai_hotels_url:\n",
    "    dubai.get(i)\n",
    "    try:\n",
    "        review_no = dubai.find_element(By.XPATH, '//a/div/div/div/div/div[@class=\"abf093bdfe f45d8e4c32 d935416c47\"]')\n",
    "        reviews_no.append(review_no.text.split(' ')[0])\n",
    "    except NoSuchElementException:\n",
    "        reviews_no.append('')\n",
    "print(reviews_no)"
   ]
  },
  {
   "cell_type": "code",
   "execution_count": 34,
   "id": "d6a36c33",
   "metadata": {},
   "outputs": [
    {
     "name": "stdout",
     "output_type": "stream",
     "text": [
      "['Very good', '', '', '', '', '', '', '9.2 Superb', '', 'Passable', '', '5.5 Passable', '', '', '', '', '', '10 Exceptional', '9.0 Superb', '', '', '', '10 Exceptional', '', '', 'Fabulous', 'Good', 'Superb', 'Very good', 'Fabulous', 'Very good', 'Fabulous', 'Fabulous', 'Superb', 'Good', 'Good', 'Very good', 'Very good', 'Fabulous', 'Fabulous', 'Very good', 'Superb', 'Very good', 'Superb', 'Good', 'Good', 'Exceptional', 'Very good', 'Very good', 'Very good']\n"
     ]
    }
   ],
   "source": [
    "user_ratings = []\n",
    "for i in dubai_hotels_url:\n",
    "    dubai.get(i)\n",
    "    time.sleep(3)\n",
    "    try:\n",
    "        user_rating = dubai.find_element(By.XPATH, '//div/span[@class=\"a3b8729ab1 e6208ee469 cb2cbb3ccb\"]')\n",
    "        user_ratings.append(user_rating.text)\n",
    "    except NoSuchElementException:\n",
    "        user_ratings.append('')\n",
    "print(user_ratings)"
   ]
  },
  {
   "cell_type": "code",
   "execution_count": 35,
   "id": "40a793a6",
   "metadata": {},
   "outputs": [
    {
     "name": "stdout",
     "output_type": "stream",
     "text": [
      "['img', '', 'img', 'img', 'img', 'img', 'img', 'img', '', '', 'img', 'img', 'img', 'img', '', '', '', 'img', 'img', 'img', 'img', 'img', 'img', 'img', '', 'img', 'img', 'img', 'img', 'img', 'img', 'img', 'img', 'img', 'img', 'img', 'img', 'img', 'img', 'img', 'img', 'img', 'img', 'img', 'img', 'img', 'img', 'img', 'img', 'img']\n"
     ]
    }
   ],
   "source": [
    "star_rating = []\n",
    "for i in dubai_hotels_url:\n",
    "    dubai.get(i)\n",
    "    try:\n",
    "        star_ratings = dubai.find_element(By.XPATH, '//div[@class=\"aca0ade214 aaf30230d9 c2931f4182\"]/span/div/span')\n",
    "        star_rating.append(star_ratings.get_attribute('role'))\n",
    "    except NoSuchElementException:\n",
    "        star_rating.append('')\n",
    "print(star_rating)"
   ]
  },
  {
   "cell_type": "code",
   "execution_count": 36,
   "id": "702dc1c1",
   "metadata": {},
   "outputs": [
    {
     "name": "stdout",
     "output_type": "stream",
     "text": [
      "['8.5', '', '', '', '', '', '', '9.2 Superb', '', '5.5', '', '5.5 Passable', '', '', '', '', '', '10 Exceptional', '9.0 Superb', '', '', '', '10 Exceptional', '', '', '8.9', '7.8', '9.0', '8.2', '8.7', '8.1', '8.9', '8.6', '9.0', '7.9', '7.9', '8.3', '8.3', '8.7', '8.6', '8.2', '9.2', '8.5', '9.1', '7.9', '7.4', '10', '8.3', '8.4', '8.5']\n"
     ]
    }
   ],
   "source": [
    "review_score = []\n",
    "for i in dubai_hotels_url:\n",
    "    dubai.get(i)\n",
    "    try:\n",
    "        review_scores = dubai.find_element(By.XPATH, '//button[@class=\"a83ed08757\"]/div/div/div[1]')\n",
    "        review_score.append(review_scores.text)\n",
    "    except NoSuchElementException:\n",
    "        review_score.append('')\n",
    "print(review_score)"
   ]
  },
  {
   "cell_type": "code",
   "execution_count": 37,
   "id": "adf0a120",
   "metadata": {},
   "outputs": [
    {
     "data": {
      "text/plain": [
       "(50, 50, 50, 50, 50, 50, 50)"
      ]
     },
     "execution_count": 37,
     "metadata": {},
     "output_type": "execute_result"
    }
   ],
   "source": [
    "len(hotel), len(city), len(location), len(reviews_no), len(user_ratings), len(star_rating), len(review_score)"
   ]
  },
  {
   "cell_type": "code",
   "execution_count": 38,
   "id": "c5d0d117",
   "metadata": {},
   "outputs": [],
   "source": [
    "dubai.close()"
   ]
  },
  {
   "cell_type": "markdown",
   "id": "03f39d0d",
   "metadata": {},
   "source": [
    "### London"
   ]
  },
  {
   "cell_type": "code",
   "execution_count": 153,
   "id": "5c11cbe3",
   "metadata": {},
   "outputs": [],
   "source": [
    "london = webdriver.Chrome()\n",
    "london.get('https://shorturl.at/hpSV9')"
   ]
  },
  {
   "cell_type": "code",
   "execution_count": 154,
   "id": "1b24510f",
   "metadata": {},
   "outputs": [],
   "source": [
    "search = london.find_element(By.XPATH, '//input[@class=\"eb46370fe1\"]')\n",
    "search.send_keys('london')\n",
    "time.sleep(5)"
   ]
  },
  {
   "cell_type": "code",
   "execution_count": 155,
   "id": "ede0539d",
   "metadata": {},
   "outputs": [],
   "source": [
    "button = london.find_element(By.XPATH, '//button[@class=\"a83ed08757 c21c56c305 a4c1805887 f671049264 d2529514af c082d89982 cceeb8986b\"]')\n",
    "button.click()"
   ]
  },
  {
   "cell_type": "code",
   "execution_count": 156,
   "id": "c05b61f5",
   "metadata": {},
   "outputs": [],
   "source": [
    "cookie = london.find_element(By.ID, 'onetrust-accept-btn-handler')\n",
    "cookie.click()"
   ]
  },
  {
   "cell_type": "code",
   "execution_count": 157,
   "id": "ad4f1cca",
   "metadata": {},
   "outputs": [],
   "source": [
    "sort = london.find_element(By.XPATH, '//span[@class=\"fcd9eec8fb a07dcf7ef3 bf9a32efa5\"]')\n",
    "sort.click()"
   ]
  },
  {
   "cell_type": "code",
   "execution_count": 158,
   "id": "475f0c78",
   "metadata": {},
   "outputs": [],
   "source": [
    "high = london.find_element(By.XPATH, '//div[@class=\"f998a7c837 ec5d8a4630 ed9055eada da4aa3251d\"]/div/div/div/ul/li[3]')\n",
    "high.click()"
   ]
  },
  {
   "cell_type": "code",
   "execution_count": 45,
   "id": "375607c9",
   "metadata": {},
   "outputs": [
    {
     "data": {
      "text/plain": [
       "50"
      ]
     },
     "execution_count": 45,
     "metadata": {},
     "output_type": "execute_result"
    }
   ],
   "source": [
    "london_hotels_url = []\n",
    "\n",
    "start = 0\n",
    "end = 2\n",
    "for page in range(start,end):\n",
    "    url = london.find_elements(By.XPATH, '//h3[@class=\"aab71f8e4e\"]/a')\n",
    "    for i in url:\n",
    "        london_hotels_url.append(i.get_attribute('href')) \n",
    "    next_button = london.find_element(By.XPATH, '//div[3]/button/span/span[@class=\"fcd9eec8fb bf9a32efa5\"]')\n",
    "    next_button.click()\n",
    "    time.sleep(3)\n",
    "len(london_hotels_url)"
   ]
  },
  {
   "cell_type": "code",
   "execution_count": 46,
   "id": "cb9de525",
   "metadata": {},
   "outputs": [
    {
     "name": "stdout",
     "output_type": "stream",
     "text": [
      "['Heaven Escape surrounded by stunning golf view High floor -Netflix-GYM-pool -perfect vacations', '2 Bedroom Apt with Sea View', 'Primestay - Bluewaters Residences 2BR, Dubai', 'Anantara Residences Palm Jumeirah', 'High Class 1BHK/Binghatti Mirage', 'FAM Living - Chic 1BR in Zada Tower near Dubai Mall & Metro', 'KLNZwave', 'Quiet Studio with Balcony and Roof Top Pool in Dubai Marina', 'STUDIO STAR', 'Loft Style Partition Room in Shared Apartment in Al Barsha 1 Near MOE Metro', 'The Retreat - Elevate Your Stay in Sports City', 'Elegant Studio at DAMAC Lincoln Park A Arjan-Dubailand by Deluxe Holiday Homes', 'Majestine - Spacious Studio', '1BR Apartment in Harbour Views-Creek Marina view', 'Sweden Beach Palace', 'Modern Studio, Jadaf', 'استوديو مفروش فاخر للايجار', 'One Bed Fully Furnished Apartment in Dubai Hills', '360 Vacation - Classic Studio in the Heart of the Marina', 'Elegant & Chic 1BR Apt w/ Full swimming pool View', 'STAY Splendiferous 1BR Holiday Home near Downtown', 'Frank Porter - Reva Residences', 'Refined Studio-Ghalia Tower', 'Квартира студия Damac Maison Cour Jardin', 'Phenomenal Retreat from the Real World', 'The Meydan Hotel Dubai', 'Mövenpick Hotel Jumeirah Lakes Towers Dubai', 'Grand Plaza Mövenpick', 'Crowne Plaza - Dubai Jumeirah, an IHG Hotel', 'Taj Jumeirah Lakes Towers', 'Pullman Dubai Downtown', 'Hotel Indigo Dubai Downtown, an IHG Hotel', 'Hyatt Centric Jumeirah Dubai', 'One&Only Royal Mirage Resort Dubai at Jumeirah Beach', 'Hyatt Regency Dubai - Corniche', 'Park Regis Kris Kin Hotel', 'Hilton Dubai Al Habtoor City', 'Dukes The Palm, a Royal Hideaway Hotel', 'InterContinental Dubai Festival City, an IHG Hotel', 'Radisson Blu Hotel, Dubai Canal View', 'Radisson Blu Hotel, Dubai Waterfront', 'Le Royal Meridien Beach Resort & Spa Dubai', 'Millennium Atria Business Bay', 'The Dubai EDITION', 'The Tower Plaza Hotel Dubai', 'The Canvas Dubai - MGallery Hotel Collection', 'My-Places Dubai Apartment suitable for large groups Al Sahab 1', 'JA Ocean View Hotel', 'Sheraton Dubai Creek Hotel & Towers', 'Sofitel Dubai Downtown', 'Daisy’s Place in London', 'The Park Road Collection', 'Kennington retreat with garden + king bed', 'Beautiful 2 bedroom flat in Battersea', 'Immaculate Ensuite Room Crystal Palace London SE20', 'Two Bedroom Apartment in London Harlesden', 'GuestReady - Modern Hideaway near Stamford Bridge', 'Deluxe Spacious Room Near London Bridge!', 'The Belsize Park Collection', 'Veeve - Edwardian Soul', 'The Old Street Apartment', 'East End 1 Bed W/ Gated Parking', 'Large Apartment in Central London', 'Britton London Penthouse', 'Refurbished central apartment', 'Minet Gardens Central - Suite 3', '3BR house a perfect group getaway', 'The Fulham Collection', 'The Paddington Collection', 'The Kensington Cradle - Lovely 2BDR Flat', 'Whitechapel Lindley St R1', 'The Wembley Central Collection', 'The Highbury Collection', 'Iconic 2BR House Steps Away from Baker St', 'Prime Modern luxury flat w/patio', 'Veeve - Revitalising in Kensal Rise', '1 Hotel Mayfair', 'Shangri-La The Shard, London', \"Inhabit, Queen's Gardens\", 'Veeve - Classic Contemporary', 'The Marble Arch London', 'Sea Containers London', 'The Stratford Hotel London', 'The Soho Hotel, Firmdale Hotels', 'Veeve - Walham Grove Gallery', 'Radisson Blu Edwardian Hampshire Hotel, London', 'London Hilton on Park Lane', 'Veeve - The Call of the Glitter Ball', 'The Academy - Small Luxury Hotels of the World', 'The Standard London', 'The Savoy', 'The Exhibitionist Hotel', \"Veeve - Queen's Club Tranquillity\", 'Montcalm East, Autograph Collection', 'The Langham London', 'West Point', 'The Kensington Hotel', 'The Stafford London', 'Hyatt Regency London Blackfriars', 'Central London Apartment - Great Location']\n"
     ]
    }
   ],
   "source": [
    "for i in london_hotels_url:\n",
    "    london.get(i)\n",
    "    try:\n",
    "        hotels = london.find_element(By.XPATH,'//h2[@class=\"d2fee87262 pp-header__title\"]')\n",
    "        hotel.append(hotels.text)\n",
    "    except NoSuchElementException:\n",
    "        hotel.append(' ')\n",
    "\n",
    "print(hotel)"
   ]
  },
  {
   "cell_type": "code",
   "execution_count": 47,
   "id": "2752cd16",
   "metadata": {},
   "outputs": [
    {
     "name": "stdout",
     "output_type": "stream",
     "text": [
      "['Dubai', 'Dubai', 'Dubai', 'Dubai', 'Dubai', 'Dubai', 'Dubai', 'Dubai', 'Dubai', 'Dubai', 'Dubai', 'Dubai', 'Dubai', 'Dubai', 'Dubai', 'Dubai', 'Dubai', 'Dubai', 'Dubai', 'Dubai', 'Dubai', 'Dubai', 'Dubai', 'Dubai', 'Dubai', ' ', 'Jumeirah Lakes Towers', 'Dubai Internet City', ' ', 'Jumeirah Lakes Towers', ' ', ' ', ' ', 'Dubai', ' ', 'Bur Dubai', ' ', 'Dubai', 'Dubai Festival City', ' ', ' ', 'Dubai', 'Dubai', 'Downtown Dubai', 'Trade Centre', 'Bur Dubai', 'Dubai', 'Jumeirah Beach Residence', ' ', 'Downtown Dubai', 'London', 'London', 'London', 'London', 'London', 'London', 'London', 'London', 'London', 'London', 'London', 'London', 'London', 'London', 'London', 'London', 'London', 'London', 'London', 'London', 'London', 'London', 'London', 'London', 'London', 'London', 'Westminster Borough', 'Southwark', 'Westminster Borough', 'London', 'Westminster Borough', 'Southwark', 'Newham', 'Westminster Borough', 'London', 'Westminster Borough', 'Westminster Borough', 'London', 'Camden', 'Camden', 'Westminster Borough', 'Kensington and Chelsea', 'London', 'Hackney', 'Westminster Borough', 'London', 'Kensington and Chelsea', 'Westminster Borough', 'City of London', 'London']\n"
     ]
    }
   ],
   "source": [
    "for i in london_hotels_url:\n",
    "    london.get(i)\n",
    "    try:\n",
    "        cities = london.find_element(By.XPATH,'//li[5]/div[@class=\"bui-breadcrumb__text\"]/a')\n",
    "        city.append(cities.text)\n",
    "    except NoSuchElementException:\n",
    "        city.append('')\n",
    "print(city)"
   ]
  },
  {
   "cell_type": "code",
   "execution_count": 48,
   "id": "729bcd93",
   "metadata": {},
   "outputs": [
    {
     "name": "stdout",
     "output_type": "stream",
     "text": [
      "['Dmac Hills, carson tower A, Dubai, United Arab Emirates', 'Dubai Marina, Dubai Marina, Dubai, United Arab Emirates', 'BLUEWATERS building 5, Dubai, United Arab Emirates', 'Crescent Road Anantara Residences, Palm Jumeirah, Dubai, United Arab Emirates', 'Street 15, District 10, قرية جميرا الدائرية - قرية جميرا - دبي - United Arab Emirates, Dubai, United Arab Emirates', 'Zada Tower, Business Bay, Dubai, United Arab Emirates', 'شارع دبي العين, Dubai, United Arab Emirates', 'Dubai Marina Manchester Tower Apto 206, Dubai Marina, Dubai, United Arab Emirates', 'Al Murar, Street 22, Dubai, United Arab Emirates', 'Al Barsha 1, Al Barsha, Dubai, United Arab Emirates', 'Dubai Sports City The Matrix Tower, Dubai, United Arab Emirates', '27, 13 Street Arjan, Al Barsha South 3, Hadaeq Mohammed Bin Rashid, Dubai, United Arab Emirates', 'Damac Majestine, Dubai, United Arab Emirates', 'Harbour Views Tower 2 Al Kheeran First, Dubai Creek Harbour Unit 2008, Dubai, United Arab Emirates', 'Europe Island, The Heart of Europe - The World Islands - Dubai, Dubai, United Arab Emirates', 'Farhad azizi, Bur Dubai, Dubai, United Arab Emirates', 'Liwan -mazaya 33 217, Dubai, United Arab Emirates', 'Dubai Hills Estate , Park Ridge Tower C 1502, Dubai, United Arab Emirates', 'Dubai Marina Marina Diamond 1, Dubai Marina, Dubai, United Arab Emirates', 'Al Furjan, Dubai, United Arab Emirates', 'A702, Sobha Creek Vistas Reserve Tower A, Sobha Hartland, Nad Al Sheba 1, Dubai, United Arab Emirates', 'Marasi Drive, Dubai, United Arab Emirates', 'JVC-Ghalia Tower 12, Dubai, United Arab Emirates', '34 Marasi Drive Street / 2, 5 Street 3, Dubai, United Arab Emirates', 'JVC, Street 5 415, Dubai, United Arab Emirates', 'The Meydan Hotel, Meydan Racecourse, Nad Al Sheba, P.O. Box 9305, 9305 Dubai, United Arab Emirates', 'Cluster A, Jumeirah Lakes Towers, Jumeirah Lakes Towers, 454439 Dubai, United Arab Emirates', 'Dubai Media City, Sheikh Zayed Road, Opposite The Innovation Hub, Dubai Internet City, Dubai, United Arab Emirates', 'Al Mina Road, 121122 Dubai, United Arab Emirates', 'DMCC Plot No. 2-27, Al Thanyah, Jumeirah Lakes Towers PO Box 120810, Dubai, Jumeirah Lakes Towers, Dubai, United Arab Emirates', 'Marasi Drive, Business Bay, Dubai, United Arab Emirates', 'Marasi Drive, 24666 Dubai, United Arab Emirates', 'La Mer Beach, Jumeirah 1, Dubai, United Arab Emirates', 'King Salman bin Abdulaziz Al Saud St, Al Sufouh, Dubai, United Arab Emirates', 'Deira, Dubai, United Arab Emirates', 'Sheikh Khalifah Bin Zayed St. Opp Burjuman Centre, Bur Dubai, Dubai, United Arab Emirates', 'Al Habtoor City, Sheikh Zayed Road, Dubai, United Arab Emirates', 'Palm Jumeirah Dubai, Palm Jumeirah, Dubai, United Arab Emirates', 'Dubai, Dubai Festival City, Dubai, United Arab Emirates', 'Marasi Drive, Business bay, PO Box 16021, Dubai, United Arab Emirates', 'Al Abraaj Street, Business Bay, Dubai, United Arab Emirates', 'Al Mamsha Street, Jumeirah Beach Residence, Dubai, United Arab Emirates', 'Al Abraj Street, Dubai, United Arab Emirates', 'Downtown Dubai, Downtown Dubai, 11788 Dubai, United Arab Emirates', 'Sheikh Zayed Road, Trade Centre, Dubai, United Arab Emirates', 'Kuwait Street, 23, Bur Dubai, 116656 Dubai, United Arab Emirates', 'Al Sahab 1, Dubai Marina, Dubai Marina, Dubai, United Arab Emirates', 'Jumeirah Beach Residence, The Walk JBR, Jumeirah Beach Residence, Dubai, United Arab Emirates', 'Baniyas Street, Dubai, United Arab Emirates', 'Sheikh Zayed Road, beside Burj Khalifa Metro Station, Downtown Dubai, Dubai, United Arab Emirates', 'Nightingale Lane, London, E11 2EZ, United Kingdom', 'Scott Ellis Gardens, Westminster Borough, London, NW8 9RS, United Kingdom', '13 Chapter Road, Southwark, London, SE17 3ES, United Kingdom', 'Bridges Court Road, Wandsworth, London, SW11 3GY, United Kingdom', '192 Maple Road, London, SE20 8HT, United Kingdom', '112 Harlesden Road, Brent, London, NW10 2BB, United Kingdom', 'Kensington and Chelsea, London, SW10 9AH, United Kingdom', '23 Neckinger 23, Southwark, London, SE16 3GH, United Kingdom', \"5 England's Ln, London NW3 4YA, UK, Camden, London, United Kingdom\", 'Aylmer Road, Hammersmith and Fulham, London, W12 9LG, United Kingdom', 'Paul St, London, Hackney, London, EC2A 4ED, United Kingdom', 'Twig Folly Close, Tower Hamlets, London, E2 0SU, United Kingdom', '74 Brook Street, Westminster Borough, London, W1K 5ED, United Kingdom', '1 Britton Street, Islington, London, EC1M 5NW, United Kingdom', '12 Tavistock Place, Camden, London, WC1H 9RD, United Kingdom', '11 Minet Gardens, Brent, London, NW10 8AS, United Kingdom', '98 Dunedin Road, London, E10 5NL, United Kingdom', '65 Moore Park Rd, London, SW6 2HH, UK, Hammersmith and Fulham, London, SW6 2HH, United Kingdom', 'Leinster Gardens, Westminster Borough, London, W2 6DP, United Kingdom', 'Kensington and Chelsea, London, W8 7PT, United Kingdom', '3 Lindley Street, Tower Hamlets, London, E1 3AZ, United Kingdom', 'Nettleden Avenue Wembley HA9 6DP, UK, Brent, London, United Kingdom', '9 Queensland Road, Islington, London, N7 7FH, United Kingdom', 'Westminster Borough, London, NW1 6DA, United Kingdom', '56 Iverna Gardens, Kensington and Chelsea, London, W8 6TP, United Kingdom', 'Keslake Road, Brent, London, NW6 6DH, United Kingdom', '3 Berkeley Street, Westminster Borough, London, W1J 8NE, United Kingdom', '31 St Thomas Street, Southwark, London, SE1 9QU, United Kingdom', '1-2 Queens Garden, Westminster Borough, London, W2 3BA, United Kingdom', 'Calbourne Road, Wandsworth, London, SW12 8LS, United Kingdom', '31 Great Cumberland Place, Westminster Borough, London, W1H 7TA, United Kingdom', '20 Upper Ground, Southwark, London, SE1 9PD, United Kingdom', '20 International Way Olympic Park, Newham, London, E20 1FD, United Kingdom', '4 Richmond Mews, Westminster Borough, London, W1D 3DH, United Kingdom', 'Hammersmith and Fulham, London, SW6 1QR, United Kingdom', '31-36 Leicester Square, Westminster Borough, London, WC2H 7LH, United Kingdom', '22 Park Lane, Westminster Borough, London, W1K 1BE, United Kingdom', 'Lyal Road, Tower Hamlets, London, E3 5QG, United Kingdom', '21 Gower Street, Bloomsbury, Camden, London, WC1E 6HG, United Kingdom', '10 Argyle Street, Camden, London, WC1H 8EG, United Kingdom', 'Strand, Westminster Borough, London, WC2R 0EU, United Kingdom', '8-10 Queensberry Place, Kensington and Chelsea, London, SW7 2EA, United Kingdom', 'Disbrowe Road, Hammersmith and Fulham, London, W6 8QF, United Kingdom', '151-157 City Road, Shoreditch , Hackney, London, EC1V 1JH, United Kingdom', '1c Portland Place, Regent Street, Westminster Borough, London, W1B 1JA, United Kingdom', 'w3 6du, London, W3 6EF, United Kingdom', \"109-113 Queen's Gate, Kensington and Chelsea, London, SW7 5LR, United Kingdom\", \"St James's Place, Westminster Borough, London, SW1A 1NJ, United Kingdom\", '19 New Bridge Street, City of London, London, EC4V 6DB, United Kingdom', '34-35 Newman Street, Westminster Borough, London, W1T 1PZ, United Kingdom']\n"
     ]
    }
   ],
   "source": [
    "for i in london_hotels_url:\n",
    "    london.get(i)\n",
    "    try:\n",
    "        locations = london.find_element(By.XPATH, '//span[@data-source=\"top_link\"]')\n",
    "        location.append(locations.text)\n",
    "    except NoSuchElementException:\n",
    "        location.append('')\n",
    "print(location)"
   ]
  },
  {
   "cell_type": "code",
   "execution_count": 49,
   "id": "869d77da",
   "metadata": {},
   "outputs": [
    {
     "name": "stdout",
     "output_type": "stream",
     "text": [
      "['2', '', '', '', '', '', '', '5', '', '2', '', '4', '', '', '', '', '', '4', '5', '', '', '', '3', '', '', '9,860', '2,455', '3,336', '1,445', '4,396', '4,181', '2,779', '1,080', '1,314', '5,705', '2,643', '3,299', '6,200', '2,499', '5,755', '9,758', '2,290', '5,593', '2,345', '6,701', '2,515', '2', '4,971', '2,445', '3,984', '', '', '', '9', '', '', '', '', '3', '', '2', '', '', '1', '', '', '', '1', '2', '', '8', '4', '2', '', '10', '1', '67', '3,146', '5,535', '1', '2,081', '8,254', '2,586', '296', '5', '3,588', '1,357', '1', '2,136', '2,223', '2,305', '3,223', '1', '3,742', '1,530', '14', '365', '1,195', '58', '597']\n"
     ]
    }
   ],
   "source": [
    "for i in london_hotels_url:\n",
    "    london.get(i)\n",
    "    try:\n",
    "        review_no = london.find_element(By.XPATH, '//a/div/div/div/div/div[@class=\"abf093bdfe f45d8e4c32 d935416c47\"]')\n",
    "        reviews_no.append(review_no.text.split(' ')[0])\n",
    "    except NoSuchElementException:\n",
    "        reviews_no.append('')\n",
    "print(reviews_no)"
   ]
  },
  {
   "cell_type": "code",
   "execution_count": 50,
   "id": "fbbb34fa",
   "metadata": {},
   "outputs": [
    {
     "name": "stdout",
     "output_type": "stream",
     "text": [
      "['Very good', '', '', '', '', '', '', '9.2 Superb', '', 'Passable', '', '5.5 Passable', '', '', '', '', '', '10 Exceptional', '9.0 Superb', '', '', '', '10 Exceptional', '', '', 'Fabulous', 'Good', 'Superb', 'Very good', 'Fabulous', 'Very good', 'Fabulous', 'Fabulous', 'Superb', 'Good', 'Good', 'Very good', 'Very good', 'Fabulous', 'Fabulous', 'Very good', 'Superb', 'Very good', 'Superb', 'Good', 'Good', 'Exceptional', 'Very good', 'Very good', 'Very good', '', '', '', '9.6 Exceptional', '', '', '', '', '10 Exceptional', '', 'Exceptional', '', '', 'Exceptional', '', '', '', 'Good', 'Superb', '', '9.8 Exceptional', 'Exceptional', 'Very good', '', '9.2 Superb', 'Exceptional', 'Fabulous', 'Superb', 'Very good', 'Superb', 'Pleasant', 'Fabulous', 'Fabulous', 'Exceptional', 'Exceptional', 'Very good', 'Good', 'Good', 'Very good', 'Fabulous', 'Superb', 'Very good', '10 Exceptional', 'Fabulous', 'Superb', 'Superb', 'Fabulous', 'Superb', 'Very good', 'Superb']\n"
     ]
    }
   ],
   "source": [
    "for i in london_hotels_url:\n",
    "    london.get(i)\n",
    "    time.sleep(3)\n",
    "    try:\n",
    "        user_rating = london.find_element(By.XPATH, '//div/span[@class=\"a3b8729ab1 e6208ee469 cb2cbb3ccb\"]')\n",
    "        user_ratings.append(user_rating.text)\n",
    "    except NoSuchElementException:\n",
    "        user_ratings.append('')\n",
    "print(user_ratings)"
   ]
  },
  {
   "cell_type": "code",
   "execution_count": 51,
   "id": "2b437318",
   "metadata": {},
   "outputs": [
    {
     "name": "stdout",
     "output_type": "stream",
     "text": [
      "['img', '', 'img', 'img', 'img', 'img', 'img', 'img', '', '', 'img', 'img', 'img', 'img', '', '', '', 'img', 'img', 'img', 'img', 'img', 'img', 'img', '', 'img', 'img', 'img', 'img', 'img', 'img', 'img', 'img', 'img', 'img', 'img', 'img', 'img', 'img', 'img', 'img', 'img', 'img', 'img', 'img', 'img', 'img', 'img', 'img', 'img', 'img', 'img', '', 'img', 'img', 'img', 'img', '', 'img', 'img', 'img', 'img', '', 'img', 'img', '', 'img', 'img', 'img', 'img', '', 'img', 'img', 'img', '', 'img', 'img', 'img', 'img', 'img', 'img', 'img', 'img', 'img', 'img', 'img', 'img', 'img', 'img', 'img', 'img', 'img', 'img', 'img', 'img', 'img', 'img', 'img', 'img', 'img']\n"
     ]
    }
   ],
   "source": [
    "for i in london_hotels_url:\n",
    "    london.get(i)\n",
    "    try:\n",
    "        star_ratings = london.find_element(By.XPATH, '//div[@class=\"aca0ade214 aaf30230d9 c2931f4182\"]/span/div/span')\n",
    "        star_rating.append(star_ratings.get_attribute('role'))\n",
    "    except NoSuchElementException:\n",
    "        star_rating.append('')\n",
    "print(star_rating)"
   ]
  },
  {
   "cell_type": "code",
   "execution_count": 52,
   "id": "63f29dbd",
   "metadata": {},
   "outputs": [],
   "source": [
    "for i in london_hotels_url:\n",
    "    london.get(i)\n",
    "    try:\n",
    "        review_scores = london.find_element(By.XPATH, '//button[@class=\"a83ed08757\"]/div/div/div[1]')\n",
    "        review_score.append(review_scores.text)\n",
    "    except NoSuchElementException:\n",
    "        review_score.append('')"
   ]
  },
  {
   "cell_type": "code",
   "execution_count": 53,
   "id": "b6c0453e",
   "metadata": {},
   "outputs": [
    {
     "data": {
      "text/plain": [
       "(100, 100, 100, 100, 100, 100, 100)"
      ]
     },
     "execution_count": 53,
     "metadata": {},
     "output_type": "execute_result"
    }
   ],
   "source": [
    "len(hotel), len(city), len(location), len(reviews_no), len(user_ratings), len(star_rating), len(review_score)"
   ]
  },
  {
   "cell_type": "code",
   "execution_count": 54,
   "id": "67dbc977",
   "metadata": {},
   "outputs": [],
   "source": [
    "london.close()"
   ]
  },
  {
   "cell_type": "markdown",
   "id": "5e128296",
   "metadata": {},
   "source": [
    "### Kuala Lumpur"
   ]
  },
  {
   "cell_type": "code",
   "execution_count": 55,
   "id": "d4bb0c42",
   "metadata": {},
   "outputs": [],
   "source": [
    "kuala = webdriver.Chrome()\n",
    "kuala.get('https://shorturl.at/hpSV9')\n",
    "\n",
    "search = kuala.find_element(By.XPATH, '//input[@class=\"eb46370fe1\"]')\n",
    "search.send_keys('Kuala Lumpur')\n",
    "time.sleep(5)\n",
    "\n",
    "button = kuala.find_element(By.XPATH, '//button[@class=\"a83ed08757 c21c56c305 a4c1805887 f671049264 d2529514af c082d89982 cceeb8986b\"]')\n",
    "button.click()\n",
    "\n",
    "cookie = kuala.find_element(By.ID, 'onetrust-accept-btn-handler')\n",
    "cookie.click()\n",
    "\n",
    "sort = kuala.find_element(By.XPATH, '//span[@class=\"fcd9eec8fb a07dcf7ef3 bf9a32efa5\"]')\n",
    "sort.click()\n",
    "\n",
    "high = kuala.find_element(By.XPATH, '//div[@class=\"f998a7c837 ec5d8a4630 ed9055eada da4aa3251d\"]/div/div/div/ul/li[3]')\n",
    "high.click()"
   ]
  },
  {
   "cell_type": "code",
   "execution_count": 57,
   "id": "dca3ac99",
   "metadata": {},
   "outputs": [
    {
     "data": {
      "text/plain": [
       "50"
      ]
     },
     "execution_count": 57,
     "metadata": {},
     "output_type": "execute_result"
    }
   ],
   "source": [
    "kuala_hotels_url = []\n",
    "\n",
    "start = 0\n",
    "end = 2\n",
    "for page in range(start,end):\n",
    "    url = kuala.find_elements(By.XPATH, '//h3[@class=\"aab71f8e4e\"]/a')\n",
    "    for i in url:\n",
    "        kuala_hotels_url.append(i.get_attribute('href')) \n",
    "    next_button = kuala.find_element(By.XPATH, '//div[3]/button/span/span[@class=\"fcd9eec8fb bf9a32efa5\"]')\n",
    "    next_button.click()\n",
    "    time.sleep(3)\n",
    "len(kuala_hotels_url)"
   ]
  },
  {
   "cell_type": "code",
   "execution_count": 58,
   "id": "ceb85329",
   "metadata": {},
   "outputs": [
    {
     "name": "stdout",
     "output_type": "stream",
     "text": [
      "['Heaven Escape surrounded by stunning golf view High floor -Netflix-GYM-pool -perfect vacations', '2 Bedroom Apt with Sea View', 'Primestay - Bluewaters Residences 2BR, Dubai', 'Anantara Residences Palm Jumeirah', 'High Class 1BHK/Binghatti Mirage', 'FAM Living - Chic 1BR in Zada Tower near Dubai Mall & Metro', 'KLNZwave', 'Quiet Studio with Balcony and Roof Top Pool in Dubai Marina', 'STUDIO STAR', 'Loft Style Partition Room in Shared Apartment in Al Barsha 1 Near MOE Metro', 'The Retreat - Elevate Your Stay in Sports City', 'Elegant Studio at DAMAC Lincoln Park A Arjan-Dubailand by Deluxe Holiday Homes', 'Majestine - Spacious Studio', '1BR Apartment in Harbour Views-Creek Marina view', 'Sweden Beach Palace', 'Modern Studio, Jadaf', 'استوديو مفروش فاخر للايجار', 'One Bed Fully Furnished Apartment in Dubai Hills', '360 Vacation - Classic Studio in the Heart of the Marina', 'Elegant & Chic 1BR Apt w/ Full swimming pool View', 'STAY Splendiferous 1BR Holiday Home near Downtown', 'Frank Porter - Reva Residences', 'Refined Studio-Ghalia Tower', 'Квартира студия Damac Maison Cour Jardin', 'Phenomenal Retreat from the Real World', 'The Meydan Hotel Dubai', 'Mövenpick Hotel Jumeirah Lakes Towers Dubai', 'Grand Plaza Mövenpick', 'Crowne Plaza - Dubai Jumeirah, an IHG Hotel', 'Taj Jumeirah Lakes Towers', 'Pullman Dubai Downtown', 'Hotel Indigo Dubai Downtown, an IHG Hotel', 'Hyatt Centric Jumeirah Dubai', 'One&Only Royal Mirage Resort Dubai at Jumeirah Beach', 'Hyatt Regency Dubai - Corniche', 'Park Regis Kris Kin Hotel', 'Hilton Dubai Al Habtoor City', 'Dukes The Palm, a Royal Hideaway Hotel', 'InterContinental Dubai Festival City, an IHG Hotel', 'Radisson Blu Hotel, Dubai Canal View', 'Radisson Blu Hotel, Dubai Waterfront', 'Le Royal Meridien Beach Resort & Spa Dubai', 'Millennium Atria Business Bay', 'The Dubai EDITION', 'The Tower Plaza Hotel Dubai', 'The Canvas Dubai - MGallery Hotel Collection', 'My-Places Dubai Apartment suitable for large groups Al Sahab 1', 'JA Ocean View Hotel', 'Sheraton Dubai Creek Hotel & Towers', 'Sofitel Dubai Downtown', 'Daisy’s Place in London', 'The Park Road Collection', 'Kennington retreat with garden + king bed', 'Beautiful 2 bedroom flat in Battersea', 'Immaculate Ensuite Room Crystal Palace London SE20', 'Two Bedroom Apartment in London Harlesden', 'GuestReady - Modern Hideaway near Stamford Bridge', 'Deluxe Spacious Room Near London Bridge!', 'The Belsize Park Collection', 'Veeve - Edwardian Soul', 'The Old Street Apartment', 'East End 1 Bed W/ Gated Parking', 'Large Apartment in Central London', 'Britton London Penthouse', 'Refurbished central apartment', 'Minet Gardens Central - Suite 3', '3BR house a perfect group getaway', 'The Fulham Collection', 'The Paddington Collection', 'The Kensington Cradle - Lovely 2BDR Flat', 'Whitechapel Lindley St R1', 'The Wembley Central Collection', 'The Highbury Collection', 'Iconic 2BR House Steps Away from Baker St', 'Prime Modern luxury flat w/patio', 'Veeve - Revitalising in Kensal Rise', '1 Hotel Mayfair', 'Shangri-La The Shard, London', \"Inhabit, Queen's Gardens\", 'Veeve - Classic Contemporary', 'The Marble Arch London', 'Sea Containers London', 'The Stratford Hotel London', 'The Soho Hotel, Firmdale Hotels', 'Veeve - Walham Grove Gallery', 'Radisson Blu Edwardian Hampshire Hotel, London', 'London Hilton on Park Lane', 'Veeve - The Call of the Glitter Ball', 'The Academy - Small Luxury Hotels of the World', 'The Standard London', 'The Savoy', 'The Exhibitionist Hotel', \"Veeve - Queen's Club Tranquillity\", 'Montcalm East, Autograph Collection', 'The Langham London', 'West Point', 'The Kensington Hotel', 'The Stafford London', 'Hyatt Regency London Blackfriars', 'Central London Apartment - Great Location', 'Ceylonz Starlight Suites Bukit Bintang', 'Millerz Square Mid Valley, Old Klang Road', 'Chambers Serviced Suites Kuala Lumpur', 'KLCC Beyond Hospitality Suites Platinum', 'Ceylonz Suites KL City by One39KL', 'Ceylonz Suites by MyKey Global', 'Ascott Star KLCC', 'The Axon Suites Bukit Bintang', 'The RuMa Hotel and Residences', 'Sentral Suites KualaLumpur', 'Sky Suites KLCC Kuala Lumpur City Centre By One39KL', 'JW Marriott Kuala Lumpur', 'Hotel Stripes Kuala Lumpur, Autograph Collection', 'InterContinental Kuala Lumpur, an IHG Hotel', 'Quill Residences Suites KLCC', 'Grand Hyatt Kuala Lumpur', 'Hilton Kuala Lumpur', 'Eaton Residences KLCC by Perkasa', 'Vortex Suites KLCC Kuala Lumpur', 'M Resort & Hotel Kuala Lumpur', 'Sky Suites KLCC Kuala Lumpur', 'Expressionz Professional Suites by MyKey Global', 'Axon Kuala Lumpur City Centre KLCC by One39KL', 'Pullman Kuala Lumpur City Centre Hotel & Residences', 'Platinum 2 KLCC by The Nomad', 'The Ritz-Carlton, Kuala Lumpur', 'PARKROYAL Serviced Suites Kuala Lumpur', 'Arte by Thomas Chan', 'Alila Bangsar Kuala Lumpur', 'Dorsett Kuala Lumpur', 'Amari Kuala Lumpur', 'Mandarin Oriental, Kuala Lumpur', 'Four Seasons Hotel Kuala Lumpur', 'AXON Residence Kuala Lumpur', 'Hotel Maya Kuala Lumpur', 'Sunway Putra Hotel Kuala Lumpur', 'PARKROYAL COLLECTION Kuala Lumpur', 'Sentral Suites KL Sentral by The Cynefin', 'EQ Kuala Lumpur', 'Shangri-La Kuala Lumpur', 'E&O Residences Kuala Lumpur', 'Villa Samadhi by Samadhi - Adults Only', 'Ascott Sentral Kuala Lumpur', 'Sunway Resort Hotel', 'WSD Times 8 Luxury Hotels & Residences', 'Berjaya Times Square Hotel, Kuala Lumpur', 'Alia Premier KLCC', 'Traders Hotel, Kuala Lumpur', 'Pan Pacific Serviced Suites Kuala Lumpur', 'Scarletz Suites KLCC by Mykey Global']\n"
     ]
    }
   ],
   "source": [
    "for i in kuala_hotels_url:\n",
    "    kuala.get(i)\n",
    "    try:\n",
    "        hotels = kuala.find_element(By.XPATH,'//h2[@class=\"d2fee87262 pp-header__title\"]')\n",
    "        hotel.append(hotels.text)\n",
    "    except NoSuchElementException:\n",
    "        hotel.append('')\n",
    "\n",
    "print(hotel)"
   ]
  },
  {
   "cell_type": "code",
   "execution_count": 59,
   "id": "416ef5fc",
   "metadata": {},
   "outputs": [
    {
     "name": "stdout",
     "output_type": "stream",
     "text": [
      "['Dubai', 'Dubai', 'Dubai', 'Dubai', 'Dubai', 'Dubai', 'Dubai', 'Dubai', 'Dubai', 'Dubai', 'Dubai', 'Dubai', 'Dubai', 'Dubai', 'Dubai', 'Dubai', 'Dubai', 'Dubai', 'Dubai', 'Dubai', 'Dubai', 'Dubai', 'Dubai', 'Dubai', 'Dubai', ' ', 'Jumeirah Lakes Towers', 'Dubai Internet City', ' ', 'Jumeirah Lakes Towers', ' ', ' ', ' ', 'Dubai', ' ', 'Bur Dubai', ' ', 'Dubai', 'Dubai Festival City', ' ', ' ', 'Dubai', 'Dubai', 'Downtown Dubai', 'Trade Centre', 'Bur Dubai', 'Dubai', 'Jumeirah Beach Residence', ' ', 'Downtown Dubai', 'London', 'London', 'London', 'London', 'London', 'London', 'London', 'London', 'London', 'London', 'London', 'London', 'London', 'London', 'London', 'London', 'London', 'London', 'London', 'London', 'London', 'London', 'London', 'London', 'London', 'London', 'Westminster Borough', 'Southwark', 'Westminster Borough', 'London', 'Westminster Borough', 'Southwark', 'Newham', 'Westminster Borough', 'London', 'Westminster Borough', 'Westminster Borough', 'London', 'Camden', 'Camden', 'Westminster Borough', 'Kensington and Chelsea', 'London', 'Hackney', 'Westminster Borough', 'London', 'Kensington and Chelsea', 'Westminster Borough', 'City of London', 'London', 'Kuala Lumpur', '', 'Kuala Lumpur', 'Kuala Lumpur', 'Kuala Lumpur', 'Kuala Lumpur', 'Kuala Lumpur', 'Kuala Lumpur', '', 'Brickfields', 'Kuala Lumpur', 'Bukit Bintang', 'Chow Kit', '', 'Kuala Lumpur', '', 'KL Sentral Train Station', 'Kuala Lumpur', 'Kuala Lumpur', '', 'Kuala Lumpur', 'Kuala Lumpur', 'Kuala Lumpur', 'Bukit Bintang', 'Kuala Lumpur', 'Bukit Bintang', 'Bukit Bintang', 'Kuala Lumpur', 'Brickfields', 'Bukit Bintang', '', '', '', 'Bukit Bintang', '', 'Chow Kit', 'Bukit Bintang', 'Brickfields', '', '', '', 'Kuala Lumpur', 'Kuala Lumpur', '', '', 'Bukit Bintang', '', '', 'Kuala Lumpur', 'Kuala Lumpur']\n"
     ]
    }
   ],
   "source": [
    "for i in kuala_hotels_url:\n",
    "    kuala.get(i)\n",
    "    try:\n",
    "        cities = kuala.find_element(By.XPATH,'//li[5]/div[@class=\"bui-breadcrumb__text\"]/a')\n",
    "        city.append(cities.text)\n",
    "    except NoSuchElementException:\n",
    "        city.append('')\n",
    "print(city)"
   ]
  },
  {
   "cell_type": "code",
   "execution_count": 60,
   "id": "4e04ef1b",
   "metadata": {},
   "outputs": [
    {
     "name": "stdout",
     "output_type": "stream",
     "text": [
      "['Dmac Hills, carson tower A, Dubai, United Arab Emirates', 'Dubai Marina, Dubai Marina, Dubai, United Arab Emirates', 'BLUEWATERS building 5, Dubai, United Arab Emirates', 'Crescent Road Anantara Residences, Palm Jumeirah, Dubai, United Arab Emirates', 'Street 15, District 10, قرية جميرا الدائرية - قرية جميرا - دبي - United Arab Emirates, Dubai, United Arab Emirates', 'Zada Tower, Business Bay, Dubai, United Arab Emirates', 'شارع دبي العين, Dubai, United Arab Emirates', 'Dubai Marina Manchester Tower Apto 206, Dubai Marina, Dubai, United Arab Emirates', 'Al Murar, Street 22, Dubai, United Arab Emirates', 'Al Barsha 1, Al Barsha, Dubai, United Arab Emirates', 'Dubai Sports City The Matrix Tower, Dubai, United Arab Emirates', '27, 13 Street Arjan, Al Barsha South 3, Hadaeq Mohammed Bin Rashid, Dubai, United Arab Emirates', 'Damac Majestine, Dubai, United Arab Emirates', 'Harbour Views Tower 2 Al Kheeran First, Dubai Creek Harbour Unit 2008, Dubai, United Arab Emirates', 'Europe Island, The Heart of Europe - The World Islands - Dubai, Dubai, United Arab Emirates', 'Farhad azizi, Bur Dubai, Dubai, United Arab Emirates', 'Liwan -mazaya 33 217, Dubai, United Arab Emirates', 'Dubai Hills Estate , Park Ridge Tower C 1502, Dubai, United Arab Emirates', 'Dubai Marina Marina Diamond 1, Dubai Marina, Dubai, United Arab Emirates', 'Al Furjan, Dubai, United Arab Emirates', 'A702, Sobha Creek Vistas Reserve Tower A, Sobha Hartland, Nad Al Sheba 1, Dubai, United Arab Emirates', 'Marasi Drive, Dubai, United Arab Emirates', 'JVC-Ghalia Tower 12, Dubai, United Arab Emirates', '34 Marasi Drive Street / 2, 5 Street 3, Dubai, United Arab Emirates', 'JVC, Street 5 415, Dubai, United Arab Emirates', 'The Meydan Hotel, Meydan Racecourse, Nad Al Sheba, P.O. Box 9305, 9305 Dubai, United Arab Emirates', 'Cluster A, Jumeirah Lakes Towers, Jumeirah Lakes Towers, 454439 Dubai, United Arab Emirates', 'Dubai Media City, Sheikh Zayed Road, Opposite The Innovation Hub, Dubai Internet City, Dubai, United Arab Emirates', 'Al Mina Road, 121122 Dubai, United Arab Emirates', 'DMCC Plot No. 2-27, Al Thanyah, Jumeirah Lakes Towers PO Box 120810, Dubai, Jumeirah Lakes Towers, Dubai, United Arab Emirates', 'Marasi Drive, Business Bay, Dubai, United Arab Emirates', 'Marasi Drive, 24666 Dubai, United Arab Emirates', 'La Mer Beach, Jumeirah 1, Dubai, United Arab Emirates', 'King Salman bin Abdulaziz Al Saud St, Al Sufouh, Dubai, United Arab Emirates', 'Deira, Dubai, United Arab Emirates', 'Sheikh Khalifah Bin Zayed St. Opp Burjuman Centre, Bur Dubai, Dubai, United Arab Emirates', 'Al Habtoor City, Sheikh Zayed Road, Dubai, United Arab Emirates', 'Palm Jumeirah Dubai, Palm Jumeirah, Dubai, United Arab Emirates', 'Dubai, Dubai Festival City, Dubai, United Arab Emirates', 'Marasi Drive, Business bay, PO Box 16021, Dubai, United Arab Emirates', 'Al Abraaj Street, Business Bay, Dubai, United Arab Emirates', 'Al Mamsha Street, Jumeirah Beach Residence, Dubai, United Arab Emirates', 'Al Abraj Street, Dubai, United Arab Emirates', 'Downtown Dubai, Downtown Dubai, 11788 Dubai, United Arab Emirates', 'Sheikh Zayed Road, Trade Centre, Dubai, United Arab Emirates', 'Kuwait Street, 23, Bur Dubai, 116656 Dubai, United Arab Emirates', 'Al Sahab 1, Dubai Marina, Dubai Marina, Dubai, United Arab Emirates', 'Jumeirah Beach Residence, The Walk JBR, Jumeirah Beach Residence, Dubai, United Arab Emirates', 'Baniyas Street, Dubai, United Arab Emirates', 'Sheikh Zayed Road, beside Burj Khalifa Metro Station, Downtown Dubai, Dubai, United Arab Emirates', 'Nightingale Lane, London, E11 2EZ, United Kingdom', 'Scott Ellis Gardens, Westminster Borough, London, NW8 9RS, United Kingdom', '13 Chapter Road, Southwark, London, SE17 3ES, United Kingdom', 'Bridges Court Road, Wandsworth, London, SW11 3GY, United Kingdom', '192 Maple Road, London, SE20 8HT, United Kingdom', '112 Harlesden Road, Brent, London, NW10 2BB, United Kingdom', 'Kensington and Chelsea, London, SW10 9AH, United Kingdom', '23 Neckinger 23, Southwark, London, SE16 3GH, United Kingdom', \"5 England's Ln, London NW3 4YA, UK, Camden, London, United Kingdom\", 'Aylmer Road, Hammersmith and Fulham, London, W12 9LG, United Kingdom', 'Paul St, London, Hackney, London, EC2A 4ED, United Kingdom', 'Twig Folly Close, Tower Hamlets, London, E2 0SU, United Kingdom', '74 Brook Street, Westminster Borough, London, W1K 5ED, United Kingdom', '1 Britton Street, Islington, London, EC1M 5NW, United Kingdom', '12 Tavistock Place, Camden, London, WC1H 9RD, United Kingdom', '11 Minet Gardens, Brent, London, NW10 8AS, United Kingdom', '98 Dunedin Road, London, E10 5NL, United Kingdom', '65 Moore Park Rd, London, SW6 2HH, UK, Hammersmith and Fulham, London, SW6 2HH, United Kingdom', 'Leinster Gardens, Westminster Borough, London, W2 6DP, United Kingdom', 'Kensington and Chelsea, London, W8 7PT, United Kingdom', '3 Lindley Street, Tower Hamlets, London, E1 3AZ, United Kingdom', 'Nettleden Avenue Wembley HA9 6DP, UK, Brent, London, United Kingdom', '9 Queensland Road, Islington, London, N7 7FH, United Kingdom', 'Westminster Borough, London, NW1 6DA, United Kingdom', '56 Iverna Gardens, Kensington and Chelsea, London, W8 6TP, United Kingdom', 'Keslake Road, Brent, London, NW6 6DH, United Kingdom', '3 Berkeley Street, Westminster Borough, London, W1J 8NE, United Kingdom', '31 St Thomas Street, Southwark, London, SE1 9QU, United Kingdom', '1-2 Queens Garden, Westminster Borough, London, W2 3BA, United Kingdom', 'Calbourne Road, Wandsworth, London, SW12 8LS, United Kingdom', '31 Great Cumberland Place, Westminster Borough, London, W1H 7TA, United Kingdom', '20 Upper Ground, Southwark, London, SE1 9PD, United Kingdom', '20 International Way Olympic Park, Newham, London, E20 1FD, United Kingdom', '4 Richmond Mews, Westminster Borough, London, W1D 3DH, United Kingdom', 'Hammersmith and Fulham, London, SW6 1QR, United Kingdom', '31-36 Leicester Square, Westminster Borough, London, WC2H 7LH, United Kingdom', '22 Park Lane, Westminster Borough, London, W1K 1BE, United Kingdom', 'Lyal Road, Tower Hamlets, London, E3 5QG, United Kingdom', '21 Gower Street, Bloomsbury, Camden, London, WC1E 6HG, United Kingdom', '10 Argyle Street, Camden, London, WC1H 8EG, United Kingdom', 'Strand, Westminster Borough, London, WC2R 0EU, United Kingdom', '8-10 Queensberry Place, Kensington and Chelsea, London, SW7 2EA, United Kingdom', 'Disbrowe Road, Hammersmith and Fulham, London, W6 8QF, United Kingdom', '151-157 City Road, Shoreditch , Hackney, London, EC1V 1JH, United Kingdom', '1c Portland Place, Regent Street, Westminster Borough, London, W1B 1JA, United Kingdom', 'w3 6du, London, W3 6EF, United Kingdom', \"109-113 Queen's Gate, Kensington and Chelsea, London, SW7 5LR, United Kingdom\", \"St James's Place, Westminster Borough, London, SW1A 1NJ, United Kingdom\", '19 New Bridge Street, City of London, London, EC4V 6DB, United Kingdom', '34-35 Newman Street, Westminster Borough, London, W1T 1PZ, United Kingdom', '3 Persiaran Raja Chulan Bukit Kewangan, Bukit Bintang, 50200 Kuala Lumpur, Malaysia', '357 Jalan Klang Lama, 58200 Kuala Lumpur, Malaysia', 'Jalan Ipoh Kecil Chambers KualaLumpur Suite 20-10, Chow Kit, 50350 Kuala Lumpur, Malaysia', '1020 Jalan Sultan Ismail C-18-01 Office, 50300 Kuala Lumpur, Malaysia', 'Ceylonz Suites KLCC, 3, Persiaran Raja Chulan, Bukit Bintang, Wilayah Persekutuan, Bukit Bintang, 50200 Kuala Lumpur, Malaysia', '3 Persiaran Raja Chulan Ceylonz Suites, Bukit Bintang, 50200 Kuala Lumpur, Malaysia', '1 Jalan Yap Kwan Seng, 50450 Kuala Lumpur, Malaysia', 'Jalan Gading, Bukit Bintang, 55100 Kuala Lumpur, Malaysia', '7 Jalan Kia Peng, 50450 Kuala Lumpur, Malaysia', '248 Jalan Tun Sambanthan, Brickfields, 50400 Kuala Lumpur, Malaysia', 'Jalan P. Ramlee 13-06, 52100 Kuala Lumpur, Malaysia', '183 Jalan Bukit Bintang, Bukit Bintang, 55100 Kuala Lumpur, Malaysia', '25 Jalan Kamunting, Chow Kit, 50300 Kuala Lumpur, Malaysia', '165, Jalan Ampang, 50450 Kuala Lumpur, Malaysia', '1018 Jalan Sultan Ismail, 50250 Kuala Lumpur, Malaysia', '12, Jalan Pinang, 50450 Kuala Lumpur, Malaysia', '3, Jalan Stesen Sentral, KL Sentral Train Station, 50470 Kuala Lumpur, Malaysia', '26 Jalan Kia Peng, 50450 Kuala Lumpur, Malaysia', 'Vortex klcc, 50250 Kuala Lumpur, Malaysia', 'No. 1, Jalan KGPA, Bukit Kiara, 60000 Kuala Lumpur, Malaysia', 'Jalan P. Ramlee, Kuala Lumpur, Malaysia', 'Jalan 1/65a off Jalan Tun Razak, 50400 Kuala Lumpur, Malaysia', 'AXON Suites, Jalan Walter Granier, Bukit Bintang, Wilayah Persekutuan, Bukit Bintang, 55100 Kuala Lumpur, Malaysia', '4 Jalan Conlay, Bukit Bintang, 50450 Kuala Lumpur, Malaysia', '1020 Jalan Sultan Ismail A-31-01, 50250 Kuala Lumpur, Malaysia', '168 Jalan Imbi, Bukit Bintang, 55100 Kuala Lumpur, Malaysia', 'No. 1 Jalan Nagasari; Off Jalan Raja Chulan, Bukit Bintang, 50200 Kuala Lumpur, Malaysia', 'Jalan Sultan Haji Ahmad Shah, 50480 Kuala Lumpur, Malaysia', '58 Jalan Ang Seng, Brickfields, 50470 Kuala Lumpur, Malaysia', '172 Jalan Imbi, Bukit Bintang, 55100 Kuala Lumpur, Malaysia', 'No.3, Jalan Bangsar, KL Eco City, 59200 Kuala Lumpur, Malaysia', 'Kuala Lumpur City Centre, 50088 Kuala Lumpur, Malaysia', '145, Jalan Ampang, 50450 Kuala Lumpur, Malaysia', 'Lorong Walter Granier, Bukit Bintang, 55100 Kuala Lumpur, Malaysia', '138 Jalan Ampang, 50450 Kuala Lumpur, Malaysia', 'Putra Place, 100 Jalan Putra, Chow Kit, 50350 Kuala Lumpur, Malaysia', 'Jalan Sultan Ismail, Bukit Bintang, 50250 Kuala Lumpur, Malaysia', '248 Jalan Tun Sambanthan, Brickfields, 50400 Kuala Lumpur, Malaysia', 'Equatorial Plaza, Jalan Sultan Ismail, 50250 Kuala Lumpur, Malaysia', '11 Jalan Sultan Ismail, 50250 Kuala Lumpur, Malaysia', 'No 1, Jalan Tengah, Off Jalan Sultan Ismail, 50450 Kuala Lumpur, 50450 Kuala Lumpur, Malaysia', 'No. 8, Jalan Madge, Off Persiaran Madge, Jalan U-Thant, 55000 Kuala Lumpur, Malaysia', 'No 211 Jalan Tun Sambanthan, Brickfields, 50470 Kuala Lumpur, Malaysia', 'Persiaran Lagoon, Bandar Sunway, 47500 Kuala Lumpur, Malaysia', '8 Jalan Changkat Kia Peng, 50450 Kuala Lumpur, Malaysia', 'No.1, Jalan Imbi, Bukit Bintang, 55100 Kuala Lumpur, Malaysia', '138, Jalan Ampang, Kampung Baru, , 50450 Kuala Lumpur, Malaysia', 'Kuala Lumpur City Centre, 50088 Kuala Lumpur, Malaysia', 'Jalan Sultan Ismail, Bukit Bintang, 50250 Kuala Lumpur, Malaysia', 'Jalan Yap Kwan Seng, 50450 Kuala Lumpur, Malaysia']\n"
     ]
    }
   ],
   "source": [
    "for i in kuala_hotels_url:\n",
    "    kuala.get(i)\n",
    "    try:\n",
    "        locations = kuala.find_element(By.XPATH, '//span[@data-source=\"top_link\"]')\n",
    "        location.append(locations.text)\n",
    "    except NoSuchElementException:\n",
    "        location.append('')\n",
    "print(location)"
   ]
  },
  {
   "cell_type": "code",
   "execution_count": 61,
   "id": "cb5192ea",
   "metadata": {},
   "outputs": [
    {
     "name": "stdout",
     "output_type": "stream",
     "text": [
      "['2', '', '', '', '', '', '', '5', '', '2', '', '4', '', '', '', '', '', '4', '5', '', '', '', '3', '', '', '9,860', '2,455', '3,336', '1,445', '4,396', '4,181', '2,779', '1,080', '1,314', '5,705', '2,643', '3,299', '6,200', '2,499', '5,755', '9,758', '2,290', '5,593', '2,345', '6,701', '2,515', '2', '4,971', '2,445', '3,984', '', '', '', '9', '', '', '', '', '3', '', '2', '', '', '1', '', '', '', '1', '2', '', '8', '4', '2', '', '10', '1', '67', '3,146', '5,535', '1', '2,081', '8,254', '2,586', '296', '5', '3,588', '1,357', '1', '2,136', '2,223', '2,305', '3,223', '1', '3,742', '1,530', '14', '365', '1,195', '58', '597', '3,646', '1', '298', '17', '319', '3,876', '1,452', '24', '3,740', '32', '30', '3,483', '1,644', '2,535', '39', '3,243', '3,279', '98', '1,040', '2,031', '37', '5,375', '25', '5,958', '18', '1,308', '3,757', '2,208', '1,700', '5,406', '644', '5,580', '622', '6', '2,528', '7,697', '1,736', '20', '2,141', '2,463', '1,144', '235', '1,031', '1,048', '302', '2,680', '483', '8,257', '464', '2,047']\n"
     ]
    }
   ],
   "source": [
    "for i in kuala_hotels_url:\n",
    "    kuala.get(i)\n",
    "    try:\n",
    "        review_no = kuala.find_element(By.XPATH, '//a/div/div/div/div/div[@class=\"abf093bdfe f45d8e4c32 d935416c47\"]')\n",
    "        reviews_no.append(review_no.text.split(' ')[0])\n",
    "    except NoSuchElementException:\n",
    "        reviews_no.append('')\n",
    "print(reviews_no)"
   ]
  },
  {
   "cell_type": "code",
   "execution_count": 62,
   "id": "eabbf203",
   "metadata": {},
   "outputs": [
    {
     "name": "stdout",
     "output_type": "stream",
     "text": [
      "['Very good', '', '', '', '', '', '', '9.2 Superb', '', 'Passable', '', '5.5 Passable', '', '', '', '', '', '10 Exceptional', '9.0 Superb', '', '', '', '10 Exceptional', '', '', 'Fabulous', 'Good', 'Superb', 'Very good', 'Fabulous', 'Very good', 'Fabulous', 'Fabulous', 'Superb', 'Good', 'Good', 'Very good', 'Very good', 'Fabulous', 'Fabulous', 'Very good', 'Superb', 'Very good', 'Superb', 'Good', 'Good', 'Exceptional', 'Very good', 'Very good', 'Very good', '', '', '', '9.6 Exceptional', '', '', '', '', '10 Exceptional', '', 'Exceptional', '', '', 'Exceptional', '', '', '', 'Good', 'Superb', '', '9.8 Exceptional', 'Exceptional', 'Very good', '', '9.2 Superb', 'Exceptional', 'Fabulous', 'Superb', 'Very good', 'Superb', 'Pleasant', 'Fabulous', 'Fabulous', 'Exceptional', 'Exceptional', 'Very good', 'Good', 'Good', 'Very good', 'Fabulous', 'Superb', 'Very good', '10 Exceptional', 'Fabulous', 'Superb', 'Superb', 'Fabulous', 'Superb', 'Very good', 'Superb', 'Very good', 'Bad', 'Good', 'Superb', 'Very good', 'Very good', 'Superb', 'Superb', 'Superb', 'Fabulous', 'Good', 'Fabulous', 'Fabulous', 'Fabulous', 'Exceptional', 'Fabulous', 'Fabulous', 'Superb', 'Very good', 'Very good', 'Fabulous', 'Good', 'Good', 'Very good', 'Superb', 'Very good', 'Very good', 'Very good', 'Fabulous', 'Good', 'Fabulous', 'Fabulous', 'Fabulous', 'Exceptional', 'Good', 'Fabulous', 'Very good', 'Fabulous', 'Superb', 'Fabulous', 'Good', 'Very good', 'Fabulous', 'Superb', 'Good', 'Good', 'Very good', 'Fabulous', 'Fabulous', 'Very good']\n"
     ]
    }
   ],
   "source": [
    "for i in kuala_hotels_url:\n",
    "    kuala.get(i)\n",
    "    try:\n",
    "        user_rating = kuala.find_element(By.XPATH, '//div/span[@class=\"a3b8729ab1 e6208ee469 cb2cbb3ccb\"]')\n",
    "        user_ratings.append(user_rating.text)\n",
    "    except NoSuchElementException:\n",
    "        user_ratings.append('')\n",
    "print(user_ratings)"
   ]
  },
  {
   "cell_type": "code",
   "execution_count": 63,
   "id": "d0d9ed36",
   "metadata": {},
   "outputs": [
    {
     "name": "stdout",
     "output_type": "stream",
     "text": [
      "['img', '', 'img', 'img', 'img', 'img', 'img', 'img', '', '', 'img', 'img', 'img', 'img', '', '', '', 'img', 'img', 'img', 'img', 'img', 'img', 'img', '', 'img', 'img', 'img', 'img', 'img', 'img', 'img', 'img', 'img', 'img', 'img', 'img', 'img', 'img', 'img', 'img', 'img', 'img', 'img', 'img', 'img', 'img', 'img', 'img', 'img', 'img', 'img', '', 'img', 'img', 'img', 'img', '', 'img', 'img', 'img', 'img', '', 'img', 'img', '', 'img', 'img', 'img', 'img', '', 'img', 'img', 'img', '', 'img', 'img', 'img', 'img', 'img', 'img', 'img', 'img', 'img', 'img', 'img', 'img', 'img', 'img', 'img', 'img', 'img', 'img', 'img', 'img', 'img', 'img', 'img', 'img', 'img', '', '', '', '', '', '', '', '', '', '', '', '', '', '', '', '', '', '', '', '', '', '', '', '', '', '', '', '', '', '', '', '', '', '', '', '', '', '', '', '', '', '', '', '', '', '', '', '', '', '']\n"
     ]
    }
   ],
   "source": [
    "for i in kuala_hotels_url:\n",
    "    kuala.get(i)\n",
    "    try:\n",
    "        star_ratings = kuala.find_element(By.XPATH, '//div[@class=\"aca0ade214 aaf30230d9 c2931f4182\"]/span/div/span')\n",
    "        star_rating.append(star_ratings.get_attribute('role'))\n",
    "    except NoSuchElementException:\n",
    "        star_rating.append('')\n",
    "print(star_rating)"
   ]
  },
  {
   "cell_type": "code",
   "execution_count": 64,
   "id": "ab61fced",
   "metadata": {},
   "outputs": [
    {
     "name": "stdout",
     "output_type": "stream",
     "text": [
      "['8.5', '', '', '', '', '', '', '9.2 Superb', '', '5.5', '', '5.5 Passable', '', '', '', '', '', '10 Exceptional', '9.0 Superb', '', '', '', '10 Exceptional', '', '', '8.9', '7.8', '9.0', '8.2', '8.7', '8.1', '8.9', '8.6', '9.0', '7.9', '7.9', '8.3', '8.3', '8.7', '8.6', '8.2', '9.2', '8.5', '9.1', '7.9', '7.4', '10', '8.3', '8.4', '8.5', '', '', '', '9.6 Exceptional', '', '', '', '', '10 Exceptional', '', '9.5', '', '', '10', '', '', '', '7.0', '9.0', '', '9.8 Exceptional', '9.7', '8.5', '', '9.2 Superb', '10', '8.9', '9.0', '8.3', '9.0', '6.3', '8.8', '8.6', '9.5', '9.8', '8.4', '7.8', '7.0', '8.1', '8.6', '9.4', '8.4', '10 Exceptional', '8.6', '9.2', '9.1', '8.8', '9.1', '8.3', '9.1', '8.3', '1.0', '7.5', '9.4', '8.4', '8.2', '9.0', '9.0', '9.2', '8.9', '7.9', '8.6', '8.6', '8.6', '9.8', '8.9', '8.7', '9.4', '8.3', '8.5', '8.8', '7.7', '7.5', '8.4', '9.1', '8.5', '8.1', '8.3', '8.7', '7.4', '8.6', '8.9', '8.8', '9.5', '7.8', '8.6', '8.2', '8.6', '9.2', '8.8', '7.8', '8.5', '8.7', '9.2', '7.7', '7.3', '8.3', '8.6', '8.8', '8.3']\n"
     ]
    }
   ],
   "source": [
    "for i in kuala_hotels_url:\n",
    "    kuala.get(i)\n",
    "    try:\n",
    "        review_scores = kuala.find_element(By.XPATH, '//button[@class=\"a83ed08757\"]/div/div/div[1]')\n",
    "        review_score.append(review_scores.text)\n",
    "    except NoSuchElementException:\n",
    "        review_score.append('')\n",
    "print(review_score)"
   ]
  },
  {
   "cell_type": "code",
   "execution_count": 65,
   "id": "1067d42c",
   "metadata": {},
   "outputs": [
    {
     "data": {
      "text/plain": [
       "(150, 150, 150, 150, 150, 150, 150)"
      ]
     },
     "execution_count": 65,
     "metadata": {},
     "output_type": "execute_result"
    }
   ],
   "source": [
    "len(hotel), len(city), len(location), len(reviews_no), len(user_ratings), len(star_rating), len(review_score)"
   ]
  },
  {
   "cell_type": "code",
   "execution_count": 66,
   "id": "3e1d084d",
   "metadata": {},
   "outputs": [],
   "source": [
    "kuala.close()"
   ]
  },
  {
   "cell_type": "markdown",
   "id": "b5598c0d",
   "metadata": {},
   "source": [
    "### Manchester"
   ]
  },
  {
   "cell_type": "code",
   "execution_count": 67,
   "id": "bdc9a008",
   "metadata": {},
   "outputs": [],
   "source": [
    "man = webdriver.Chrome()\n",
    "man.get('https://shorturl.at/hpSV9')\n",
    "\n",
    "search = man.find_element(By.XPATH, '//input[@class=\"eb46370fe1\"]')\n",
    "search.send_keys('manchester')\n",
    "time.sleep(5)\n",
    "\n",
    "button = man.find_element(By.XPATH, '//button[@class=\"a83ed08757 c21c56c305 a4c1805887 f671049264 d2529514af c082d89982 cceeb8986b\"]')\n",
    "button.click()\n",
    "\n",
    "cookie = man.find_element(By.ID, 'onetrust-accept-btn-handler')\n",
    "cookie.click()\n",
    "\n",
    "sort = man.find_element(By.XPATH, '//span[@class=\"fcd9eec8fb a07dcf7ef3 bf9a32efa5\"]')\n",
    "sort.click()\n",
    "\n",
    "high = man.find_element(By.XPATH, '//div[@class=\"f998a7c837 ec5d8a4630 ed9055eada da4aa3251d\"]/div/div/div/ul/li[3]')\n",
    "high.click()"
   ]
  },
  {
   "cell_type": "code",
   "execution_count": 68,
   "id": "9bac17f1",
   "metadata": {},
   "outputs": [
    {
     "data": {
      "text/plain": [
       "50"
      ]
     },
     "execution_count": 68,
     "metadata": {},
     "output_type": "execute_result"
    }
   ],
   "source": [
    "man_hotels_url = []\n",
    "\n",
    "start = 0\n",
    "end = 2\n",
    "for page in range(start,end):\n",
    "    url = man.find_elements(By.XPATH, '//h3[@class=\"aab71f8e4e\"]/a')\n",
    "    for i in url:\n",
    "        man_hotels_url.append(i.get_attribute('href')) \n",
    "    next_button = man.find_element(By.XPATH, '//div[3]/button/span/span[@class=\"fcd9eec8fb bf9a32efa5\"]')\n",
    "    next_button.click()\n",
    "    time.sleep(3)\n",
    "len(man_hotels_url)"
   ]
  },
  {
   "cell_type": "code",
   "execution_count": 69,
   "id": "0feda530",
   "metadata": {},
   "outputs": [],
   "source": [
    "for i in man_hotels_url:\n",
    "    man.get(i)\n",
    "    try:\n",
    "        hotels = man.find_element(By.XPATH,'//h2[@class=\"d2fee87262 pp-header__title\"]')\n",
    "        hotel.append(hotels.text)\n",
    "    except NoSuchElementException:\n",
    "        hotel.append('')\n",
    "\n",
    "for i in man_hotels_url:\n",
    "    man.get(i)\n",
    "    try:\n",
    "        cities = man.find_element(By.XPATH,'//li[5]/div[@class=\"bui-breadcrumb__text\"]/a')\n",
    "        city.append(cities.text)\n",
    "    except NoSuchElementException:\n",
    "        city.append('')\n",
    "\n",
    "for i in man_hotels_url:\n",
    "    man.get(i)\n",
    "    try:\n",
    "        locations = man.find_element(By.XPATH, '//span[@data-source=\"top_link\"]')\n",
    "        location.append(locations.text)\n",
    "    except NoSuchElementException:\n",
    "        location.append('')\n",
    "\n",
    "for i in man_hotels_url:\n",
    "    man.get(i)\n",
    "    try:\n",
    "        review_no = man.find_element(By.XPATH, '//a/div/div/div/div/div[@class=\"abf093bdfe f45d8e4c32 d935416c47\"]')\n",
    "        reviews_no.append(review_no.text.split(' ')[0])\n",
    "    except NoSuchElementException:\n",
    "        reviews_no.append('')\n",
    "\n",
    "for i in man_hotels_url:\n",
    "    man.get(i)\n",
    "    try:\n",
    "        user_rating = man.find_element(By.XPATH, '//div/span[@class=\"a3b8729ab1 e6208ee469 cb2cbb3ccb\"]')\n",
    "        user_ratings.append(user_rating.text)\n",
    "    except NoSuchElementException:\n",
    "        user_ratings.append('')\n",
    "\n",
    "for i in man_hotels_url:\n",
    "    man.get(i)\n",
    "    try:\n",
    "        star_ratings = man.find_element(By.XPATH, '//div[@class=\"aca0ade214 aaf30230d9 c2931f4182\"]/span/div/span')\n",
    "        star_rating.append(star_ratings.get_attribute('role'))\n",
    "    except NoSuchElementException:\n",
    "        star_rating.append('')\n",
    "\n",
    "for i in man_hotels_url:\n",
    "    man.get(i)\n",
    "    try:\n",
    "        review_scores = man.find_element(By.XPATH, '//button[@class=\"a83ed08757\"]/div/div/div[1]')\n",
    "        review_score.append(review_scores.text)\n",
    "    except NoSuchElementException:\n",
    "        review_score.append('')"
   ]
  },
  {
   "cell_type": "code",
   "execution_count": 70,
   "id": "521b5e34",
   "metadata": {},
   "outputs": [
    {
     "data": {
      "text/plain": [
       "(200, 200, 200, 200, 200, 200, 200)"
      ]
     },
     "execution_count": 70,
     "metadata": {},
     "output_type": "execute_result"
    }
   ],
   "source": [
    "len(hotel), len(city), len(location), len(reviews_no), len(user_ratings), len(star_rating), len(review_score)"
   ]
  },
  {
   "cell_type": "code",
   "execution_count": 71,
   "id": "c886495c",
   "metadata": {},
   "outputs": [],
   "source": [
    "man.close()"
   ]
  },
  {
   "cell_type": "markdown",
   "id": "84f644c7",
   "metadata": {},
   "source": [
    "### New Delhi"
   ]
  },
  {
   "cell_type": "code",
   "execution_count": 72,
   "id": "79e295a1",
   "metadata": {},
   "outputs": [],
   "source": [
    "delhi = webdriver.Chrome()\n",
    "delhi.get('https://shorturl.at/hpSV9')\n",
    "\n",
    "search = delhi.find_element(By.XPATH, '//input[@class=\"eb46370fe1\"]')\n",
    "search.send_keys('new delhi')\n",
    "time.sleep(5)\n",
    "\n",
    "button = delhi.find_element(By.XPATH, '//button[@class=\"a83ed08757 c21c56c305 a4c1805887 f671049264 d2529514af c082d89982 cceeb8986b\"]')\n",
    "button.click()\n",
    "\n",
    "cookie = delhi.find_element(By.ID, 'onetrust-accept-btn-handler')\n",
    "cookie.click()\n",
    "\n",
    "sort = delhi.find_element(By.XPATH, '//span[@class=\"fcd9eec8fb a07dcf7ef3 bf9a32efa5\"]')\n",
    "sort.click()\n",
    "\n",
    "high = delhi.find_element(By.XPATH, '//div[@class=\"f998a7c837 ec5d8a4630 ed9055eada da4aa3251d\"]/div/div/div/ul/li[3]')\n",
    "high.click()"
   ]
  },
  {
   "cell_type": "code",
   "execution_count": 73,
   "id": "a905e495",
   "metadata": {},
   "outputs": [
    {
     "data": {
      "text/plain": [
       "50"
      ]
     },
     "execution_count": 73,
     "metadata": {},
     "output_type": "execute_result"
    }
   ],
   "source": [
    "delhi_hotels_url = []\n",
    "\n",
    "start = 0\n",
    "end = 2\n",
    "for page in range(start,end):\n",
    "    url = delhi.find_elements(By.XPATH, '//h3[@class=\"aab71f8e4e\"]/a')\n",
    "    for i in url:\n",
    "        delhi_hotels_url.append(i.get_attribute('href')) \n",
    "    next_button = delhi.find_element(By.XPATH, '//div[3]/button/span/span[@class=\"fcd9eec8fb bf9a32efa5\"]')\n",
    "    next_button.click()\n",
    "    time.sleep(3)\n",
    "len(delhi_hotels_url)"
   ]
  },
  {
   "cell_type": "code",
   "execution_count": 74,
   "id": "5009ba4b",
   "metadata": {},
   "outputs": [],
   "source": [
    "for i in delhi_hotels_url:\n",
    "    delhi.get(i)\n",
    "    try:\n",
    "        hotels = delhi.find_element(By.XPATH,'//h2[@class=\"d2fee87262 pp-header__title\"]')\n",
    "        hotel.append(hotels.text)\n",
    "    except NoSuchElementException:\n",
    "        hotel.append('')\n",
    "\n",
    "for i in delhi_hotels_url:\n",
    "    delhi.get(i)\n",
    "    try:\n",
    "        cities = delhi.find_element(By.XPATH,'//li[5]/div[@class=\"bui-breadcrumb__text\"]/a')\n",
    "        city.append(cities.text)\n",
    "    except NoSuchElementException:\n",
    "        city.append('')\n",
    "\n",
    "for i in delhi_hotels_url:\n",
    "    delhi.get(i)\n",
    "    try:\n",
    "        locations = delhi.find_element(By.XPATH, '//span[@data-source=\"top_link\"]')\n",
    "        location.append(locations.text)\n",
    "    except NoSuchElementException:\n",
    "        location.append('')\n",
    "\n",
    "for i in delhi_hotels_url:\n",
    "    delhi.get(i)\n",
    "    try:\n",
    "        review_no = delhi.find_element(By.XPATH, '//a/div/div/div/div/div[@class=\"abf093bdfe f45d8e4c32 d935416c47\"]')\n",
    "        reviews_no.append(review_no.text.split(' ')[0])\n",
    "    except NoSuchElementException:\n",
    "        reviews_no.append('')\n",
    "\n",
    "for i in delhi_hotels_url:\n",
    "    delhi.get(i)\n",
    "    try:\n",
    "        user_rating = delhi.find_element(By.XPATH, '//div/span[@class=\"a3b8729ab1 e6208ee469 cb2cbb3ccb\"]')\n",
    "        user_ratings.append(user_rating.text)\n",
    "    except NoSuchElementException:\n",
    "        user_ratings.append('')\n",
    "\n",
    "for i in delhi_hotels_url:\n",
    "    delhi.get(i)\n",
    "    try:\n",
    "        star_ratings = delhi.find_element(By.XPATH, '//div[@class=\"aca0ade214 aaf30230d9 c2931f4182\"]/span/div/span')\n",
    "        star_rating.append(star_ratings.get_attribute('role'))\n",
    "    except NoSuchElementException:\n",
    "        star_rating.append('')\n",
    "\n",
    "for i in delhi_hotels_url:\n",
    "    delhi.get(i)\n",
    "    try:\n",
    "        review_scores = delhi.find_element(By.XPATH, '//button[@class=\"a83ed08757\"]/div/div/div[1]')\n",
    "        review_score.append(review_scores.text)\n",
    "    except NoSuchElementException:\n",
    "        review_score.append('')"
   ]
  },
  {
   "cell_type": "code",
   "execution_count": 75,
   "id": "a63d8a17",
   "metadata": {},
   "outputs": [
    {
     "data": {
      "text/plain": [
       "(250, 250, 250, 250, 250, 250, 250)"
      ]
     },
     "execution_count": 75,
     "metadata": {},
     "output_type": "execute_result"
    }
   ],
   "source": [
    "len(hotel), len(city), len(location), len(reviews_no), len(user_ratings), len(star_rating), len(review_score)"
   ]
  },
  {
   "cell_type": "code",
   "execution_count": 76,
   "id": "ed38cc9b",
   "metadata": {},
   "outputs": [],
   "source": [
    "delhi.close()"
   ]
  },
  {
   "cell_type": "markdown",
   "id": "68ccd29a",
   "metadata": {},
   "source": [
    "### Birmingham"
   ]
  },
  {
   "cell_type": "code",
   "execution_count": 77,
   "id": "a0eccf11",
   "metadata": {},
   "outputs": [],
   "source": [
    "biri = webdriver.Chrome()\n",
    "biri.get('https://shorturl.at/hpSV9')\n",
    "\n",
    "search = biri.find_element(By.XPATH, '//input[@class=\"eb46370fe1\"]')\n",
    "search.send_keys('Birmingham')\n",
    "time.sleep(5)\n",
    "\n",
    "button = biri.find_element(By.XPATH, '//button[@class=\"a83ed08757 c21c56c305 a4c1805887 f671049264 d2529514af c082d89982 cceeb8986b\"]')\n",
    "button.click()\n",
    "\n",
    "cookie = biri.find_element(By.ID, 'onetrust-accept-btn-handler')\n",
    "cookie.click()\n",
    "\n",
    "sort = biri.find_element(By.XPATH, '//span[@class=\"fcd9eec8fb a07dcf7ef3 bf9a32efa5\"]')\n",
    "sort.click()\n",
    "\n",
    "high = biri.find_element(By.XPATH, '//div[@class=\"f998a7c837 ec5d8a4630 ed9055eada da4aa3251d\"]/div/div/div/ul/li[3]')\n",
    "high.click()"
   ]
  },
  {
   "cell_type": "code",
   "execution_count": 79,
   "id": "ec5e5fc8",
   "metadata": {},
   "outputs": [
    {
     "data": {
      "text/plain": [
       "50"
      ]
     },
     "execution_count": 79,
     "metadata": {},
     "output_type": "execute_result"
    }
   ],
   "source": [
    "biri_hotels_url = []\n",
    "\n",
    "start = 0\n",
    "end = 2\n",
    "for page in range(start,end):\n",
    "    url = biri.find_elements(By.XPATH, '//h3[@class=\"aab71f8e4e\"]/a')\n",
    "    for i in url:\n",
    "        biri_hotels_url.append(i.get_attribute('href')) \n",
    "    next_button = biri.find_element(By.XPATH, '//div[3]/button/span/span[@class=\"fcd9eec8fb bf9a32efa5\"]')\n",
    "    next_button.click()\n",
    "    time.sleep(3)\n",
    "len(biri_hotels_url)"
   ]
  },
  {
   "cell_type": "code",
   "execution_count": 80,
   "id": "e371d86c",
   "metadata": {},
   "outputs": [],
   "source": [
    "for i in biri_hotels_url:\n",
    "    biri.get(i)\n",
    "    try:\n",
    "        hotels = biri.find_element(By.XPATH,'//h2[@class=\"d2fee87262 pp-header__title\"]')\n",
    "        hotel.append(hotels.text)\n",
    "    except NoSuchElementException:\n",
    "        hotel.append('')\n",
    "\n",
    "for i in biri_hotels_url:\n",
    "    biri.get(i)\n",
    "    try:\n",
    "        cities = biri.find_element(By.XPATH,'//li[5]/div[@class=\"bui-breadcrumb__text\"]/a')\n",
    "        city.append(cities.text)\n",
    "    except NoSuchElementException:\n",
    "        city.append('')\n",
    "\n",
    "for i in biri_hotels_url:\n",
    "    biri.get(i)\n",
    "    try:\n",
    "        locations = biri.find_element(By.XPATH, '//span[@data-source=\"top_link\"]')\n",
    "        location.append(locations.text)\n",
    "    except NoSuchElementException:\n",
    "        location.append('')\n",
    "\n",
    "for i in biri_hotels_url:\n",
    "    biri.get(i)\n",
    "    try:\n",
    "        review_no = biri.find_element(By.XPATH, '//a/div/div/div/div/div[@class=\"abf093bdfe f45d8e4c32 d935416c47\"]')\n",
    "        reviews_no.append(review_no.text.split(' ')[0])\n",
    "    except NoSuchElementException:\n",
    "        reviews_no.append('')\n",
    "\n",
    "for i in biri_hotels_url:\n",
    "    biri.get(i)\n",
    "    try:\n",
    "        user_rating = biri.find_element(By.XPATH, '//div/span[@class=\"a3b8729ab1 e6208ee469 cb2cbb3ccb\"]')\n",
    "        user_ratings.append(user_rating.text)\n",
    "    except NoSuchElementException:\n",
    "        user_ratings.append('')\n",
    "\n",
    "for i in biri_hotels_url:\n",
    "    biri.get(i)\n",
    "    try:\n",
    "        star_ratings = biri.find_element(By.XPATH, '//div[@class=\"aca0ade214 aaf30230d9 c2931f4182\"]/span/div/span')\n",
    "        star_rating.append(star_ratings.get_attribute('role'))\n",
    "    except NoSuchElementException:\n",
    "        star_rating.append('')\n",
    "\n",
    "for i in biri_hotels_url:\n",
    "    biri.get(i)\n",
    "    try:\n",
    "        review_scores = biri.find_element(By.XPATH, '//button[@class=\"a83ed08757\"]/div/div/div[1]')\n",
    "        review_score.append(review_scores.text)\n",
    "    except NoSuchElementException:\n",
    "        review_score.append('')"
   ]
  },
  {
   "cell_type": "code",
   "execution_count": 81,
   "id": "4eaa34ea",
   "metadata": {},
   "outputs": [
    {
     "data": {
      "text/plain": [
       "(300, 300, 300, 300, 300, 300, 300)"
      ]
     },
     "execution_count": 81,
     "metadata": {},
     "output_type": "execute_result"
    }
   ],
   "source": [
    "len(hotel), len(city), len(location), len(reviews_no), len(user_ratings), len(star_rating), len(review_score)"
   ]
  },
  {
   "cell_type": "code",
   "execution_count": 82,
   "id": "11462d05",
   "metadata": {},
   "outputs": [],
   "source": [
    "biri.close()"
   ]
  },
  {
   "cell_type": "markdown",
   "id": "0ec07305",
   "metadata": {},
   "source": [
    "### Berlin"
   ]
  },
  {
   "cell_type": "code",
   "execution_count": 83,
   "id": "7fe217f5",
   "metadata": {},
   "outputs": [],
   "source": [
    "berlin = webdriver.Chrome()\n",
    "berlin.get('https://shorturl.at/hpSV9')\n",
    "\n",
    "search = berlin.find_element(By.XPATH, '//input[@class=\"eb46370fe1\"]')\n",
    "search.send_keys('Berlin')\n",
    "time.sleep(5)\n",
    "\n",
    "button = berlin.find_element(By.XPATH, '//button[@class=\"a83ed08757 c21c56c305 a4c1805887 f671049264 d2529514af c082d89982 cceeb8986b\"]')\n",
    "button.click()\n",
    "\n",
    "cookie = berlin.find_element(By.ID, 'onetrust-accept-btn-handler')\n",
    "cookie.click()\n",
    "\n",
    "sort = berlin.find_element(By.XPATH, '//span[@class=\"fcd9eec8fb a07dcf7ef3 bf9a32efa5\"]')\n",
    "sort.click()\n",
    "\n",
    "high = berlin.find_element(By.XPATH, '//div[@class=\"f998a7c837 ec5d8a4630 ed9055eada da4aa3251d\"]/div/div/div/ul/li[3]')\n",
    "high.click()"
   ]
  },
  {
   "cell_type": "code",
   "execution_count": 85,
   "id": "5074dfa9",
   "metadata": {},
   "outputs": [
    {
     "data": {
      "text/plain": [
       "50"
      ]
     },
     "execution_count": 85,
     "metadata": {},
     "output_type": "execute_result"
    }
   ],
   "source": [
    "berlin_hotels_url = []\n",
    "\n",
    "start = 0\n",
    "end = 2\n",
    "for page in range(start,end):\n",
    "    url = berlin.find_elements(By.XPATH, '//h3[@class=\"aab71f8e4e\"]/a')\n",
    "    for i in url:\n",
    "        berlin_hotels_url.append(i.get_attribute('href')) \n",
    "    next_button = berlin.find_element(By.XPATH, '//div[3]/button/span/span[@class=\"fcd9eec8fb bf9a32efa5\"]')\n",
    "    next_button.click()\n",
    "    time.sleep(3)\n",
    "len(berlin_hotels_url)"
   ]
  },
  {
   "cell_type": "code",
   "execution_count": 86,
   "id": "51ddde6d",
   "metadata": {},
   "outputs": [],
   "source": [
    "for i in berlin_hotels_url:\n",
    "    berlin.get(i)\n",
    "    try:\n",
    "        hotels = berlin.find_element(By.XPATH,'//h2[@class=\"d2fee87262 pp-header__title\"]')\n",
    "        hotel.append(hotels.text)\n",
    "    except NoSuchElementException:\n",
    "        hotel.append('')\n",
    "\n",
    "for i in berlin_hotels_url:\n",
    "    berlin.get(i)\n",
    "    try:\n",
    "        cities = berlin.find_element(By.XPATH,'//li[5]/div[@class=\"bui-breadcrumb__text\"]/a')\n",
    "        city.append(cities.text)\n",
    "    except NoSuchElementException:\n",
    "        city.append('')\n",
    "\n",
    "for i in berlin_hotels_url:\n",
    "    berlin.get(i)\n",
    "    try:\n",
    "        locations = berlin.find_element(By.XPATH, '//span[@data-source=\"top_link\"]')\n",
    "        location.append(locations.text)\n",
    "    except NoSuchElementException:\n",
    "        location.append('')\n",
    "\n",
    "for i in berlin_hotels_url:\n",
    "    berlin.get(i)\n",
    "    try:\n",
    "        review_no = berlin.find_element(By.XPATH, '//a/div/div/div/div/div[@class=\"abf093bdfe f45d8e4c32 d935416c47\"]')\n",
    "        reviews_no.append(review_no.text.split(' ')[0])\n",
    "    except NoSuchElementException:\n",
    "        reviews_no.append('')\n",
    "\n",
    "for i in berlin_hotels_url:\n",
    "    berlin.get(i)\n",
    "    try:\n",
    "        user_rating = berlin.find_element(By.XPATH, '//div/span[@class=\"a3b8729ab1 e6208ee469 cb2cbb3ccb\"]')\n",
    "        user_ratings.append(user_rating.text)\n",
    "    except NoSuchElementException:\n",
    "        user_ratings.append('')\n",
    "\n",
    "for i in berlin_hotels_url:\n",
    "    berlin.get(i)\n",
    "    try:\n",
    "        star_ratings = berlin.find_element(By.XPATH, '//div[@class=\"aca0ade214 aaf30230d9 c2931f4182\"]/span/div/span')\n",
    "        star_rating.append(star_ratings.get_attribute('role'))\n",
    "    except NoSuchElementException:\n",
    "        star_rating.append('')\n",
    "\n",
    "for i in berlin_hotels_url:\n",
    "    berlin.get(i)\n",
    "    try:\n",
    "        review_scores = berlin.find_element(By.XPATH, '//button[@class=\"a83ed08757\"]/div/div/div[1]')\n",
    "        review_score.append(review_scores.text)\n",
    "    except NoSuchElementException:\n",
    "        review_score.append('')"
   ]
  },
  {
   "cell_type": "code",
   "execution_count": 87,
   "id": "07459753",
   "metadata": {},
   "outputs": [
    {
     "data": {
      "text/plain": [
       "(350, 350, 350, 350, 350, 350, 350)"
      ]
     },
     "execution_count": 87,
     "metadata": {},
     "output_type": "execute_result"
    }
   ],
   "source": [
    "len(hotel), len(city), len(location), len(reviews_no), len(user_ratings), len(star_rating), len(review_score)"
   ]
  },
  {
   "cell_type": "code",
   "execution_count": 88,
   "id": "9780ca45",
   "metadata": {},
   "outputs": [],
   "source": [
    "berlin.close()"
   ]
  },
  {
   "cell_type": "markdown",
   "id": "07a70194",
   "metadata": {},
   "source": [
    "### Sydney"
   ]
  },
  {
   "cell_type": "code",
   "execution_count": 92,
   "id": "b260eab7",
   "metadata": {},
   "outputs": [],
   "source": [
    "sydney = webdriver.Chrome()\n",
    "sydney.get('https://shorturl.at/hpSV9')\n",
    "\n",
    "search = sydney.find_element(By.XPATH, '//input[@class=\"eb46370fe1\"]')\n",
    "search.send_keys('Sydney')\n",
    "time.sleep(5)\n",
    "\n",
    "button = sydney.find_element(By.XPATH, '//button[@class=\"a83ed08757 c21c56c305 a4c1805887 f671049264 d2529514af c082d89982 cceeb8986b\"]')\n",
    "button.click()\n",
    "\n",
    "cookie = sydney.find_element(By.ID, 'onetrust-accept-btn-handler')\n",
    "cookie.click()\n",
    "\n",
    "sort = sydney.find_element(By.XPATH, '//span[@class=\"fcd9eec8fb a07dcf7ef3 bf9a32efa5\"]')\n",
    "sort.click()\n",
    "\n",
    "high = sydney.find_element(By.XPATH, '//div[@class=\"f998a7c837 ec5d8a4630 ed9055eada da4aa3251d\"]/div/div/div/ul/li[3]')\n",
    "high.click()"
   ]
  },
  {
   "cell_type": "code",
   "execution_count": 93,
   "id": "1ec843e9",
   "metadata": {},
   "outputs": [
    {
     "data": {
      "text/plain": [
       "50"
      ]
     },
     "execution_count": 93,
     "metadata": {},
     "output_type": "execute_result"
    }
   ],
   "source": [
    "sydney_hotels_url = []\n",
    "\n",
    "start = 0\n",
    "end = 2\n",
    "for page in range(start,end):\n",
    "    url = sydney.find_elements(By.XPATH, '//h3[@class=\"aab71f8e4e\"]/a')\n",
    "    for i in url:\n",
    "        sydney_hotels_url.append(i.get_attribute('href')) \n",
    "    next_button = sydney.find_element(By.XPATH, '//div[3]/button/span/span[@class=\"fcd9eec8fb bf9a32efa5\"]')\n",
    "    next_button.click()\n",
    "    time.sleep(3)\n",
    "len(sydney_hotels_url)"
   ]
  },
  {
   "cell_type": "code",
   "execution_count": 94,
   "id": "41ac210c",
   "metadata": {},
   "outputs": [],
   "source": [
    "for i in sydney_hotels_url:\n",
    "    sydney.get(i)\n",
    "    try:\n",
    "        hotels = sydney.find_element(By.XPATH,'//h2[@class=\"d2fee87262 pp-header__title\"]')\n",
    "        hotel.append(hotels.text)\n",
    "    except NoSuchElementException:\n",
    "        hotel.append('')\n",
    "\n",
    "for i in sydney_hotels_url:\n",
    "    sydney.get(i)\n",
    "    try:\n",
    "        cities = sydney.find_element(By.XPATH,'//li[5]/div[@class=\"bui-breadcrumb__text\"]/a')\n",
    "        city.append(cities.text)\n",
    "    except NoSuchElementException:\n",
    "        city.append('')\n",
    "\n",
    "for i in sydney_hotels_url:\n",
    "    sydney.get(i)\n",
    "    try:\n",
    "        locations = sydney.find_element(By.XPATH, '//span[@data-source=\"top_link\"]')\n",
    "        location.append(locations.text)\n",
    "    except NoSuchElementException:\n",
    "        location.append('')\n",
    "\n",
    "for i in sydney_hotels_url:\n",
    "    sydney.get(i)\n",
    "    try:\n",
    "        review_no = sydney.find_element(By.XPATH, '//a/div/div/div/div/div[@class=\"abf093bdfe f45d8e4c32 d935416c47\"]')\n",
    "        reviews_no.append(review_no.text.split(' ')[0])\n",
    "    except NoSuchElementException:\n",
    "        reviews_no.append('')\n",
    "\n",
    "for i in sydney_hotels_url:\n",
    "    sydney.get(i)\n",
    "    try:\n",
    "        user_rating = sydney.find_element(By.XPATH, '//div/span[@class=\"a3b8729ab1 e6208ee469 cb2cbb3ccb\"]')\n",
    "        user_ratings.append(user_rating.text)\n",
    "    except NoSuchElementException:\n",
    "        user_ratings.append('')\n",
    "\n",
    "for i in sydney_hotels_url:\n",
    "    sydney.get(i)\n",
    "    try:\n",
    "        star_ratings = sydney.find_element(By.XPATH, '//div[@class=\"aca0ade214 aaf30230d9 c2931f4182\"]/span/div/span')\n",
    "        star_rating.append(star_ratings.get_attribute('role'))\n",
    "    except NoSuchElementException:\n",
    "        star_rating.append('')\n",
    "\n",
    "for i in sydney_hotels_url:\n",
    "    sydney.get(i)\n",
    "    try:\n",
    "        review_scores = sydney.find_element(By.XPATH, '//button[@class=\"a83ed08757\"]/div/div/div[1]')\n",
    "        review_score.append(review_scores.text)\n",
    "    except NoSuchElementException:\n",
    "        review_score.append('')"
   ]
  },
  {
   "cell_type": "code",
   "execution_count": 95,
   "id": "63eef058",
   "metadata": {},
   "outputs": [
    {
     "data": {
      "text/plain": [
       "(400, 400, 400, 400, 400, 400, 400)"
      ]
     },
     "execution_count": 95,
     "metadata": {},
     "output_type": "execute_result"
    }
   ],
   "source": [
    "len(hotel), len(city), len(location), len(reviews_no), len(user_ratings), len(star_rating), len(review_score)"
   ]
  },
  {
   "cell_type": "code",
   "execution_count": 96,
   "id": "476cbe44",
   "metadata": {},
   "outputs": [],
   "source": [
    "sydney.close()"
   ]
  },
  {
   "cell_type": "markdown",
   "id": "6b5e40b5",
   "metadata": {},
   "source": [
    "### Melbourne"
   ]
  },
  {
   "cell_type": "code",
   "execution_count": 97,
   "id": "fb2a5387",
   "metadata": {},
   "outputs": [],
   "source": [
    "mel = webdriver.Chrome()\n",
    "mel.get('https://shorturl.at/hpSV9')\n",
    "\n",
    "search = mel.find_element(By.XPATH, '//input[@class=\"eb46370fe1\"]')\n",
    "search.send_keys('Melbourne')\n",
    "time.sleep(5)\n",
    "\n",
    "button = mel.find_element(By.XPATH, '//button[@class=\"a83ed08757 c21c56c305 a4c1805887 f671049264 d2529514af c082d89982 cceeb8986b\"]')\n",
    "button.click()\n",
    "\n",
    "cookie = mel.find_element(By.ID, 'onetrust-accept-btn-handler')\n",
    "cookie.click()\n",
    "\n",
    "sort = mel.find_element(By.XPATH, '//span[@class=\"fcd9eec8fb a07dcf7ef3 bf9a32efa5\"]')\n",
    "sort.click()\n",
    "\n",
    "high = mel.find_element(By.XPATH, '//div[@class=\"f998a7c837 ec5d8a4630 ed9055eada da4aa3251d\"]/div/div/div/ul/li[3]')\n",
    "high.click()"
   ]
  },
  {
   "cell_type": "code",
   "execution_count": 98,
   "id": "ac942090",
   "metadata": {},
   "outputs": [
    {
     "data": {
      "text/plain": [
       "50"
      ]
     },
     "execution_count": 98,
     "metadata": {},
     "output_type": "execute_result"
    }
   ],
   "source": [
    "mel_hotels_url = []\n",
    "\n",
    "start = 0\n",
    "end = 2\n",
    "for page in range(start,end):\n",
    "    url = mel.find_elements(By.XPATH, '//h3[@class=\"aab71f8e4e\"]/a')\n",
    "    for i in url:\n",
    "        mel_hotels_url.append(i.get_attribute('href')) \n",
    "    next_button = mel.find_element(By.XPATH, '//div[3]/button/span/span[@class=\"fcd9eec8fb bf9a32efa5\"]')\n",
    "    next_button.click()\n",
    "    time.sleep(3)\n",
    "len(mel_hotels_url)"
   ]
  },
  {
   "cell_type": "code",
   "execution_count": 99,
   "id": "9240b081",
   "metadata": {},
   "outputs": [],
   "source": [
    "for i in mel_hotels_url:\n",
    "    mel.get(i)\n",
    "    try:\n",
    "        hotels = mel.find_element(By.XPATH,'//h2[@class=\"d2fee87262 pp-header__title\"]')\n",
    "        hotel.append(hotels.text)\n",
    "    except NoSuchElementException:\n",
    "        hotel.append('')\n",
    "\n",
    "for i in mel_hotels_url:\n",
    "    mel.get(i)\n",
    "    try:\n",
    "        cities = mel.find_element(By.XPATH,'//li[5]/div[@class=\"bui-breadcrumb__text\"]/a')\n",
    "        city.append(cities.text)\n",
    "    except NoSuchElementException:\n",
    "        city.append('')\n",
    "\n",
    "for i in mel_hotels_url:\n",
    "    mel.get(i)\n",
    "    try:\n",
    "        locations = mel.find_element(By.XPATH, '//span[@data-source=\"top_link\"]')\n",
    "        location.append(locations.text)\n",
    "    except NoSuchElementException:\n",
    "        location.append('')\n",
    "\n",
    "for i in mel_hotels_url:\n",
    "    mel.get(i)\n",
    "    try:\n",
    "        review_no = mel.find_element(By.XPATH, '//a/div/div/div/div/div[@class=\"abf093bdfe f45d8e4c32 d935416c47\"]')\n",
    "        reviews_no.append(review_no.text.split(' ')[0])\n",
    "    except NoSuchElementException:\n",
    "        reviews_no.append('')\n",
    "\n",
    "for i in mel_hotels_url:\n",
    "    mel.get(i)\n",
    "    try:\n",
    "        user_rating = mel.find_element(By.XPATH, '//div/span[@class=\"a3b8729ab1 e6208ee469 cb2cbb3ccb\"]')\n",
    "        user_ratings.append(user_rating.text)\n",
    "    except NoSuchElementException:\n",
    "        user_ratings.append('')\n",
    "\n",
    "for i in mel_hotels_url:\n",
    "    mel.get(i)\n",
    "    try:\n",
    "        star_ratings = mel.find_element(By.XPATH, '//div[@class=\"aca0ade214 aaf30230d9 c2931f4182\"]/span/div/span')\n",
    "        star_rating.append(star_ratings.get_attribute('role'))\n",
    "    except NoSuchElementException:\n",
    "        star_rating.append('')\n",
    "\n",
    "for i in mel_hotels_url:\n",
    "    mel.get(i)\n",
    "    try:\n",
    "        review_scores = mel.find_element(By.XPATH, '//button[@class=\"a83ed08757\"]/div/div/div[1]')\n",
    "        review_score.append(review_scores.text)\n",
    "    except NoSuchElementException:\n",
    "        review_score.append('')"
   ]
  },
  {
   "cell_type": "code",
   "execution_count": 100,
   "id": "525b2f52",
   "metadata": {},
   "outputs": [
    {
     "data": {
      "text/plain": [
       "(450, 450, 450, 450, 450, 450, 450)"
      ]
     },
     "execution_count": 100,
     "metadata": {},
     "output_type": "execute_result"
    }
   ],
   "source": [
    "len(hotel), len(city), len(location), len(reviews_no), len(user_ratings), len(star_rating), len(review_score)"
   ]
  },
  {
   "cell_type": "code",
   "execution_count": 101,
   "id": "87577510",
   "metadata": {},
   "outputs": [],
   "source": [
    "mel.close()"
   ]
  },
  {
   "cell_type": "markdown",
   "id": "e65706f9",
   "metadata": {},
   "source": [
    "### Paris"
   ]
  },
  {
   "cell_type": "code",
   "execution_count": 102,
   "id": "2f631d15",
   "metadata": {},
   "outputs": [],
   "source": [
    "paris = webdriver.Chrome()\n",
    "paris.get('https://shorturl.at/hpSV9')\n",
    "\n",
    "search = paris.find_element(By.XPATH, '//input[@class=\"eb46370fe1\"]')\n",
    "search.send_keys('Paris')\n",
    "time.sleep(5)\n",
    "\n",
    "button = paris.find_element(By.XPATH, '//button[@class=\"a83ed08757 c21c56c305 a4c1805887 f671049264 d2529514af c082d89982 cceeb8986b\"]')\n",
    "button.click()\n",
    "\n",
    "cookie = paris.find_element(By.ID, 'onetrust-accept-btn-handler')\n",
    "cookie.click()\n",
    "\n",
    "sort = paris.find_element(By.XPATH, '//span[@class=\"fcd9eec8fb a07dcf7ef3 bf9a32efa5\"]')\n",
    "sort.click()\n",
    "\n",
    "high = paris.find_element(By.XPATH, '//div[@class=\"f998a7c837 ec5d8a4630 ed9055eada da4aa3251d\"]/div/div/div/ul/li[3]')\n",
    "high.click()"
   ]
  },
  {
   "cell_type": "code",
   "execution_count": 103,
   "id": "3fe48762",
   "metadata": {},
   "outputs": [
    {
     "data": {
      "text/plain": [
       "50"
      ]
     },
     "execution_count": 103,
     "metadata": {},
     "output_type": "execute_result"
    }
   ],
   "source": [
    "paris_hotels_url = []\n",
    "\n",
    "start = 0\n",
    "end = 2\n",
    "for page in range(start,end):\n",
    "    url = paris.find_elements(By.XPATH, '//h3[@class=\"aab71f8e4e\"]/a')\n",
    "    for i in url:\n",
    "        paris_hotels_url.append(i.get_attribute('href')) \n",
    "    next_button = paris.find_element(By.XPATH, '//div[3]/button/span/span[@class=\"fcd9eec8fb bf9a32efa5\"]')\n",
    "    next_button.click()\n",
    "    time.sleep(3)\n",
    "len(paris_hotels_url)"
   ]
  },
  {
   "cell_type": "code",
   "execution_count": 104,
   "id": "51a406b3",
   "metadata": {},
   "outputs": [],
   "source": [
    "for i in paris_hotels_url:\n",
    "    paris.get(i)\n",
    "    try:\n",
    "        hotels = paris.find_element(By.XPATH,'//h2[@class=\"d2fee87262 pp-header__title\"]')\n",
    "        hotel.append(hotels.text)\n",
    "    except NoSuchElementException:\n",
    "        hotel.append('')\n",
    "\n",
    "for i in paris_hotels_url:\n",
    "    paris.get(i)\n",
    "    try:\n",
    "        cities = paris.find_element(By.XPATH,'//li[5]/div[@class=\"bui-breadcrumb__text\"]/a')\n",
    "        city.append(cities.text)\n",
    "    except NoSuchElementException:\n",
    "        city.append('')\n",
    "\n",
    "for i in paris_hotels_url:\n",
    "    paris.get(i)\n",
    "    try:\n",
    "        locations = paris.find_element(By.XPATH, '//span[@data-source=\"top_link\"]')\n",
    "        location.append(locations.text)\n",
    "    except NoSuchElementException:\n",
    "        location.append('')\n",
    "\n",
    "for i in paris_hotels_url:\n",
    "    paris.get(i)\n",
    "    try:\n",
    "        review_no = paris.find_element(By.XPATH, '//a/div/div/div/div/div[@class=\"abf093bdfe f45d8e4c32 d935416c47\"]')\n",
    "        reviews_no.append(review_no.text.split(' ')[0])\n",
    "    except NoSuchElementException:\n",
    "        reviews_no.append('')\n",
    "\n",
    "for i in paris_hotels_url:\n",
    "    paris.get(i)\n",
    "    try:\n",
    "        user_rating = paris.find_element(By.XPATH, '//div/span[@class=\"a3b8729ab1 e6208ee469 cb2cbb3ccb\"]')\n",
    "        user_ratings.append(user_rating.text)\n",
    "    except NoSuchElementException:\n",
    "        user_ratings.append('')\n",
    "\n",
    "for i in paris_hotels_url:\n",
    "    paris.get(i)\n",
    "    try:\n",
    "        star_ratings = paris.find_element(By.XPATH, '//div[@class=\"aca0ade214 aaf30230d9 c2931f4182\"]/span/div/span')\n",
    "        star_rating.append(star_ratings.get_attribute('role'))\n",
    "    except NoSuchElementException:\n",
    "        star_rating.append('')\n",
    "\n",
    "for i in paris_hotels_url:\n",
    "    paris.get(i)\n",
    "    try:\n",
    "        review_scores = paris.find_element(By.XPATH, '//button[@class=\"a83ed08757\"]/div/div/div[1]')\n",
    "        review_score.append(review_scores.text)\n",
    "    except NoSuchElementException:\n",
    "        review_score.append('')"
   ]
  },
  {
   "cell_type": "code",
   "execution_count": 105,
   "id": "c1a77949",
   "metadata": {},
   "outputs": [
    {
     "data": {
      "text/plain": [
       "(500, 500, 500, 500, 500, 500, 500)"
      ]
     },
     "execution_count": 105,
     "metadata": {},
     "output_type": "execute_result"
    }
   ],
   "source": [
    "len(hotel), len(city), len(location), len(reviews_no), len(user_ratings), len(star_rating), len(review_score)"
   ]
  },
  {
   "cell_type": "code",
   "execution_count": 106,
   "id": "9a2661c9",
   "metadata": {},
   "outputs": [],
   "source": [
    "paris.close()"
   ]
  },
  {
   "cell_type": "markdown",
   "id": "fe5c95eb",
   "metadata": {},
   "source": [
    "### Tokyo"
   ]
  },
  {
   "cell_type": "code",
   "execution_count": 107,
   "id": "a8da3ed8",
   "metadata": {},
   "outputs": [],
   "source": [
    "tokyo = webdriver.Chrome()\n",
    "tokyo.get('https://shorturl.at/hpSV9')\n",
    "\n",
    "search = tokyo.find_element(By.XPATH, '//input[@class=\"eb46370fe1\"]')\n",
    "search.send_keys('Tokyo')\n",
    "time.sleep(5)\n",
    "\n",
    "button = tokyo.find_element(By.XPATH, '//button[@class=\"a83ed08757 c21c56c305 a4c1805887 f671049264 d2529514af c082d89982 cceeb8986b\"]')\n",
    "button.click()\n",
    "\n",
    "cookie = tokyo.find_element(By.ID, 'onetrust-accept-btn-handler')\n",
    "cookie.click()\n",
    "\n",
    "sort = tokyo.find_element(By.XPATH, '//span[@class=\"fcd9eec8fb a07dcf7ef3 bf9a32efa5\"]')\n",
    "sort.click()\n",
    "\n",
    "high = tokyo.find_element(By.XPATH, '//div[@class=\"f998a7c837 ec5d8a4630 ed9055eada da4aa3251d\"]/div/div/div/ul/li[3]')\n",
    "high.click()"
   ]
  },
  {
   "cell_type": "code",
   "execution_count": 108,
   "id": "28102afe",
   "metadata": {},
   "outputs": [
    {
     "data": {
      "text/plain": [
       "50"
      ]
     },
     "execution_count": 108,
     "metadata": {},
     "output_type": "execute_result"
    }
   ],
   "source": [
    "tokyo_hotels_url = []\n",
    "\n",
    "start = 0\n",
    "end = 2\n",
    "for page in range(start,end):\n",
    "    url = tokyo.find_elements(By.XPATH, '//h3[@class=\"aab71f8e4e\"]/a')\n",
    "    for i in url:\n",
    "        tokyo_hotels_url.append(i.get_attribute('href')) \n",
    "    next_button = tokyo.find_element(By.XPATH, '//div[3]/button/span/span[@class=\"fcd9eec8fb bf9a32efa5\"]')\n",
    "    next_button.click()\n",
    "    time.sleep(3)\n",
    "len(tokyo_hotels_url)"
   ]
  },
  {
   "cell_type": "code",
   "execution_count": 109,
   "id": "9e30d358",
   "metadata": {},
   "outputs": [],
   "source": [
    "for i in tokyo_hotels_url:\n",
    "    tokyo.get(i)\n",
    "    try:\n",
    "        hotels = tokyo.find_element(By.XPATH,'//h2[@class=\"d2fee87262 pp-header__title\"]')\n",
    "        hotel.append(hotels.text)\n",
    "    except NoSuchElementException:\n",
    "        hotel.append('')\n",
    "\n",
    "for i in tokyo_hotels_url:\n",
    "    tokyo.get(i)\n",
    "    try:\n",
    "        cities = tokyo.find_element(By.XPATH,'//li[5]/div[@class=\"bui-breadcrumb__text\"]/a')\n",
    "        city.append(cities.text)\n",
    "    except NoSuchElementException:\n",
    "        city.append('')\n",
    "\n",
    "for i in tokyo_hotels_url:\n",
    "    tokyo.get(i)\n",
    "    try:\n",
    "        locations = tokyo.find_element(By.XPATH, '//span[@data-source=\"top_link\"]')\n",
    "        location.append(locations.text)\n",
    "    except NoSuchElementException:\n",
    "        location.append('')\n",
    "\n",
    "for i in tokyo_hotels_url:\n",
    "    tokyo.get(i)\n",
    "    try:\n",
    "        review_no = tokyo.find_element(By.XPATH, '//a/div/div/div/div/div[@class=\"abf093bdfe f45d8e4c32 d935416c47\"]')\n",
    "        reviews_no.append(review_no.text.split(' ')[0])\n",
    "    except NoSuchElementException:\n",
    "        reviews_no.append('')\n",
    "\n",
    "for i in tokyo_hotels_url:\n",
    "    tokyo.get(i)\n",
    "    try:\n",
    "        user_rating = tokyo.find_element(By.XPATH, '//div/span[@class=\"a3b8729ab1 e6208ee469 cb2cbb3ccb\"]')\n",
    "        user_ratings.append(user_rating.text)\n",
    "    except NoSuchElementException:\n",
    "        user_ratings.append('')\n",
    "\n",
    "for i in tokyo_hotels_url:\n",
    "    tokyo.get(i)\n",
    "    try:\n",
    "        star_ratings = tokyo.find_element(By.XPATH, '//div[@class=\"aca0ade214 aaf30230d9 c2931f4182\"]/span/div/span')\n",
    "        star_rating.append(star_ratings.get_attribute('role'))\n",
    "    except NoSuchElementException:\n",
    "        star_rating.append('')\n",
    "\n",
    "for i in tokyo_hotels_url:\n",
    "    tokyo.get(i)\n",
    "    try:\n",
    "        review_scores = tokyo.find_element(By.XPATH, '//button[@class=\"a83ed08757\"]/div/div/div[1]')\n",
    "        review_score.append(review_scores.text)\n",
    "    except NoSuchElementException:\n",
    "        review_score.append('')"
   ]
  },
  {
   "cell_type": "code",
   "execution_count": 110,
   "id": "6188d6ea",
   "metadata": {},
   "outputs": [
    {
     "data": {
      "text/plain": [
       "(550, 550, 550, 550, 550, 550, 550)"
      ]
     },
     "execution_count": 110,
     "metadata": {},
     "output_type": "execute_result"
    }
   ],
   "source": [
    "len(hotel), len(city), len(location), len(reviews_no), len(user_ratings), len(star_rating), len(review_score)"
   ]
  },
  {
   "cell_type": "code",
   "execution_count": 111,
   "id": "0aaf06ef",
   "metadata": {},
   "outputs": [],
   "source": [
    "tokyo.close()"
   ]
  },
  {
   "cell_type": "markdown",
   "id": "11de8ddb",
   "metadata": {},
   "source": [
    "### Toronto \\"
   ]
  },
  {
   "cell_type": "code",
   "execution_count": 112,
   "id": "9aaa6201",
   "metadata": {},
   "outputs": [],
   "source": [
    "toronto = webdriver.Chrome()\n",
    "toronto.get('https://shorturl.at/hpSV9')\n",
    "\n",
    "search = toronto.find_element(By.XPATH, '//input[@class=\"eb46370fe1\"]')\n",
    "search.send_keys('Toronto')\n",
    "time.sleep(5)\n",
    "\n",
    "button = toronto.find_element(By.XPATH, '//button[@class=\"a83ed08757 c21c56c305 a4c1805887 f671049264 d2529514af c082d89982 cceeb8986b\"]')\n",
    "button.click()\n",
    "\n",
    "cookie = toronto.find_element(By.ID, 'onetrust-accept-btn-handler')\n",
    "cookie.click()\n",
    "\n",
    "sort = toronto.find_element(By.XPATH, '//span[@class=\"fcd9eec8fb a07dcf7ef3 bf9a32efa5\"]')\n",
    "sort.click()\n",
    "\n",
    "high = toronto.find_element(By.XPATH, '//div[@class=\"f998a7c837 ec5d8a4630 ed9055eada da4aa3251d\"]/div/div/div/ul/li[3]')\n",
    "high.click()"
   ]
  },
  {
   "cell_type": "code",
   "execution_count": 113,
   "id": "b305c8cd",
   "metadata": {},
   "outputs": [
    {
     "data": {
      "text/plain": [
       "50"
      ]
     },
     "execution_count": 113,
     "metadata": {},
     "output_type": "execute_result"
    }
   ],
   "source": [
    "toronto_hotels_url = []\n",
    "\n",
    "start = 0\n",
    "end = 2\n",
    "for page in range(start,end):\n",
    "    url = toronto.find_elements(By.XPATH, '//h3[@class=\"aab71f8e4e\"]/a')\n",
    "    for i in url:\n",
    "        toronto_hotels_url.append(i.get_attribute('href')) \n",
    "    next_button = toronto.find_element(By.XPATH, '//div[3]/button/span/span[@class=\"fcd9eec8fb bf9a32efa5\"]')\n",
    "    next_button.click()\n",
    "    time.sleep(3)\n",
    "len(toronto_hotels_url)"
   ]
  },
  {
   "cell_type": "code",
   "execution_count": 114,
   "id": "b0ddfb7e",
   "metadata": {},
   "outputs": [],
   "source": [
    "for i in toronto_hotels_url:\n",
    "    toronto.get(i)\n",
    "    try:\n",
    "        hotels = toronto.find_element(By.XPATH,'//h2[@class=\"d2fee87262 pp-header__title\"]')\n",
    "        hotel.append(hotels.text)\n",
    "    except NoSuchElementException:\n",
    "        hotel.append('')\n",
    "\n",
    "for i in toronto_hotels_url:\n",
    "    toronto.get(i)\n",
    "    try:\n",
    "        cities = toronto.find_element(By.XPATH,'//li[5]/div[@class=\"bui-breadcrumb__text\"]/a')\n",
    "        city.append(cities.text)\n",
    "    except NoSuchElementException:\n",
    "        city.append('')\n",
    "\n",
    "for i in toronto_hotels_url:\n",
    "    toronto.get(i)\n",
    "    try:\n",
    "        locations = toronto.find_element(By.XPATH, '//span[@data-source=\"top_link\"]')\n",
    "        location.append(locations.text)\n",
    "    except NoSuchElementException:\n",
    "        location.append('')\n",
    "\n",
    "for i in toronto_hotels_url:\n",
    "    toronto.get(i)\n",
    "    try:\n",
    "        review_no = toronto.find_element(By.XPATH, '//a/div/div/div/div/div[@class=\"abf093bdfe f45d8e4c32 d935416c47\"]')\n",
    "        reviews_no.append(review_no.text.split(' ')[0])\n",
    "    except NoSuchElementException:\n",
    "        reviews_no.append('')\n",
    "\n",
    "for i in toronto_hotels_url:\n",
    "    toronto.get(i)\n",
    "    try:\n",
    "        user_rating = toronto.find_element(By.XPATH, '//div/span[@class=\"a3b8729ab1 e6208ee469 cb2cbb3ccb\"]')\n",
    "        user_ratings.append(user_rating.text)\n",
    "    except NoSuchElementException:\n",
    "        user_ratings.append('')\n",
    "\n",
    "for i in toronto_hotels_url:\n",
    "    toronto.get(i)\n",
    "    try:\n",
    "        star_ratings = toronto.find_element(By.XPATH, '//div[@class=\"aca0ade214 aaf30230d9 c2931f4182\"]/span/div/span')\n",
    "        star_rating.append(star_ratings.get_attribute('role'))\n",
    "    except NoSuchElementException:\n",
    "        star_rating.append('')\n",
    "\n",
    "for i in toronto_hotels_url:\n",
    "    toronto.get(i)\n",
    "    try:\n",
    "        review_scores = toronto.find_element(By.XPATH, '//button[@class=\"a83ed08757\"]/div/div/div[1]')\n",
    "        review_score.append(review_scores.text)\n",
    "    except NoSuchElementException:\n",
    "        review_score.append('')"
   ]
  },
  {
   "cell_type": "code",
   "execution_count": 115,
   "id": "421a3abe",
   "metadata": {},
   "outputs": [
    {
     "data": {
      "text/plain": [
       "(600, 600, 600, 600, 600, 600, 600)"
      ]
     },
     "execution_count": 115,
     "metadata": {},
     "output_type": "execute_result"
    }
   ],
   "source": [
    "len(hotel), len(city), len(location), len(reviews_no), len(user_ratings), len(star_rating), len(review_score)"
   ]
  },
  {
   "cell_type": "code",
   "execution_count": 116,
   "id": "3dea4b25",
   "metadata": {},
   "outputs": [],
   "source": [
    "toronto.close()"
   ]
  },
  {
   "cell_type": "code",
   "execution_count": 117,
   "id": "6f94dc8c",
   "metadata": {},
   "outputs": [
    {
     "data": {
      "text/html": [
       "<div>\n",
       "<style scoped>\n",
       "    .dataframe tbody tr th:only-of-type {\n",
       "        vertical-align: middle;\n",
       "    }\n",
       "\n",
       "    .dataframe tbody tr th {\n",
       "        vertical-align: top;\n",
       "    }\n",
       "\n",
       "    .dataframe thead th {\n",
       "        text-align: right;\n",
       "    }\n",
       "</style>\n",
       "<table border=\"1\" class=\"dataframe\">\n",
       "  <thead>\n",
       "    <tr style=\"text-align: right;\">\n",
       "      <th></th>\n",
       "      <th>Hotel Name</th>\n",
       "      <th>City Name</th>\n",
       "      <th>Location</th>\n",
       "      <th>Number of reviews</th>\n",
       "      <th>Users ratings</th>\n",
       "      <th>Star rating</th>\n",
       "      <th>Review score</th>\n",
       "    </tr>\n",
       "  </thead>\n",
       "  <tbody>\n",
       "    <tr>\n",
       "      <th>0</th>\n",
       "      <td>Heaven Escape surrounded by stunning golf view...</td>\n",
       "      <td>Dubai</td>\n",
       "      <td>Dmac Hills, carson tower A, Dubai, United Arab...</td>\n",
       "      <td>2</td>\n",
       "      <td>Very good</td>\n",
       "      <td>img</td>\n",
       "      <td>8.5</td>\n",
       "    </tr>\n",
       "    <tr>\n",
       "      <th>1</th>\n",
       "      <td>2 Bedroom Apt with Sea View</td>\n",
       "      <td>Dubai</td>\n",
       "      <td>Dubai Marina, Dubai Marina, Dubai, United Arab...</td>\n",
       "      <td></td>\n",
       "      <td></td>\n",
       "      <td></td>\n",
       "      <td></td>\n",
       "    </tr>\n",
       "    <tr>\n",
       "      <th>2</th>\n",
       "      <td>Primestay - Bluewaters Residences 2BR, Dubai</td>\n",
       "      <td>Dubai</td>\n",
       "      <td>BLUEWATERS building 5, Dubai, United Arab Emir...</td>\n",
       "      <td></td>\n",
       "      <td></td>\n",
       "      <td>img</td>\n",
       "      <td></td>\n",
       "    </tr>\n",
       "    <tr>\n",
       "      <th>3</th>\n",
       "      <td>Anantara Residences Palm Jumeirah</td>\n",
       "      <td>Dubai</td>\n",
       "      <td>Crescent Road Anantara Residences, Palm Jumeir...</td>\n",
       "      <td></td>\n",
       "      <td></td>\n",
       "      <td>img</td>\n",
       "      <td></td>\n",
       "    </tr>\n",
       "    <tr>\n",
       "      <th>4</th>\n",
       "      <td>High Class 1BHK/Binghatti Mirage</td>\n",
       "      <td>Dubai</td>\n",
       "      <td>Street 15, District 10, قرية جميرا الدائرية - ...</td>\n",
       "      <td></td>\n",
       "      <td></td>\n",
       "      <td>img</td>\n",
       "      <td></td>\n",
       "    </tr>\n",
       "    <tr>\n",
       "      <th>...</th>\n",
       "      <td>...</td>\n",
       "      <td>...</td>\n",
       "      <td>...</td>\n",
       "      <td>...</td>\n",
       "      <td>...</td>\n",
       "      <td>...</td>\n",
       "      <td>...</td>\n",
       "    </tr>\n",
       "    <tr>\n",
       "      <th>595</th>\n",
       "      <td>Modern Lake View 1BR Condo plus Den with Balcony</td>\n",
       "      <td>Toronto</td>\n",
       "      <td>M5V 4A2 Toronto, Canada</td>\n",
       "      <td>8</td>\n",
       "      <td>9.3 Superb</td>\n",
       "      <td>img</td>\n",
       "      <td>9.3 Superb</td>\n",
       "    </tr>\n",
       "    <tr>\n",
       "      <th>596</th>\n",
       "      <td>Lovely private bedroom</td>\n",
       "      <td>Toronto</td>\n",
       "      <td>65 Lillian St, M4S 0A1 Toronto, Canada</td>\n",
       "      <td>1</td>\n",
       "      <td>Superb</td>\n",
       "      <td>img</td>\n",
       "      <td>9.0</td>\n",
       "    </tr>\n",
       "    <tr>\n",
       "      <th>597</th>\n",
       "      <td>The Novotel Toronto Centre</td>\n",
       "      <td></td>\n",
       "      <td>45 The Esplanade, M5E 1W2 Toronto, Canada</td>\n",
       "      <td>508</td>\n",
       "      <td>Very good</td>\n",
       "      <td>img</td>\n",
       "      <td>8.4</td>\n",
       "    </tr>\n",
       "    <tr>\n",
       "      <th>598</th>\n",
       "      <td>Presidential 2+1BR Condo, Entertainment Distri...</td>\n",
       "      <td>Toronto</td>\n",
       "      <td>12 York Street, M5J0A9 Toronto, Canada</td>\n",
       "      <td>5</td>\n",
       "      <td>Good</td>\n",
       "      <td>img</td>\n",
       "      <td>7.6</td>\n",
       "    </tr>\n",
       "    <tr>\n",
       "      <th>599</th>\n",
       "      <td>Downtown Toronto mins walk to CN Tower,Rogers ...</td>\n",
       "      <td></td>\n",
       "      <td>19 Grand Trunk Crescent, M5J 3A3 Toronto, Canada</td>\n",
       "      <td></td>\n",
       "      <td></td>\n",
       "      <td>img</td>\n",
       "      <td></td>\n",
       "    </tr>\n",
       "  </tbody>\n",
       "</table>\n",
       "<p>600 rows × 7 columns</p>\n",
       "</div>"
      ],
      "text/plain": [
       "                                            Hotel Name City Name  \\\n",
       "0    Heaven Escape surrounded by stunning golf view...     Dubai   \n",
       "1                          2 Bedroom Apt with Sea View     Dubai   \n",
       "2         Primestay - Bluewaters Residences 2BR, Dubai     Dubai   \n",
       "3                    Anantara Residences Palm Jumeirah     Dubai   \n",
       "4                     High Class 1BHK/Binghatti Mirage     Dubai   \n",
       "..                                                 ...       ...   \n",
       "595   Modern Lake View 1BR Condo plus Den with Balcony   Toronto   \n",
       "596                             Lovely private bedroom   Toronto   \n",
       "597                         The Novotel Toronto Centre             \n",
       "598  Presidential 2+1BR Condo, Entertainment Distri...   Toronto   \n",
       "599  Downtown Toronto mins walk to CN Tower,Rogers ...             \n",
       "\n",
       "                                              Location Number of reviews  \\\n",
       "0    Dmac Hills, carson tower A, Dubai, United Arab...                 2   \n",
       "1    Dubai Marina, Dubai Marina, Dubai, United Arab...                     \n",
       "2    BLUEWATERS building 5, Dubai, United Arab Emir...                     \n",
       "3    Crescent Road Anantara Residences, Palm Jumeir...                     \n",
       "4    Street 15, District 10, قرية جميرا الدائرية - ...                     \n",
       "..                                                 ...               ...   \n",
       "595                            M5V 4A2 Toronto, Canada                 8   \n",
       "596             65 Lillian St, M4S 0A1 Toronto, Canada                 1   \n",
       "597          45 The Esplanade, M5E 1W2 Toronto, Canada               508   \n",
       "598             12 York Street, M5J0A9 Toronto, Canada                 5   \n",
       "599   19 Grand Trunk Crescent, M5J 3A3 Toronto, Canada                     \n",
       "\n",
       "    Users ratings Star rating Review score  \n",
       "0       Very good         img          8.5  \n",
       "1                                           \n",
       "2                         img               \n",
       "3                         img               \n",
       "4                         img               \n",
       "..            ...         ...          ...  \n",
       "595    9.3 Superb         img   9.3 Superb  \n",
       "596        Superb         img          9.0  \n",
       "597     Very good         img          8.4  \n",
       "598          Good         img          7.6  \n",
       "599                       img               \n",
       "\n",
       "[600 rows x 7 columns]"
      ]
     },
     "execution_count": 117,
     "metadata": {},
     "output_type": "execute_result"
    }
   ],
   "source": [
    "# Data1.csv : sno, Hotel name ,cities, location, number of reviews, user ratings, star rating, review score\n",
    "Data1 = pd.DataFrame({'Hotel Name':hotel,'City Name':city, 'Location':location, 'Number of reviews':reviews_no, 'Users ratings':user_ratings, 'Star rating':star_rating, 'Review score':review_score})\n",
    "Data1"
   ]
  },
  {
   "cell_type": "code",
   "execution_count": 118,
   "id": "7873ac25",
   "metadata": {},
   "outputs": [],
   "source": [
    "Data1.to_csv('Data1')"
   ]
  },
  {
   "cell_type": "code",
   "execution_count": null,
   "id": "01db36cf",
   "metadata": {},
   "outputs": [],
   "source": []
  },
  {
   "cell_type": "markdown",
   "id": "01db524c",
   "metadata": {},
   "source": [
    "Data2.csv : sno, Hotel name ,Free wifi, Family rooms ,Non Smoking Rooms, Restaurant ,Bar, Heating ,Lift ,Breakfast Cuisine1,Breakfast Cuisine2, Breakfast Cuisine3(can take Yes /NO values)"
   ]
  },
  {
   "cell_type": "markdown",
   "id": "51b2b83e",
   "metadata": {},
   "source": [
    "### Dubai"
   ]
  },
  {
   "cell_type": "code",
   "execution_count": 129,
   "id": "e7fce8cc",
   "metadata": {},
   "outputs": [
    {
     "name": "stdout",
     "output_type": "stream",
     "text": [
      "['1', '1', '1', '1', '1', '1', '1', '1', '1', '1', '1', '1', '1', '1', '1', '1', '1', '1', '1', '1', '1', '1', '1', '1', '1', '0', '1', '1', '1', '1', '1', '1', '1', '1', '1', '0', '1', '1', '1', '1', '1', '1', '1', '1', '0', '1', '1', '0', '1', '1']\n"
     ]
    }
   ],
   "source": [
    "wifi = []\n",
    "for i in dubai_hotels_url:\n",
    "    dubai.get(i)\n",
    "    try:\n",
    "        wifis = dubai.find_element(By.XPATH,'//div[@class=\"hp--bh_stripe\"]/div/div/div/ul/li[4]/div[2]/div')\n",
    "        wifi.append('1')\n",
    "    except NoSuchElementException:\n",
    "        wifi.append('0')\n",
    "print(wifi)"
   ]
  },
  {
   "cell_type": "code",
   "execution_count": 146,
   "id": "15bbe280",
   "metadata": {},
   "outputs": [
    {
     "name": "stdout",
     "output_type": "stream",
     "text": [
      "['0', '0', '0', '1', '0', '0', '0', '0', '0', '0', '0', '0', '0', '1', '0', '0', '0', '0', '0', '0', '0', '0', '0', '0', '0', '1', '1', '1', '1', '1', '1', '0', '0', '0', '1', '0', '1', '0', '1', '0', '1', '0', '1', '1', '0', '1', '1', '0', '0', '0']\n"
     ]
    }
   ],
   "source": [
    "family_rooms = []\n",
    "for i in dubai_hotels_url:\n",
    "    dubai.get(i)\n",
    "    try:\n",
    "        family_room = dubai.find_element(By.XPATH,'//div[@class=\"e50d7535fa\"]/div[22]/div/ul/li[5]')\n",
    "        family_rooms.append('1')\n",
    "    except NoSuchElementException:\n",
    "        family_rooms.append('0')\n",
    "print(family_rooms)"
   ]
  },
  {
   "cell_type": "code",
   "execution_count": 138,
   "id": "08cddfa1",
   "metadata": {},
   "outputs": [
    {
     "name": "stdout",
     "output_type": "stream",
     "text": [
      "['0', '0', '0', '1', '0', '0', '0', '0', '0', '0', '0', '0', '0', '0', '0', '0', '0', '0', '0', '0', '0', '0', '0', '0', '0', '0', '1', '1', '1', '1', '1', '0', '0', '0', '1', '0', '1', '0', '1', '0', '1', '0', '1', '1', '0', '1', '1', '0', '0', '0']\n"
     ]
    }
   ],
   "source": [
    "non_smoking_rooms = []\n",
    "for i in dubai_hotels_url:\n",
    "    dubai.get(i)\n",
    "    try:\n",
    "        non_smoking_room = dubai.find_element(By.XPATH,'//div[@class=\"e50d7535fa\"]/div[22]/div/ul/li[6]')\n",
    "        non_smoking_rooms.append('1')\n",
    "    except NoSuchElementException:\n",
    "        non_smoking_rooms.append('0')\n",
    "print(non_smoking_rooms)"
   ]
  },
  {
   "cell_type": "code",
   "execution_count": 139,
   "id": "3b39dbaf",
   "metadata": {},
   "outputs": [
    {
     "name": "stdout",
     "output_type": "stream",
     "text": [
      "['1', '0', '0', '1', '0', '0', '1', '1', '0', '0', '1', '1', '0', '0', '1', '0', '0', '1', '0', '0', '0', '0', '0', '0', '0', '1', '1', '1', '1', '0', '1', '1', '0', '1', '1', '1', '1', '1', '0', '1', '1', '1', '1', '0', '1', '1', '0', '1', '1', '1']\n"
     ]
    }
   ],
   "source": [
    "restaurant = []\n",
    "for i in dubai_hotels_url:\n",
    "    dubai.get(i)\n",
    "    try:\n",
    "        restaurants = dubai.find_element(By.XPATH,'//div[@class=\"e50d7535fa\"]/div[14]/div/ul/li[3]')\n",
    "        restaurant.append('1')\n",
    "    except NoSuchElementException:\n",
    "        restaurant.append('0')\n",
    "print(restaurant)"
   ]
  },
  {
   "cell_type": "code",
   "execution_count": 140,
   "id": "188bf11f",
   "metadata": {},
   "outputs": [
    {
     "name": "stdout",
     "output_type": "stream",
     "text": [
      "['1', '0', '0', '1', '0', '0', '1', '1', '0', '0', '1', '1', '0', '0', '1', '0', '0', '1', '0', '1', '0', '0', '0', '0', '1', '1', '1', '1', '1', '0', '1', '1', '1', '1', '1', '1', '1', '1', '0', '1', '1', '1', '1', '0', '1', '1', '1', '1', '1', '1']\n"
     ]
    }
   ],
   "source": [
    "bar = []\n",
    "for i in dubai_hotels_url:\n",
    "    dubai.get(i)\n",
    "    try:\n",
    "        bars = dubai.find_element(By.XPATH,'//div[@class=\"e50d7535fa\"]/div[14]/div/ul/li[2]')\n",
    "        bar.append('1')\n",
    "    except NoSuchElementException:\n",
    "        bar.append('0')\n",
    "print(bar)"
   ]
  },
  {
   "cell_type": "code",
   "execution_count": 141,
   "id": "c01df77b",
   "metadata": {},
   "outputs": [
    {
     "name": "stdout",
     "output_type": "stream",
     "text": [
      "['0', '0', '0', '1', '0', '0', '0', '0', '0', '0', '0', '0', '0', '1', '0', '0', '0', '0', '0', '0', '0', '0', '0', '0', '0', '1', '1', '1', '1', '1', '1', '0', '0', '0', '1', '0', '1', '0', '1', '0', '1', '0', '1', '1', '0', '1', '1', '0', '0', '0']\n"
     ]
    }
   ],
   "source": [
    "heating = []\n",
    "for i in dubai_hotels_url:\n",
    "    dubai.get(i)\n",
    "    try:\n",
    "        heatings = dubai.find_element(By.XPATH,'//div[@class=\"e50d7535fa\"]/div[22]/div/ul/li[3]')\n",
    "        heating.append('1')\n",
    "    except NoSuchElementException:\n",
    "        heating.append('0')\n",
    "print(heating)"
   ]
  },
  {
   "cell_type": "code",
   "execution_count": 142,
   "id": "4c1a8417",
   "metadata": {},
   "outputs": [
    {
     "name": "stdout",
     "output_type": "stream",
     "text": [
      "['0', '0', '0', '1', '0', '0', '0', '0', '0', '0', '0', '0', '0', '1', '0', '0', '0', '0', '0', '0', '0', '0', '0', '0', '0', '1', '1', '1', '1', '1', '1', '0', '0', '0', '1', '0', '1', '0', '1', '0', '1', '0', '1', '1', '0', '1', '1', '0', '0', '0']\n"
     ]
    }
   ],
   "source": [
    "lift = []\n",
    "for i in dubai_hotels_url:\n",
    "    dubai.get(i)\n",
    "    try:\n",
    "        lifts = dubai.find_element(By.XPATH,'//div[@class=\"e50d7535fa\"]/div[22]/div/ul/li[4]')\n",
    "        lift.append('1')\n",
    "    except NoSuchElementException:\n",
    "        lift.append('0')\n",
    "print(lift)"
   ]
  },
  {
   "cell_type": "code",
   "execution_count": 147,
   "id": "e53e0d7e",
   "metadata": {},
   "outputs": [
    {
     "name": "stdout",
     "output_type": "stream",
     "text": [
      "['0', '0', '0', '1', '0', '0', '0', '1', '0', '0', '0', '0', '0', '0', '0', '0', '0', '0', '0', '0', '0', '0', '0', '0', '0', '1', '1', '1', '1', '1', '1', '1', '1', '1', '1', '1', '1', '1', '1', '1', '1', '1', '1', '1', '1', '1', '0', '1', '1', '1']\n"
     ]
    }
   ],
   "source": [
    "BC1 = []\n",
    "for i in dubai_hotels_url:\n",
    "    dubai.get(i)\n",
    "    try:\n",
    "        bc1 = dubai.find_element(By.XPATH,'//ul[@class=\"c807d72881 c843d0df03 e10711a42e\"]/li[1]/div/div[2]')\n",
    "        BC1.append('1')\n",
    "    except NoSuchElementException:\n",
    "        BC1.append('0')\n",
    "print(BC1)"
   ]
  },
  {
   "cell_type": "code",
   "execution_count": 150,
   "id": "44989f7d",
   "metadata": {},
   "outputs": [
    {
     "name": "stdout",
     "output_type": "stream",
     "text": [
      "['0', '0', '0', '0', '0', '0', '0', '0', '0', '0', '0', '0', '0', '0', '1', '0', '0', '0', '0', '0', '0', '0', '0', '0', '0', '1', '1', '1', '1', '1', '1', '1', '0', '1', '1', '1', '1', '1', '1', '1', '1', '1', '1', '1', '1', '1', '0', '1', '1', '1']\n"
     ]
    }
   ],
   "source": [
    "BC2 = []\n",
    "for i in dubai_hotels_url:\n",
    "    dubai.get(i)\n",
    "    try:\n",
    "        bc2 = dubai.find_element(By.XPATH,'//span[@class=\"ph-item-copy-breakfast-option\"]')\n",
    "        BC2.append('1')\n",
    "    except NoSuchElementException:\n",
    "        BC2.append('0')\n",
    "print(BC2)"
   ]
  },
  {
   "cell_type": "code",
   "execution_count": 151,
   "id": "b2b8d7dc",
   "metadata": {},
   "outputs": [
    {
     "name": "stdout",
     "output_type": "stream",
     "text": [
      "['1', '0', '0', '1', '0', '0', '0', '1', '0', '0', '0', '0', '0', '0', '0', '0', '0', '0', '0', '0', '0', '0', '0', '0', '0', '1', '1', '1', '1', '1', '1', '1', '1', '1', '1', '1', '1', '1', '1', '1', '1', '1', '1', '1', '1', '1', '1', '1', '1', '1']\n"
     ]
    }
   ],
   "source": [
    "BC3 = []\n",
    "for i in dubai_hotels_url:\n",
    "    dubai.get(i)\n",
    "    try:\n",
    "        bc3 = dubai.find_element(By.XPATH,'//div[@class=\"bcdcb105b3 f45d8e4c32 df64fda51b\"][1]')\n",
    "        BC3.append('1')\n",
    "    except NoSuchElementException:\n",
    "        BC3.append('0')\n",
    "print(BC3)"
   ]
  },
  {
   "cell_type": "code",
   "execution_count": 152,
   "id": "f8d8dfee",
   "metadata": {},
   "outputs": [
    {
     "data": {
      "text/plain": [
       "(50, 50, 50, 50, 50, 50, 50, 50, 50, 50)"
      ]
     },
     "execution_count": 152,
     "metadata": {},
     "output_type": "execute_result"
    }
   ],
   "source": [
    "len(wifi), len(family_rooms), len(non_smoking_rooms), len(restaurant), len(bar), len(heating), len(lift), len(BC1), len(BC2), len(BC3)"
   ]
  },
  {
   "cell_type": "code",
   "execution_count": null,
   "id": "4b085de7",
   "metadata": {},
   "outputs": [],
   "source": []
  },
  {
   "cell_type": "markdown",
   "id": "22ad3ff7",
   "metadata": {},
   "source": [
    "### London"
   ]
  },
  {
   "cell_type": "code",
   "execution_count": 160,
   "id": "5c5b34c3",
   "metadata": {},
   "outputs": [],
   "source": [
    "for i in london_hotels_url:\n",
    "    london.get(i)\n",
    "    try:\n",
    "        wifis = london.find_element(By.XPATH,'//div[@class=\"hp--bh_stripe\"]/div/div/div/ul/li[4]/div[2]/div')\n",
    "        wifi.append('1')\n",
    "    except NoSuchElementException:\n",
    "        wifi.append('0')\n",
    "        \n",
    "for i in london_hotels_url:\n",
    "    london.get(i)\n",
    "    try:\n",
    "        family_room = london.find_element(By.XPATH,'//div[@class=\"e50d7535fa\"]/div[22]/div/ul/li[5]')\n",
    "        family_rooms.append('1')\n",
    "    except NoSuchElementException:\n",
    "        family_rooms.append('0')\n",
    "        \n",
    "for i in london_hotels_url:\n",
    "    london.get(i)\n",
    "    try:\n",
    "        non_smoking_room = london.find_element(By.XPATH,'//div[@class=\"e50d7535fa\"]/div[22]/div/ul/li[6]')\n",
    "        non_smoking_rooms.append('1')\n",
    "    except NoSuchElementException:\n",
    "        non_smoking_rooms.append('0')\n",
    "\n",
    "for i in london_hotels_url:\n",
    "    london.get(i)\n",
    "    try:\n",
    "        restaurants = london.find_element(By.XPATH,'//div[@class=\"e50d7535fa\"]/div[14]/div/ul/li[3]')\n",
    "        restaurant.append('1')\n",
    "    except NoSuchElementException:\n",
    "        restaurant.append('0')\n",
    "        \n",
    "for i in london_hotels_url:\n",
    "    london.get(i)\n",
    "    try:\n",
    "        bars = london.find_element(By.XPATH,'//div[@class=\"e50d7535fa\"]/div[14]/div/ul/li[2]')\n",
    "        bar.append('1')\n",
    "    except NoSuchElementException:\n",
    "        bar.append('0')\n",
    "        \n",
    "for i in london_hotels_url:\n",
    "    london.get(i)\n",
    "    try:\n",
    "        heatings = london.find_element(By.XPATH,'//div[@class=\"e50d7535fa\"]/div[22]/div/ul/li[3]')\n",
    "        heating.append('1')\n",
    "    except NoSuchElementException:\n",
    "        heating.append('0')\n",
    "        \n",
    "for i in london_hotels_url:\n",
    "    london.get(i)\n",
    "    try:\n",
    "        lifts = london.find_element(By.XPATH,'//div[@class=\"e50d7535fa\"]/div[22]/div/ul/li[4]')\n",
    "        lift.append('1')\n",
    "    except NoSuchElementException:\n",
    "        lift.append('0')\n",
    "\n",
    "for i in london_hotels_url:\n",
    "    london.get(i)\n",
    "    try:\n",
    "        bc1 = london.find_element(By.XPATH,'//ul[@class=\"c807d72881 c843d0df03 e10711a42e\"]/li[1]/div/div[2]')\n",
    "        BC1.append('1')\n",
    "    except NoSuchElementException:\n",
    "        BC1.append('0')\n",
    "        \n",
    "for i in london_hotels_url:\n",
    "    london.get(i)\n",
    "    try:\n",
    "        bc2 = london.find_element(By.XPATH,'//span[@class=\"ph-item-copy-breakfast-option\"]')\n",
    "        BC2.append('1')\n",
    "    except NoSuchElementException:\n",
    "        BC2.append('0')\n",
    "        \n",
    "for i in london_hotels_url:\n",
    "    london.get(i)\n",
    "    try:\n",
    "        bc3 = london.find_element(By.XPATH,'//div[@class=\"bcdcb105b3 f45d8e4c32 df64fda51b\"][1]')\n",
    "        BC3.append('1')\n",
    "    except NoSuchElementException:\n",
    "        BC3.append('0')"
   ]
  },
  {
   "cell_type": "code",
   "execution_count": 161,
   "id": "394f7efa",
   "metadata": {},
   "outputs": [
    {
     "data": {
      "text/plain": [
       "(100, 100, 100, 100, 100, 100, 100, 100, 100, 100)"
      ]
     },
     "execution_count": 161,
     "metadata": {},
     "output_type": "execute_result"
    }
   ],
   "source": [
    "len(wifi), len(family_rooms), len(non_smoking_rooms), len(restaurant), len(bar), len(heating), len(lift), len(BC1), len(BC2), len(BC3)"
   ]
  },
  {
   "cell_type": "code",
   "execution_count": null,
   "id": "c60854ec",
   "metadata": {},
   "outputs": [],
   "source": []
  },
  {
   "cell_type": "code",
   "execution_count": 162,
   "id": "3ae62763",
   "metadata": {},
   "outputs": [],
   "source": [
    "kuala = webdriver.Chrome()\n",
    "kuala.get('https://shorturl.at/hpSV9')\n",
    "\n",
    "search = kuala.find_element(By.XPATH, '//input[@class=\"eb46370fe1\"]')\n",
    "search.send_keys('Kuala Lumpur')\n",
    "time.sleep(5)\n",
    "\n",
    "button = kuala.find_element(By.XPATH, '//button[@class=\"a83ed08757 c21c56c305 a4c1805887 f671049264 d2529514af c082d89982 cceeb8986b\"]')\n",
    "button.click()\n",
    "\n",
    "cookie = kuala.find_element(By.ID, 'onetrust-accept-btn-handler')\n",
    "cookie.click()\n",
    "\n",
    "sort = kuala.find_element(By.XPATH, '//span[@class=\"fcd9eec8fb a07dcf7ef3 bf9a32efa5\"]')\n",
    "sort.click()\n",
    "\n",
    "high = kuala.find_element(By.XPATH, '//div[@class=\"f998a7c837 ec5d8a4630 ed9055eada da4aa3251d\"]/div/div/div/ul/li[3]')\n",
    "high.click()"
   ]
  },
  {
   "cell_type": "markdown",
   "id": "f8c0fcb4",
   "metadata": {},
   "source": [
    "### Kuala Lampur"
   ]
  },
  {
   "cell_type": "code",
   "execution_count": 163,
   "id": "82f14533",
   "metadata": {},
   "outputs": [],
   "source": [
    "for i in kuala_hotels_url:\n",
    "    kuala.get(i)\n",
    "    try:\n",
    "        wifis = kuala.find_element(By.XPATH,'//div[@class=\"hp--bh_stripe\"]/div/div/div/ul/li[4]/div[2]/div')\n",
    "        wifi.append('1')\n",
    "    except NoSuchElementException:\n",
    "        wifi.append('0')\n",
    "        \n",
    "for i in kuala_hotels_url:\n",
    "    kuala.get(i)\n",
    "    try:\n",
    "        family_room = kuala.find_element(By.XPATH,'//div[@class=\"e50d7535fa\"]/div[22]/div/ul/li[5]')\n",
    "        family_rooms.append('1')\n",
    "    except NoSuchElementException:\n",
    "        family_rooms.append('0')\n",
    "        \n",
    "for i in kuala_hotels_url:\n",
    "    kuala.get(i)\n",
    "    try:\n",
    "        non_smoking_room = kuala.find_element(By.XPATH,'//div[@class=\"e50d7535fa\"]/div[22]/div/ul/li[6]')\n",
    "        non_smoking_rooms.append('1')\n",
    "    except NoSuchElementException:\n",
    "        non_smoking_rooms.append('0')\n",
    "\n",
    "for i in kuala_hotels_url:\n",
    "    kuala.get(i)\n",
    "    try:\n",
    "        restaurants = kuala.find_element(By.XPATH,'//div[@class=\"e50d7535fa\"]/div[14]/div/ul/li[3]')\n",
    "        restaurant.append('1')\n",
    "    except NoSuchElementException:\n",
    "        restaurant.append('0')\n",
    "        \n",
    "for i in kuala_hotels_url:\n",
    "    kuala.get(i)\n",
    "    try:\n",
    "        bars = kuala.find_element(By.XPATH,'//div[@class=\"e50d7535fa\"]/div[14]/div/ul/li[2]')\n",
    "        bar.append('1')\n",
    "    except NoSuchElementException:\n",
    "        bar.append('0')\n",
    "        \n",
    "for i in kuala_hotels_url:\n",
    "    kuala.get(i)\n",
    "    try:\n",
    "        heatings = kuala.find_element(By.XPATH,'//div[@class=\"e50d7535fa\"]/div[22]/div/ul/li[3]')\n",
    "        heating.append('1')\n",
    "    except NoSuchElementException:\n",
    "        heating.append('0')\n",
    "        \n",
    "for i in kuala_hotels_url:\n",
    "    kuala.get(i)\n",
    "    try:\n",
    "        lifts = kuala.find_element(By.XPATH,'//div[@class=\"e50d7535fa\"]/div[22]/div/ul/li[4]')\n",
    "        lift.append('1')\n",
    "    except NoSuchElementException:\n",
    "        lift.append('0')\n",
    "\n",
    "for i in kuala_hotels_url:\n",
    "    kuala.get(i)\n",
    "    try:\n",
    "        bc1 = kuala.find_element(By.XPATH,'//ul[@class=\"c807d72881 c843d0df03 e10711a42e\"]/li[1]/div/div[2]')\n",
    "        BC1.append('1')\n",
    "    except NoSuchElementException:\n",
    "        BC1.append('0')\n",
    "        \n",
    "for i in kuala_hotels_url:\n",
    "    kuala.get(i)\n",
    "    try:\n",
    "        bc2 = kuala.find_element(By.XPATH,'//span[@class=\"ph-item-copy-breakfast-option\"]')\n",
    "        BC2.append('1')\n",
    "    except NoSuchElementException:\n",
    "        BC2.append('0')\n",
    "        \n",
    "for i in kuala_hotels_url:\n",
    "    kuala.get(i)\n",
    "    try:\n",
    "        bc3 = kuala.find_element(By.XPATH,'//div[@class=\"bcdcb105b3 f45d8e4c32 df64fda51b\"][1]')\n",
    "        BC3.append('1')\n",
    "    except NoSuchElementException:\n",
    "        BC3.append('0')"
   ]
  },
  {
   "cell_type": "code",
   "execution_count": 164,
   "id": "8882d637",
   "metadata": {},
   "outputs": [
    {
     "data": {
      "text/plain": [
       "(150, 150, 150, 150, 150, 150, 150, 150, 150, 150)"
      ]
     },
     "execution_count": 164,
     "metadata": {},
     "output_type": "execute_result"
    }
   ],
   "source": [
    "len(wifi), len(family_rooms), len(non_smoking_rooms), len(restaurant), len(bar), len(heating), len(lift), len(BC1), len(BC2), len(BC3)"
   ]
  },
  {
   "cell_type": "code",
   "execution_count": 165,
   "id": "376ac09b",
   "metadata": {},
   "outputs": [],
   "source": [
    "man = webdriver.Chrome()\n",
    "man.get('https://shorturl.at/hpSV9')\n",
    "\n",
    "search = man.find_element(By.XPATH, '//input[@class=\"eb46370fe1\"]')\n",
    "search.send_keys('manchester')\n",
    "time.sleep(5)\n",
    "\n",
    "button = man.find_element(By.XPATH, '//button[@class=\"a83ed08757 c21c56c305 a4c1805887 f671049264 d2529514af c082d89982 cceeb8986b\"]')\n",
    "button.click()\n",
    "\n",
    "cookie = man.find_element(By.ID, 'onetrust-accept-btn-handler')\n",
    "cookie.click()\n",
    "\n",
    "sort = man.find_element(By.XPATH, '//span[@class=\"fcd9eec8fb a07dcf7ef3 bf9a32efa5\"]')\n",
    "sort.click()\n",
    "\n",
    "high = man.find_element(By.XPATH, '//div[@class=\"f998a7c837 ec5d8a4630 ed9055eada da4aa3251d\"]/div/div/div/ul/li[3]')\n",
    "high.click()"
   ]
  },
  {
   "cell_type": "markdown",
   "id": "673f1406",
   "metadata": {},
   "source": [
    "### Manchester"
   ]
  },
  {
   "cell_type": "code",
   "execution_count": 166,
   "id": "b311c205",
   "metadata": {},
   "outputs": [],
   "source": [
    "for i in man_hotels_url:\n",
    "    man.get(i)\n",
    "    try:\n",
    "        wifis = man.find_element(By.XPATH,'//div[@class=\"hp--bh_stripe\"]/div/div/div/ul/li[4]/div[2]/div')\n",
    "        wifi.append('1')\n",
    "    except NoSuchElementException:\n",
    "        wifi.append('0')\n",
    "        \n",
    "for i in man_hotels_url:\n",
    "    man.get(i)\n",
    "    try:\n",
    "        family_room = man.find_element(By.XPATH,'//div[@class=\"e50d7535fa\"]/div[22]/div/ul/li[5]')\n",
    "        family_rooms.append('1')\n",
    "    except NoSuchElementException:\n",
    "        family_rooms.append('0')\n",
    "        \n",
    "for i in man_hotels_url:\n",
    "    man.get(i)\n",
    "    try:\n",
    "        non_smoking_room = man.find_element(By.XPATH,'//div[@class=\"e50d7535fa\"]/div[22]/div/ul/li[6]')\n",
    "        non_smoking_rooms.append('1')\n",
    "    except NoSuchElementException:\n",
    "        non_smoking_rooms.append('0')\n",
    "\n",
    "for i in man_hotels_url:\n",
    "    man.get(i)\n",
    "    try:\n",
    "        restaurants = man.find_element(By.XPATH,'//div[@class=\"e50d7535fa\"]/div[14]/div/ul/li[3]')\n",
    "        restaurant.append('1')\n",
    "    except NoSuchElementException:\n",
    "        restaurant.append('0')\n",
    "        \n",
    "for i in man_hotels_url:\n",
    "    man.get(i)\n",
    "    try:\n",
    "        bars = man.find_element(By.XPATH,'//div[@class=\"e50d7535fa\"]/div[14]/div/ul/li[2]')\n",
    "        bar.append('1')\n",
    "    except NoSuchElementException:\n",
    "        bar.append('0')\n",
    "        \n",
    "for i in man_hotels_url:\n",
    "    man.get(i)\n",
    "    try:\n",
    "        heatings = man.find_element(By.XPATH,'//div[@class=\"e50d7535fa\"]/div[22]/div/ul/li[3]')\n",
    "        heating.append('1')\n",
    "    except NoSuchElementException:\n",
    "        heating.append('0')\n",
    "        \n",
    "for i in man_hotels_url:\n",
    "    man.get(i)\n",
    "    try:\n",
    "        lifts = man.find_element(By.XPATH,'//div[@class=\"e50d7535fa\"]/div[22]/div/ul/li[4]')\n",
    "        lift.append('1')\n",
    "    except NoSuchElementException:\n",
    "        lift.append('0')\n",
    "\n",
    "for i in man_hotels_url:\n",
    "    man.get(i)\n",
    "    try:\n",
    "        bc1 = man.find_element(By.XPATH,'//ul[@class=\"c807d72881 c843d0df03 e10711a42e\"]/li[1]/div/div[2]')\n",
    "        BC1.append('1')\n",
    "    except NoSuchElementException:\n",
    "        BC1.append('0')\n",
    "        \n",
    "for i in man_hotels_url:\n",
    "    man.get(i)\n",
    "    try:\n",
    "        bc2 = man.find_element(By.XPATH,'//span[@class=\"ph-item-copy-breakfast-option\"]')\n",
    "        BC2.append('1')\n",
    "    except NoSuchElementException:\n",
    "        BC2.append('0')\n",
    "        \n",
    "for i in man_hotels_url:\n",
    "    man.get(i)\n",
    "    try:\n",
    "        bc3 = man.find_element(By.XPATH,'//div[@class=\"bcdcb105b3 f45d8e4c32 df64fda51b\"][1]')\n",
    "        BC3.append('1')\n",
    "    except NoSuchElementException:\n",
    "        BC3.append('0')"
   ]
  },
  {
   "cell_type": "code",
   "execution_count": 167,
   "id": "1dd14964",
   "metadata": {},
   "outputs": [
    {
     "data": {
      "text/plain": [
       "(200, 200, 200, 200, 200, 200, 200, 200, 200, 200)"
      ]
     },
     "execution_count": 167,
     "metadata": {},
     "output_type": "execute_result"
    }
   ],
   "source": [
    "len(wifi), len(family_rooms), len(non_smoking_rooms), len(restaurant), len(bar), len(heating), len(lift), len(BC1), len(BC2), len(BC3)"
   ]
  },
  {
   "cell_type": "code",
   "execution_count": 201,
   "id": "6589c6f1",
   "metadata": {},
   "outputs": [],
   "source": [
    "man.close()"
   ]
  },
  {
   "cell_type": "code",
   "execution_count": 168,
   "id": "edcc5ea4",
   "metadata": {},
   "outputs": [],
   "source": [
    "delhi = webdriver.Chrome()\n",
    "delhi.get('https://shorturl.at/hpSV9')\n",
    "\n",
    "search = delhi.find_element(By.XPATH, '//input[@class=\"eb46370fe1\"]')\n",
    "search.send_keys('new delhi')\n",
    "time.sleep(5)\n",
    "\n",
    "button = delhi.find_element(By.XPATH, '//button[@class=\"a83ed08757 c21c56c305 a4c1805887 f671049264 d2529514af c082d89982 cceeb8986b\"]')\n",
    "button.click()\n",
    "\n",
    "cookie = delhi.find_element(By.ID, 'onetrust-accept-btn-handler')\n",
    "cookie.click()\n",
    "\n",
    "sort = delhi.find_element(By.XPATH, '//span[@class=\"fcd9eec8fb a07dcf7ef3 bf9a32efa5\"]')\n",
    "sort.click()\n",
    "\n",
    "high = delhi.find_element(By.XPATH, '//div[@class=\"f998a7c837 ec5d8a4630 ed9055eada da4aa3251d\"]/div/div/div/ul/li[3]')\n",
    "high.click()"
   ]
  },
  {
   "cell_type": "markdown",
   "id": "23c9fb03",
   "metadata": {},
   "source": [
    "### New Delhi"
   ]
  },
  {
   "cell_type": "code",
   "execution_count": 169,
   "id": "aaad35d9",
   "metadata": {},
   "outputs": [],
   "source": [
    "for i in delhi_hotels_url:\n",
    "    delhi.get(i)\n",
    "    try:\n",
    "        wifis = delhi.find_element(By.XPATH,'//div[@class=\"hp--bh_stripe\"]/div/div/div/ul/li[4]/div[2]/div')\n",
    "        wifi.append('1')\n",
    "    except NoSuchElementException:\n",
    "        wifi.append('0')\n",
    "        \n",
    "for i in delhi_hotels_url:\n",
    "    delhi.get(i)\n",
    "    try:\n",
    "        family_room = delhi.find_element(By.XPATH,'//div[@class=\"e50d7535fa\"]/div[22]/div/ul/li[5]')\n",
    "        family_rooms.append('1')\n",
    "    except NoSuchElementException:\n",
    "        family_rooms.append('0')\n",
    "        \n",
    "for i in delhi_hotels_url:\n",
    "    delhi.get(i)\n",
    "    try:\n",
    "        non_smoking_room = delhi.find_element(By.XPATH,'//div[@class=\"e50d7535fa\"]/div[22]/div/ul/li[6]')\n",
    "        non_smoking_rooms.append('1')\n",
    "    except NoSuchElementException:\n",
    "        non_smoking_rooms.append('0')\n",
    "\n",
    "for i in delhi_hotels_url:\n",
    "    delhi.get(i)\n",
    "    try:\n",
    "        restaurants = delhi.find_element(By.XPATH,'//div[@class=\"e50d7535fa\"]/div[14]/div/ul/li[3]')\n",
    "        restaurant.append('1')\n",
    "    except NoSuchElementException:\n",
    "        restaurant.append('0')\n",
    "        \n",
    "for i in delhi_hotels_url:\n",
    "    delhi.get(i)\n",
    "    try:\n",
    "        bars = delhi.find_element(By.XPATH,'//div[@class=\"e50d7535fa\"]/div[14]/div/ul/li[2]')\n",
    "        bar.append('1')\n",
    "    except NoSuchElementException:\n",
    "        bar.append('0')\n",
    "        \n",
    "for i in delhi_hotels_url:\n",
    "    delhi.get(i)\n",
    "    try:\n",
    "        heatings = delhi.find_element(By.XPATH,'//div[@class=\"e50d7535fa\"]/div[22]/div/ul/li[3]')\n",
    "        heating.append('1')\n",
    "    except NoSuchElementException:\n",
    "        heating.append('0')\n",
    "        \n",
    "for i in delhi_hotels_url:\n",
    "    delhi.get(i)\n",
    "    try:\n",
    "        lifts = delhi.find_element(By.XPATH,'//div[@class=\"e50d7535fa\"]/div[22]/div/ul/li[4]')\n",
    "        lift.append('1')\n",
    "    except NoSuchElementException:\n",
    "        lift.append('0')\n",
    "\n",
    "for i in delhi_hotels_url:\n",
    "    delhi.get(i)\n",
    "    try:\n",
    "        bc1 = delhi.find_element(By.XPATH,'//ul[@class=\"c807d72881 c843d0df03 e10711a42e\"]/li[1]/div/div[2]')\n",
    "        BC1.append('1')\n",
    "    except NoSuchElementException:\n",
    "        BC1.append('0')\n",
    "        \n",
    "for i in delhi_hotels_url:\n",
    "    delhi.get(i)\n",
    "    try:\n",
    "        bc2 = delhi.find_element(By.XPATH,'//span[@class=\"ph-item-copy-breakfast-option\"]')\n",
    "        BC2.append('1')\n",
    "    except NoSuchElementException:\n",
    "        BC2.append('0')\n",
    "        \n",
    "for i in delhi_hotels_url:\n",
    "    delhi.get(i)\n",
    "    try:\n",
    "        bc3 = delhi.find_element(By.XPATH,'//div[@class=\"bcdcb105b3 f45d8e4c32 df64fda51b\"][1]')\n",
    "        BC3.append('1')\n",
    "    except NoSuchElementException:\n",
    "        BC3.append('0')"
   ]
  },
  {
   "cell_type": "code",
   "execution_count": 170,
   "id": "646c823f",
   "metadata": {},
   "outputs": [
    {
     "data": {
      "text/plain": [
       "(250, 250, 250, 250, 250, 250, 250, 250, 250, 250)"
      ]
     },
     "execution_count": 170,
     "metadata": {},
     "output_type": "execute_result"
    }
   ],
   "source": [
    "len(wifi), len(family_rooms), len(non_smoking_rooms), len(restaurant), len(bar), len(heating), len(lift), len(BC1), len(BC2), len(BC3)"
   ]
  },
  {
   "cell_type": "code",
   "execution_count": 200,
   "id": "a7d1b2b6",
   "metadata": {},
   "outputs": [],
   "source": [
    "delhi.close()"
   ]
  },
  {
   "cell_type": "code",
   "execution_count": 171,
   "id": "31ab0443",
   "metadata": {},
   "outputs": [],
   "source": [
    "biri = webdriver.Chrome()\n",
    "biri.get('https://shorturl.at/hpSV9')\n",
    "\n",
    "search = biri.find_element(By.XPATH, '//input[@class=\"eb46370fe1\"]')\n",
    "search.send_keys('Birmingham')\n",
    "time.sleep(5)\n",
    "\n",
    "button = biri.find_element(By.XPATH, '//button[@class=\"a83ed08757 c21c56c305 a4c1805887 f671049264 d2529514af c082d89982 cceeb8986b\"]')\n",
    "button.click()\n",
    "\n",
    "cookie = biri.find_element(By.ID, 'onetrust-accept-btn-handler')\n",
    "cookie.click()\n",
    "\n",
    "sort = biri.find_element(By.XPATH, '//span[@class=\"fcd9eec8fb a07dcf7ef3 bf9a32efa5\"]')\n",
    "sort.click()\n",
    "\n",
    "high = biri.find_element(By.XPATH, '//div[@class=\"f998a7c837 ec5d8a4630 ed9055eada da4aa3251d\"]/div/div/div/ul/li[3]')\n",
    "high.click()"
   ]
  },
  {
   "cell_type": "markdown",
   "id": "6b548804",
   "metadata": {},
   "source": [
    "### Birmingham"
   ]
  },
  {
   "cell_type": "code",
   "execution_count": 173,
   "id": "0103d7d9",
   "metadata": {},
   "outputs": [],
   "source": [
    "for i in biri_hotels_url:\n",
    "    biri.get(i)\n",
    "    try:\n",
    "        wifis = biri.find_element(By.XPATH,'//div[@class=\"hp--bh_stripe\"]/div/div/div/ul/li[4]/div[2]/div')\n",
    "        wifi.append('1')\n",
    "    except NoSuchElementException:\n",
    "        wifi.append('0')\n",
    "        \n",
    "for i in biri_hotels_url:\n",
    "    biri.get(i)\n",
    "    try:\n",
    "        family_room = biri.find_element(By.XPATH,'//div[@class=\"e50d7535fa\"]/div[22]/div/ul/li[5]')\n",
    "        family_rooms.append('1')\n",
    "    except NoSuchElementException:\n",
    "        family_rooms.append('0')\n",
    "        \n",
    "for i in biri_hotels_url:\n",
    "    biri.get(i)\n",
    "    try:\n",
    "        non_smoking_room = biri.find_element(By.XPATH,'//div[@class=\"e50d7535fa\"]/div[22]/div/ul/li[6]')\n",
    "        non_smoking_rooms.append('1')\n",
    "    except NoSuchElementException:\n",
    "        non_smoking_rooms.append('0')\n",
    "\n",
    "for i in biri_hotels_url:\n",
    "    biri.get(i)\n",
    "    try:\n",
    "        restaurants = biri.find_element(By.XPATH,'//div[@class=\"e50d7535fa\"]/div[14]/div/ul/li[3]')\n",
    "        restaurant.append('1')\n",
    "    except NoSuchElementException:\n",
    "        restaurant.append('0')\n",
    "        \n",
    "for i in biri_hotels_url:\n",
    "    biri.get(i)\n",
    "    try:\n",
    "        bars = biri.find_element(By.XPATH,'//div[@class=\"e50d7535fa\"]/div[14]/div/ul/li[2]')\n",
    "        bar.append('1')\n",
    "    except NoSuchElementException:\n",
    "        bar.append('0')\n",
    "        \n",
    "for i in biri_hotels_url:\n",
    "    biri.get(i)\n",
    "    try:\n",
    "        heatings = biri.find_element(By.XPATH,'//div[@class=\"e50d7535fa\"]/div[22]/div/ul/li[3]')\n",
    "        heating.append('1')\n",
    "    except NoSuchElementException:\n",
    "        heating.append('0')\n",
    "        \n",
    "for i in biri_hotels_url:\n",
    "    biri.get(i)\n",
    "    try:\n",
    "        lifts = biri.find_element(By.XPATH,'//div[@class=\"e50d7535fa\"]/div[22]/div/ul/li[4]')\n",
    "        lift.append('1')\n",
    "    except NoSuchElementException:\n",
    "        lift.append('0')\n",
    "\n",
    "for i in biri_hotels_url:\n",
    "    biri.get(i)\n",
    "    try:\n",
    "        bc1 = biri.find_element(By.XPATH,'//ul[@class=\"c807d72881 c843d0df03 e10711a42e\"]/li[1]/div/div[2]')\n",
    "        BC1.append('1')\n",
    "    except NoSuchElementException:\n",
    "        BC1.append('0')\n",
    "        \n",
    "for i in biri_hotels_url:\n",
    "    biri.get(i)\n",
    "    try:\n",
    "        bc2 = biri.find_element(By.XPATH,'//span[@class=\"ph-item-copy-breakfast-option\"]')\n",
    "        BC2.append('1')\n",
    "    except NoSuchElementException:\n",
    "        BC2.append('0')\n",
    "        \n",
    "for i in biri_hotels_url:\n",
    "    biri.get(i)\n",
    "    try:\n",
    "        bc3 = biri.find_element(By.XPATH,'//div[@class=\"bcdcb105b3 f45d8e4c32 df64fda51b\"][1]')\n",
    "        BC3.append('1')\n",
    "    except NoSuchElementException:\n",
    "        BC3.append('0')"
   ]
  },
  {
   "cell_type": "code",
   "execution_count": 174,
   "id": "098ef587",
   "metadata": {},
   "outputs": [
    {
     "data": {
      "text/plain": [
       "(350, 350, 300, 300, 300, 300, 300, 300, 300, 300)"
      ]
     },
     "execution_count": 174,
     "metadata": {},
     "output_type": "execute_result"
    }
   ],
   "source": [
    "len(wifi), len(family_rooms), len(non_smoking_rooms), len(restaurant), len(bar), len(heating), len(lift), len(BC1), len(BC2), len(BC3)"
   ]
  },
  {
   "cell_type": "code",
   "execution_count": 175,
   "id": "3be21aec",
   "metadata": {},
   "outputs": [],
   "source": [
    "biri.close()"
   ]
  },
  {
   "cell_type": "code",
   "execution_count": 176,
   "id": "0e342fe7",
   "metadata": {},
   "outputs": [],
   "source": [
    "berlin = webdriver.Chrome()\n",
    "berlin.get('https://shorturl.at/hpSV9')\n",
    "\n",
    "search = berlin.find_element(By.XPATH, '//input[@class=\"eb46370fe1\"]')\n",
    "search.send_keys('Berlin')\n",
    "time.sleep(5)\n",
    "\n",
    "button = berlin.find_element(By.XPATH, '//button[@class=\"a83ed08757 c21c56c305 a4c1805887 f671049264 d2529514af c082d89982 cceeb8986b\"]')\n",
    "button.click()\n",
    "\n",
    "cookie = berlin.find_element(By.ID, 'onetrust-accept-btn-handler')\n",
    "cookie.click()\n",
    "\n",
    "sort = berlin.find_element(By.XPATH, '//span[@class=\"fcd9eec8fb a07dcf7ef3 bf9a32efa5\"]')\n",
    "sort.click()\n",
    "\n",
    "high = berlin.find_element(By.XPATH, '//div[@class=\"f998a7c837 ec5d8a4630 ed9055eada da4aa3251d\"]/div/div/div/ul/li[3]')\n",
    "high.click()"
   ]
  },
  {
   "cell_type": "markdown",
   "id": "e9fea238",
   "metadata": {},
   "source": [
    "### Berlin"
   ]
  },
  {
   "cell_type": "code",
   "execution_count": 177,
   "id": "acbc3ede",
   "metadata": {},
   "outputs": [],
   "source": [
    "for i in berlin_hotels_url:\n",
    "    berlin.get(i)\n",
    "    try:\n",
    "        wifis = berlin.find_element(By.XPATH,'//div[@class=\"hp--bh_stripe\"]/div/div/div/ul/li[4]/div[2]/div')\n",
    "        wifi.append('1')\n",
    "    except NoSuchElementException:\n",
    "        wifi.append('0')\n",
    "        \n",
    "for i in berlin_hotels_url:\n",
    "    berlin.get(i)\n",
    "    try:\n",
    "        family_room = berlin.find_element(By.XPATH,'//div[@class=\"e50d7535fa\"]/div[22]/div/ul/li[5]')\n",
    "        family_rooms.append('1')\n",
    "    except NoSuchElementException:\n",
    "        family_rooms.append('0')\n",
    "        \n",
    "for i in berlin_hotels_url:\n",
    "    berlin.get(i)\n",
    "    try:\n",
    "        non_smoking_room = berlin.find_element(By.XPATH,'//div[@class=\"e50d7535fa\"]/div[22]/div/ul/li[6]')\n",
    "        non_smoking_rooms.append('1')\n",
    "    except NoSuchElementException:\n",
    "        non_smoking_rooms.append('0')\n",
    "\n",
    "for i in berlin_hotels_url:\n",
    "    berlin.get(i)\n",
    "    try:\n",
    "        restaurants = berlin.find_element(By.XPATH,'//div[@class=\"e50d7535fa\"]/div[14]/div/ul/li[3]')\n",
    "        restaurant.append('1')\n",
    "    except NoSuchElementException:\n",
    "        restaurant.append('0')\n",
    "        \n",
    "for i in berlin_hotels_url:\n",
    "    berlin.get(i)\n",
    "    try:\n",
    "        bars = berlin.find_element(By.XPATH,'//div[@class=\"e50d7535fa\"]/div[14]/div/ul/li[2]')\n",
    "        bar.append('1')\n",
    "    except NoSuchElementException:\n",
    "        bar.append('0')\n",
    "        \n",
    "for i in berlin_hotels_url:\n",
    "    berlin.get(i)\n",
    "    try:\n",
    "        heatings = berlin.find_element(By.XPATH,'//div[@class=\"e50d7535fa\"]/div[22]/div/ul/li[3]')\n",
    "        heating.append('1')\n",
    "    except NoSuchElementException:\n",
    "        heating.append('0')\n",
    "        \n",
    "for i in berlin_hotels_url:\n",
    "    berlin.get(i)\n",
    "    try:\n",
    "        lifts = berlin.find_element(By.XPATH,'//div[@class=\"e50d7535fa\"]/div[22]/div/ul/li[4]')\n",
    "        lift.append('1')\n",
    "    except NoSuchElementException:\n",
    "        lift.append('0')\n",
    "\n",
    "for i in berlin_hotels_url:\n",
    "    berlin.get(i)\n",
    "    try:\n",
    "        bc1 = berlin.find_element(By.XPATH,'//ul[@class=\"c807d72881 c843d0df03 e10711a42e\"]/li[1]/div/div[2]')\n",
    "        BC1.append('1')\n",
    "    except NoSuchElementException:\n",
    "        BC1.append('0')\n",
    "        \n",
    "for i in berlin_hotels_url:\n",
    "    berlin.get(i)\n",
    "    try:\n",
    "        bc2 = berlin.find_element(By.XPATH,'//span[@class=\"ph-item-copy-breakfast-option\"]')\n",
    "        BC2.append('1')\n",
    "    except NoSuchElementException:\n",
    "        BC2.append('0')\n",
    "        \n",
    "for i in berlin_hotels_url:\n",
    "    berlin.get(i)\n",
    "    try:\n",
    "        bc3 = berlin.find_element(By.XPATH,'//div[@class=\"bcdcb105b3 f45d8e4c32 df64fda51b\"][1]')\n",
    "        BC3.append('1')\n",
    "    except NoSuchElementException:\n",
    "        BC3.append('0')"
   ]
  },
  {
   "cell_type": "code",
   "execution_count": 178,
   "id": "849e312f",
   "metadata": {},
   "outputs": [
    {
     "data": {
      "text/plain": [
       "(400, 400, 350, 350, 350, 350, 350, 350, 350, 350)"
      ]
     },
     "execution_count": 178,
     "metadata": {},
     "output_type": "execute_result"
    }
   ],
   "source": [
    "len(wifi), len(family_rooms), len(non_smoking_rooms), len(restaurant), len(bar), len(heating), len(lift), len(BC1), len(BC2), len(BC3)"
   ]
  },
  {
   "cell_type": "code",
   "execution_count": 179,
   "id": "b02c970b",
   "metadata": {},
   "outputs": [],
   "source": [
    "berlin.close()"
   ]
  },
  {
   "cell_type": "code",
   "execution_count": 180,
   "id": "66f9d87d",
   "metadata": {},
   "outputs": [],
   "source": [
    "sydney = webdriver.Chrome()\n",
    "sydney.get('https://shorturl.at/hpSV9')\n",
    "\n",
    "search = sydney.find_element(By.XPATH, '//input[@class=\"eb46370fe1\"]')\n",
    "search.send_keys('Sydney')\n",
    "time.sleep(5)\n",
    "\n",
    "button = sydney.find_element(By.XPATH, '//button[@class=\"a83ed08757 c21c56c305 a4c1805887 f671049264 d2529514af c082d89982 cceeb8986b\"]')\n",
    "button.click()\n",
    "\n",
    "cookie = sydney.find_element(By.ID, 'onetrust-accept-btn-handler')\n",
    "cookie.click()\n",
    "\n",
    "sort = sydney.find_element(By.XPATH, '//span[@class=\"fcd9eec8fb a07dcf7ef3 bf9a32efa5\"]')\n",
    "sort.click()\n",
    "\n",
    "high = sydney.find_element(By.XPATH, '//div[@class=\"f998a7c837 ec5d8a4630 ed9055eada da4aa3251d\"]/div/div/div/ul/li[3]')\n",
    "high.click()"
   ]
  },
  {
   "cell_type": "markdown",
   "id": "81c40183",
   "metadata": {},
   "source": [
    "### Sydney"
   ]
  },
  {
   "cell_type": "code",
   "execution_count": 181,
   "id": "bdb9fffd",
   "metadata": {},
   "outputs": [],
   "source": [
    "for i in sydney_hotels_url:\n",
    "    sydney.get(i)\n",
    "    try:\n",
    "        wifis = sydney.find_element(By.XPATH,'//div[@class=\"hp--bh_stripe\"]/div/div/div/ul/li[4]/div[2]/div')\n",
    "        wifi.append('1')\n",
    "    except NoSuchElementException:\n",
    "        wifi.append('0')\n",
    "        \n",
    "for i in sydney_hotels_url:\n",
    "    sydney.get(i)\n",
    "    try:\n",
    "        family_room = sydney.find_element(By.XPATH,'//div[@class=\"e50d7535fa\"]/div[22]/div/ul/li[5]')\n",
    "        family_rooms.append('1')\n",
    "    except NoSuchElementException:\n",
    "        family_rooms.append('0')\n",
    "        \n",
    "for i in sydney_hotels_url:\n",
    "    sydney.get(i)\n",
    "    try:\n",
    "        non_smoking_room = sydney.find_element(By.XPATH,'//div[@class=\"e50d7535fa\"]/div[22]/div/ul/li[6]')\n",
    "        non_smoking_rooms.append('1')\n",
    "    except NoSuchElementException:\n",
    "        non_smoking_rooms.append('0')\n",
    "\n",
    "for i in sydney_hotels_url:\n",
    "    sydney.get(i)\n",
    "    try:\n",
    "        restaurants = sydney.find_element(By.XPATH,'//div[@class=\"e50d7535fa\"]/div[14]/div/ul/li[3]')\n",
    "        restaurant.append('1')\n",
    "    except NoSuchElementException:\n",
    "        restaurant.append('0')\n",
    "        \n",
    "for i in sydney_hotels_url:\n",
    "    sydney.get(i)\n",
    "    try:\n",
    "        bars = sydney.find_element(By.XPATH,'//div[@class=\"e50d7535fa\"]/div[14]/div/ul/li[2]')\n",
    "        bar.append('1')\n",
    "    except NoSuchElementException:\n",
    "        bar.append('0')\n",
    "        \n",
    "for i in sydney_hotels_url:\n",
    "    sydney.get(i)\n",
    "    try:\n",
    "        heatings = sydney.find_element(By.XPATH,'//div[@class=\"e50d7535fa\"]/div[22]/div/ul/li[3]')\n",
    "        heating.append('1')\n",
    "    except NoSuchElementException:\n",
    "        heating.append('0')\n",
    "        \n",
    "for i in sydney_hotels_url:\n",
    "    sydney.get(i)\n",
    "    try:\n",
    "        lifts = sydney.find_element(By.XPATH,'//div[@class=\"e50d7535fa\"]/div[22]/div/ul/li[4]')\n",
    "        lift.append('1')\n",
    "    except NoSuchElementException:\n",
    "        lift.append('0')\n",
    "\n",
    "for i in sydney_hotels_url:\n",
    "    sydney.get(i)\n",
    "    try:\n",
    "        bc1 = sydney.find_element(By.XPATH,'//ul[@class=\"c807d72881 c843d0df03 e10711a42e\"]/li[1]/div/div[2]')\n",
    "        BC1.append('1')\n",
    "    except NoSuchElementException:\n",
    "        BC1.append('0')\n",
    "        \n",
    "for i in sydney_hotels_url:\n",
    "    sydney.get(i)\n",
    "    try:\n",
    "        bc2 = sydney.find_element(By.XPATH,'//span[@class=\"ph-item-copy-breakfast-option\"]')\n",
    "        BC2.append('1')\n",
    "    except NoSuchElementException:\n",
    "        BC2.append('0')\n",
    "        \n",
    "for i in sydney_hotels_url:\n",
    "    sydney.get(i)\n",
    "    try:\n",
    "        bc3 = sydney.find_element(By.XPATH,'//div[@class=\"bcdcb105b3 f45d8e4c32 df64fda51b\"][1]')\n",
    "        BC3.append('1')\n",
    "    except NoSuchElementException:\n",
    "        BC3.append('0')"
   ]
  },
  {
   "cell_type": "code",
   "execution_count": 182,
   "id": "26384f83",
   "metadata": {},
   "outputs": [
    {
     "data": {
      "text/plain": [
       "(450, 450, 400, 400, 400, 400, 400, 400, 400, 400)"
      ]
     },
     "execution_count": 182,
     "metadata": {},
     "output_type": "execute_result"
    }
   ],
   "source": [
    "len(wifi), len(family_rooms), len(non_smoking_rooms), len(restaurant), len(bar), len(heating), len(lift), len(BC1), len(BC2), len(BC3)"
   ]
  },
  {
   "cell_type": "code",
   "execution_count": 183,
   "id": "c0e6f2be",
   "metadata": {},
   "outputs": [],
   "source": [
    "sydney.close()"
   ]
  },
  {
   "cell_type": "code",
   "execution_count": 184,
   "id": "b7ca1945",
   "metadata": {},
   "outputs": [],
   "source": [
    "mel = webdriver.Chrome()\n",
    "mel.get('https://shorturl.at/hpSV9')\n",
    "\n",
    "search = mel.find_element(By.XPATH, '//input[@class=\"eb46370fe1\"]')\n",
    "search.send_keys('Melbourne')\n",
    "time.sleep(5)\n",
    "\n",
    "button = mel.find_element(By.XPATH, '//button[@class=\"a83ed08757 c21c56c305 a4c1805887 f671049264 d2529514af c082d89982 cceeb8986b\"]')\n",
    "button.click()\n",
    "\n",
    "cookie = mel.find_element(By.ID, 'onetrust-accept-btn-handler')\n",
    "cookie.click()\n",
    "\n",
    "sort = mel.find_element(By.XPATH, '//span[@class=\"fcd9eec8fb a07dcf7ef3 bf9a32efa5\"]')\n",
    "sort.click()\n",
    "\n",
    "high = mel.find_element(By.XPATH, '//div[@class=\"f998a7c837 ec5d8a4630 ed9055eada da4aa3251d\"]/div/div/div/ul/li[3]')\n",
    "high.click()"
   ]
  },
  {
   "cell_type": "markdown",
   "id": "114d1cda",
   "metadata": {},
   "source": [
    "### Melbourne"
   ]
  },
  {
   "cell_type": "code",
   "execution_count": 185,
   "id": "a578db35",
   "metadata": {},
   "outputs": [],
   "source": [
    "for i in mel_hotels_url:\n",
    "    mel.get(i)\n",
    "    try:\n",
    "        wifis = mel.find_element(By.XPATH,'//div[@class=\"hp--bh_stripe\"]/div/div/div/ul/li[4]/div[2]/div')\n",
    "        wifi.append('1')\n",
    "    except NoSuchElementException:\n",
    "        wifi.append('0')\n",
    "        \n",
    "for i in mel_hotels_url:\n",
    "    mel.get(i)\n",
    "    try:\n",
    "        family_room = mel.find_element(By.XPATH,'//div[@class=\"e50d7535fa\"]/div[22]/div/ul/li[5]')\n",
    "        family_rooms.append('1')\n",
    "    except NoSuchElementException:\n",
    "        family_rooms.append('0')\n",
    "        \n",
    "for i in mel_hotels_url:\n",
    "    mel.get(i)\n",
    "    try:\n",
    "        non_smoking_room = mel.find_element(By.XPATH,'//div[@class=\"e50d7535fa\"]/div[22]/div/ul/li[6]')\n",
    "        non_smoking_rooms.append('1')\n",
    "    except NoSuchElementException:\n",
    "        non_smoking_rooms.append('0')\n",
    "\n",
    "for i in mel_hotels_url:\n",
    "    mel.get(i)\n",
    "    try:\n",
    "        restaurants = mel.find_element(By.XPATH,'//div[@class=\"e50d7535fa\"]/div[14]/div/ul/li[3]')\n",
    "        restaurant.append('1')\n",
    "    except NoSuchElementException:\n",
    "        restaurant.append('0')\n",
    "        \n",
    "for i in mel_hotels_url:\n",
    "    mel.get(i)\n",
    "    try:\n",
    "        bars = mel.find_element(By.XPATH,'//div[@class=\"e50d7535fa\"]/div[14]/div/ul/li[2]')\n",
    "        bar.append('1')\n",
    "    except NoSuchElementException:\n",
    "        bar.append('0')\n",
    "        \n",
    "for i in mel_hotels_url:\n",
    "    mel.get(i)\n",
    "    try:\n",
    "        heatings = mel.find_element(By.XPATH,'//div[@class=\"e50d7535fa\"]/div[22]/div/ul/li[3]')\n",
    "        heating.append('1')\n",
    "    except NoSuchElementException:\n",
    "        heating.append('0')\n",
    "        \n",
    "for i in mel_hotels_url:\n",
    "    mel.get(i)\n",
    "    try:\n",
    "        lifts = mel.find_element(By.XPATH,'//div[@class=\"e50d7535fa\"]/div[22]/div/ul/li[4]')\n",
    "        lift.append('1')\n",
    "    except NoSuchElementException:\n",
    "        lift.append('0')\n",
    "\n",
    "for i in mel_hotels_url:\n",
    "    mel.get(i)\n",
    "    try:\n",
    "        bc1 = mel.find_element(By.XPATH,'//ul[@class=\"c807d72881 c843d0df03 e10711a42e\"]/li[1]/div/div[2]')\n",
    "        BC1.append('1')\n",
    "    except NoSuchElementException:\n",
    "        BC1.append('0')\n",
    "        \n",
    "for i in mel_hotels_url:\n",
    "    mel.get(i)\n",
    "    try:\n",
    "        bc2 = mel.find_element(By.XPATH,'//span[@class=\"ph-item-copy-breakfast-option\"]')\n",
    "        BC2.append('1')\n",
    "    except NoSuchElementException:\n",
    "        BC2.append('0')\n",
    "        \n",
    "for i in mel_hotels_url:\n",
    "    mel.get(i)\n",
    "    try:\n",
    "        bc3 = mel.find_element(By.XPATH,'//div[@class=\"bcdcb105b3 f45d8e4c32 df64fda51b\"][1]')\n",
    "        BC3.append('1')\n",
    "    except NoSuchElementException:\n",
    "        BC3.append('0')"
   ]
  },
  {
   "cell_type": "code",
   "execution_count": 186,
   "id": "5a99a022",
   "metadata": {},
   "outputs": [
    {
     "data": {
      "text/plain": [
       "(500, 500, 450, 450, 450, 450, 450, 450, 450, 450)"
      ]
     },
     "execution_count": 186,
     "metadata": {},
     "output_type": "execute_result"
    }
   ],
   "source": [
    "len(wifi), len(family_rooms), len(non_smoking_rooms), len(restaurant), len(bar), len(heating), len(lift), len(BC1), len(BC2), len(BC3)"
   ]
  },
  {
   "cell_type": "code",
   "execution_count": 187,
   "id": "35ad7741",
   "metadata": {},
   "outputs": [],
   "source": [
    "mel.close()"
   ]
  },
  {
   "cell_type": "code",
   "execution_count": 188,
   "id": "55efeb79",
   "metadata": {},
   "outputs": [],
   "source": [
    "paris = webdriver.Chrome()\n",
    "paris.get('https://shorturl.at/hpSV9')\n",
    "\n",
    "search = paris.find_element(By.XPATH, '//input[@class=\"eb46370fe1\"]')\n",
    "search.send_keys('Paris')\n",
    "time.sleep(5)\n",
    "\n",
    "button = paris.find_element(By.XPATH, '//button[@class=\"a83ed08757 c21c56c305 a4c1805887 f671049264 d2529514af c082d89982 cceeb8986b\"]')\n",
    "button.click()\n",
    "\n",
    "cookie = paris.find_element(By.ID, 'onetrust-accept-btn-handler')\n",
    "cookie.click()\n",
    "\n",
    "sort = paris.find_element(By.XPATH, '//span[@class=\"fcd9eec8fb a07dcf7ef3 bf9a32efa5\"]')\n",
    "sort.click()\n",
    "\n",
    "high = paris.find_element(By.XPATH, '//div[@class=\"f998a7c837 ec5d8a4630 ed9055eada da4aa3251d\"]/div/div/div/ul/li[3]')\n",
    "high.click()"
   ]
  },
  {
   "cell_type": "markdown",
   "id": "b14739ac",
   "metadata": {},
   "source": [
    "### Paris"
   ]
  },
  {
   "cell_type": "code",
   "execution_count": 189,
   "id": "a041dc55",
   "metadata": {},
   "outputs": [],
   "source": [
    "for i in paris_hotels_url:\n",
    "    paris.get(i)\n",
    "    try:\n",
    "        wifis = paris.find_element(By.XPATH,'//div[@class=\"hp--bh_stripe\"]/div/div/div/ul/li[4]/div[2]/div')\n",
    "        wifi.append('1')\n",
    "    except NoSuchElementException:\n",
    "        wifi.append('0')\n",
    "        \n",
    "for i in paris_hotels_url:\n",
    "    paris.get(i)\n",
    "    try:\n",
    "        family_room = paris.find_element(By.XPATH,'//div[@class=\"e50d7535fa\"]/div[22]/div/ul/li[5]')\n",
    "        family_rooms.append('1')\n",
    "    except NoSuchElementException:\n",
    "        family_rooms.append('0')\n",
    "        \n",
    "for i in paris_hotels_url:\n",
    "    paris.get(i)\n",
    "    try:\n",
    "        non_smoking_room = paris.find_element(By.XPATH,'//div[@class=\"e50d7535fa\"]/div[22]/div/ul/li[6]')\n",
    "        non_smoking_rooms.append('1')\n",
    "    except NoSuchElementException:\n",
    "        non_smoking_rooms.append('0')\n",
    "\n",
    "for i in paris_hotels_url:\n",
    "    paris.get(i)\n",
    "    try:\n",
    "        restaurants = paris.find_element(By.XPATH,'//div[@class=\"e50d7535fa\"]/div[14]/div/ul/li[3]')\n",
    "        restaurant.append('1')\n",
    "    except NoSuchElementException:\n",
    "        restaurant.append('0')\n",
    "        \n",
    "for i in paris_hotels_url:\n",
    "    paris.get(i)\n",
    "    try:\n",
    "        bars = paris.find_element(By.XPATH,'//div[@class=\"e50d7535fa\"]/div[14]/div/ul/li[2]')\n",
    "        bar.append('1')\n",
    "    except NoSuchElementException:\n",
    "        bar.append('0')\n",
    "        \n",
    "for i in paris_hotels_url:\n",
    "    paris.get(i)\n",
    "    try:\n",
    "        heatings = paris.find_element(By.XPATH,'//div[@class=\"e50d7535fa\"]/div[22]/div/ul/li[3]')\n",
    "        heating.append('1')\n",
    "    except NoSuchElementException:\n",
    "        heating.append('0')\n",
    "        \n",
    "for i in paris_hotels_url:\n",
    "    paris.get(i)\n",
    "    try:\n",
    "        lifts = paris.find_element(By.XPATH,'//div[@class=\"e50d7535fa\"]/div[22]/div/ul/li[4]')\n",
    "        lift.append('1')\n",
    "    except NoSuchElementException:\n",
    "        lift.append('0')\n",
    "\n",
    "for i in paris_hotels_url:\n",
    "    paris.get(i)\n",
    "    try:\n",
    "        bc1 = paris.find_element(By.XPATH,'//ul[@class=\"c807d72881 c843d0df03 e10711a42e\"]/li[1]/div/div[2]')\n",
    "        BC1.append('1')\n",
    "    except NoSuchElementException:\n",
    "        BC1.append('0')\n",
    "        \n",
    "for i in paris_hotels_url:\n",
    "    paris.get(i)\n",
    "    try:\n",
    "        bc2 = paris.find_element(By.XPATH,'//span[@class=\"ph-item-copy-breakfast-option\"]')\n",
    "        BC2.append('1')\n",
    "    except NoSuchElementException:\n",
    "        BC2.append('0')\n",
    "        \n",
    "for i in paris_hotels_url:\n",
    "    paris.get(i)\n",
    "    try:\n",
    "        bc3 = paris.find_element(By.XPATH,'//div[@class=\"bcdcb105b3 f45d8e4c32 df64fda51b\"][1]')\n",
    "        BC3.append('1')\n",
    "    except NoSuchElementException:\n",
    "        BC3.append('0')"
   ]
  },
  {
   "cell_type": "code",
   "execution_count": 190,
   "id": "2ca51201",
   "metadata": {},
   "outputs": [
    {
     "data": {
      "text/plain": [
       "(550, 550, 500, 500, 500, 500, 500, 500, 500, 500)"
      ]
     },
     "execution_count": 190,
     "metadata": {},
     "output_type": "execute_result"
    }
   ],
   "source": [
    "len(wifi), len(family_rooms), len(non_smoking_rooms), len(restaurant), len(bar), len(heating), len(lift), len(BC1), len(BC2), len(BC3)"
   ]
  },
  {
   "cell_type": "code",
   "execution_count": 191,
   "id": "a5ffee95",
   "metadata": {},
   "outputs": [],
   "source": [
    "paris.close()"
   ]
  },
  {
   "cell_type": "code",
   "execution_count": 192,
   "id": "577ab42d",
   "metadata": {},
   "outputs": [],
   "source": [
    "tokyo = webdriver.Chrome()\n",
    "tokyo.get('https://shorturl.at/hpSV9')\n",
    "\n",
    "search = tokyo.find_element(By.XPATH, '//input[@class=\"eb46370fe1\"]')\n",
    "search.send_keys('Tokyo')\n",
    "time.sleep(5)\n",
    "\n",
    "button = tokyo.find_element(By.XPATH, '//button[@class=\"a83ed08757 c21c56c305 a4c1805887 f671049264 d2529514af c082d89982 cceeb8986b\"]')\n",
    "button.click()\n",
    "\n",
    "cookie = tokyo.find_element(By.ID, 'onetrust-accept-btn-handler')\n",
    "cookie.click()\n",
    "\n",
    "sort = tokyo.find_element(By.XPATH, '//span[@class=\"fcd9eec8fb a07dcf7ef3 bf9a32efa5\"]')\n",
    "sort.click()\n",
    "\n",
    "high = tokyo.find_element(By.XPATH, '//div[@class=\"f998a7c837 ec5d8a4630 ed9055eada da4aa3251d\"]/div/div/div/ul/li[3]')\n",
    "high.click()"
   ]
  },
  {
   "cell_type": "markdown",
   "id": "badb79a1",
   "metadata": {},
   "source": [
    "### Tokyo"
   ]
  },
  {
   "cell_type": "code",
   "execution_count": 193,
   "id": "93a6ca63",
   "metadata": {},
   "outputs": [],
   "source": [
    "for i in tokyo_hotels_url:\n",
    "    tokyo.get(i)\n",
    "    try:\n",
    "        wifis = tokyo.find_element(By.XPATH,'//div[@class=\"hp--bh_stripe\"]/div/div/div/ul/li[4]/div[2]/div')\n",
    "        wifi.append('1')\n",
    "    except NoSuchElementException:\n",
    "        wifi.append('0')\n",
    "        \n",
    "for i in tokyo_hotels_url:\n",
    "    tokyo.get(i)\n",
    "    try:\n",
    "        family_room = tokyo.find_element(By.XPATH,'//div[@class=\"e50d7535fa\"]/div[22]/div/ul/li[5]')\n",
    "        family_rooms.append('1')\n",
    "    except NoSuchElementException:\n",
    "        family_rooms.append('0')\n",
    "        \n",
    "for i in tokyo_hotels_url:\n",
    "    tokyo.get(i)\n",
    "    try:\n",
    "        non_smoking_room = tokyo.find_element(By.XPATH,'//div[@class=\"e50d7535fa\"]/div[22]/div/ul/li[6]')\n",
    "        non_smoking_rooms.append('1')\n",
    "    except NoSuchElementException:\n",
    "        non_smoking_rooms.append('0')\n",
    "\n",
    "for i in tokyo_hotels_url:\n",
    "    tokyo.get(i)\n",
    "    try:\n",
    "        restaurants = tokyo.find_element(By.XPATH,'//div[@class=\"e50d7535fa\"]/div[14]/div/ul/li[3]')\n",
    "        restaurant.append('1')\n",
    "    except NoSuchElementException:\n",
    "        restaurant.append('0')\n",
    "        \n",
    "for i in tokyo_hotels_url:\n",
    "    tokyo.get(i)\n",
    "    try:\n",
    "        bars = tokyo.find_element(By.XPATH,'//div[@class=\"e50d7535fa\"]/div[14]/div/ul/li[2]')\n",
    "        bar.append('1')\n",
    "    except NoSuchElementException:\n",
    "        bar.append('0')\n",
    "        \n",
    "for i in tokyo_hotels_url:\n",
    "    tokyo.get(i)\n",
    "    try:\n",
    "        heatings = tokyo.find_element(By.XPATH,'//div[@class=\"e50d7535fa\"]/div[22]/div/ul/li[3]')\n",
    "        heating.append('1')\n",
    "    except NoSuchElementException:\n",
    "        heating.append('0')\n",
    "        \n",
    "for i in tokyo_hotels_url:\n",
    "    tokyo.get(i)\n",
    "    try:\n",
    "        lifts = tokyo.find_element(By.XPATH,'//div[@class=\"e50d7535fa\"]/div[22]/div/ul/li[4]')\n",
    "        lift.append('1')\n",
    "    except NoSuchElementException:\n",
    "        lift.append('0')\n",
    "\n",
    "for i in tokyo_hotels_url:\n",
    "    tokyo.get(i)\n",
    "    try:\n",
    "        bc1 = tokyo.find_element(By.XPATH,'//ul[@class=\"c807d72881 c843d0df03 e10711a42e\"]/li[1]/div/div[2]')\n",
    "        BC1.append('1')\n",
    "    except NoSuchElementException:\n",
    "        BC1.append('0')\n",
    "        \n",
    "for i in tokyo_hotels_url:\n",
    "    tokyo.get(i)\n",
    "    try:\n",
    "        bc2 = tokyo.find_element(By.XPATH,'//span[@class=\"ph-item-copy-breakfast-option\"]')\n",
    "        BC2.append('1')\n",
    "    except NoSuchElementException:\n",
    "        BC2.append('0')\n",
    "        \n",
    "for i in tokyo_hotels_url:\n",
    "    tokyo.get(i)\n",
    "    try:\n",
    "        bc3 = tokyo.find_element(By.XPATH,'//div[@class=\"bcdcb105b3 f45d8e4c32 df64fda51b\"][1]')\n",
    "        BC3.append('1')\n",
    "    except NoSuchElementException:\n",
    "        BC3.append('0')"
   ]
  },
  {
   "cell_type": "code",
   "execution_count": 194,
   "id": "07b2d333",
   "metadata": {},
   "outputs": [
    {
     "data": {
      "text/plain": [
       "(600, 600, 550, 550, 550, 550, 550, 550, 550, 550)"
      ]
     },
     "execution_count": 194,
     "metadata": {},
     "output_type": "execute_result"
    }
   ],
   "source": [
    "len(wifi), len(family_rooms), len(non_smoking_rooms), len(restaurant), len(bar), len(heating), len(lift), len(BC1), len(BC2), len(BC3)"
   ]
  },
  {
   "cell_type": "code",
   "execution_count": 195,
   "id": "038fbc13",
   "metadata": {},
   "outputs": [],
   "source": [
    "tokyo.close()"
   ]
  },
  {
   "cell_type": "code",
   "execution_count": 196,
   "id": "cf1cbba2",
   "metadata": {},
   "outputs": [],
   "source": [
    "toronto = webdriver.Chrome()\n",
    "toronto.get('https://shorturl.at/hpSV9')\n",
    "\n",
    "search = toronto.find_element(By.XPATH, '//input[@class=\"eb46370fe1\"]')\n",
    "search.send_keys('Toronto')\n",
    "time.sleep(5)\n",
    "\n",
    "button = toronto.find_element(By.XPATH, '//button[@class=\"a83ed08757 c21c56c305 a4c1805887 f671049264 d2529514af c082d89982 cceeb8986b\"]')\n",
    "button.click()\n",
    "\n",
    "cookie = toronto.find_element(By.ID, 'onetrust-accept-btn-handler')\n",
    "cookie.click()\n",
    "\n",
    "sort = toronto.find_element(By.XPATH, '//span[@class=\"fcd9eec8fb a07dcf7ef3 bf9a32efa5\"]')\n",
    "sort.click()\n",
    "\n",
    "high = toronto.find_element(By.XPATH, '//div[@class=\"f998a7c837 ec5d8a4630 ed9055eada da4aa3251d\"]/div/div/div/ul/li[3]')\n",
    "high.click()\n",
    "\n",
    "for i in toronto_hotels_url:\n",
    "    toronto.get(i)\n",
    "    try:\n",
    "        wifis = toronto.find_element(By.XPATH,'//div[@class=\"hp--bh_stripe\"]/div/div/div/ul/li[4]/div[2]/div')\n",
    "        wifi.append('1')\n",
    "    except NoSuchElementException:\n",
    "        wifi.append('0')\n",
    "        \n",
    "for i in toronto_hotels_url:\n",
    "    toronto.get(i)\n",
    "    try:\n",
    "        family_room = toronto.find_element(By.XPATH,'//div[@class=\"e50d7535fa\"]/div[22]/div/ul/li[5]')\n",
    "        family_rooms.append('1')\n",
    "    except NoSuchElementException:\n",
    "        family_rooms.append('0')\n",
    "        \n",
    "for i in toronto_hotels_url:\n",
    "    toronto.get(i)\n",
    "    try:\n",
    "        non_smoking_room = toronto.find_element(By.XPATH,'//div[@class=\"e50d7535fa\"]/div[22]/div/ul/li[6]')\n",
    "        non_smoking_rooms.append('1')\n",
    "    except NoSuchElementException:\n",
    "        non_smoking_rooms.append('0')\n",
    "\n",
    "for i in toronto_hotels_url:\n",
    "    toronto.get(i)\n",
    "    try:\n",
    "        restaurants = toronto.find_element(By.XPATH,'//div[@class=\"e50d7535fa\"]/div[14]/div/ul/li[3]')\n",
    "        restaurant.append('1')\n",
    "    except NoSuchElementException:\n",
    "        restaurant.append('0')\n",
    "        \n",
    "for i in toronto_hotels_url:\n",
    "    toronto.get(i)\n",
    "    try:\n",
    "        bars = toronto.find_element(By.XPATH,'//div[@class=\"e50d7535fa\"]/div[14]/div/ul/li[2]')\n",
    "        bar.append('1')\n",
    "    except NoSuchElementException:\n",
    "        bar.append('0')\n",
    "        \n",
    "for i in toronto_hotels_url:\n",
    "    toronto.get(i)\n",
    "    try:\n",
    "        heatings = toronto.find_element(By.XPATH,'//div[@class=\"e50d7535fa\"]/div[22]/div/ul/li[3]')\n",
    "        heating.append('1')\n",
    "    except NoSuchElementException:\n",
    "        heating.append('0')"
   ]
  },
  {
   "cell_type": "markdown",
   "id": "3f5429b3",
   "metadata": {},
   "source": [
    "### Toronto"
   ]
  },
  {
   "cell_type": "code",
   "execution_count": 199,
   "id": "cb525fc6",
   "metadata": {},
   "outputs": [],
   "source": [
    "\n",
    "for i in toronto_hotels_url:\n",
    "    toronto.get(i)\n",
    "    try:\n",
    "        lifts = toronto.find_element(By.XPATH,'//div[@class=\"e50d7535fa\"]/div[22]/div/ul/li[4]')\n",
    "        lift.append('1')\n",
    "    except NoSuchElementException:\n",
    "        lift.append('0')\n",
    "\n",
    "for i in toronto_hotels_url:\n",
    "    toronto.get(i)\n",
    "    try:\n",
    "        bc1 = toronto.find_element(By.XPATH,'//ul[@class=\"c807d72881 c843d0df03 e10711a42e\"]/li[1]/div/div[2]')\n",
    "        BC1.append('1')\n",
    "    except NoSuchElementException:\n",
    "        BC1.append('0')\n",
    "        \n",
    "for i in toronto_hotels_url:\n",
    "    toronto.get(i)\n",
    "    try:\n",
    "        bc2 = toronto.find_element(By.XPATH,'//span[@class=\"ph-item-copy-breakfast-option\"]')\n",
    "        BC2.append('1')\n",
    "    except NoSuchElementException:\n",
    "        BC2.append('0')\n",
    "        \n",
    "for i in toronto_hotels_url:\n",
    "    toronto.get(i)\n",
    "    try:\n",
    "        bc3 = toronto.find_element(By.XPATH,'//div[@class=\"bcdcb105b3 f45d8e4c32 df64fda51b\"][1]')\n",
    "        BC3.append('1')\n",
    "    except NoSuchElementException:\n",
    "        BC3.append('0')"
   ]
  },
  {
   "cell_type": "code",
   "execution_count": 219,
   "id": "be0809ba",
   "metadata": {},
   "outputs": [
    {
     "data": {
      "text/plain": [
       "(600, 600, 600, 600, 600, 600, 600, 600, 600, 600)"
      ]
     },
     "execution_count": 219,
     "metadata": {},
     "output_type": "execute_result"
    }
   ],
   "source": [
    "len(wifi), len(family_rooms), len(non_smoking_rooms), len(restaurant), len(bar), len(heating), len(lift), len(BC1), len(BC2), len(BC3)"
   ]
  },
  {
   "cell_type": "code",
   "execution_count": 212,
   "id": "1d02e071",
   "metadata": {},
   "outputs": [],
   "source": [
    "toronto.close()"
   ]
  },
  {
   "cell_type": "code",
   "execution_count": 220,
   "id": "25087946",
   "metadata": {},
   "outputs": [
    {
     "data": {
      "text/html": [
       "<div>\n",
       "<style scoped>\n",
       "    .dataframe tbody tr th:only-of-type {\n",
       "        vertical-align: middle;\n",
       "    }\n",
       "\n",
       "    .dataframe tbody tr th {\n",
       "        vertical-align: top;\n",
       "    }\n",
       "\n",
       "    .dataframe thead th {\n",
       "        text-align: right;\n",
       "    }\n",
       "</style>\n",
       "<table border=\"1\" class=\"dataframe\">\n",
       "  <thead>\n",
       "    <tr style=\"text-align: right;\">\n",
       "      <th></th>\n",
       "      <th>Hotel Name</th>\n",
       "      <th>WiFi</th>\n",
       "      <th>Family Rooms</th>\n",
       "      <th>Non Smoking Rooms</th>\n",
       "      <th>Restaurant</th>\n",
       "      <th>Bar</th>\n",
       "      <th>Heating</th>\n",
       "      <th>Lift</th>\n",
       "      <th>Breakfast Cuisine 1</th>\n",
       "      <th>Breakfast Cuisine 2</th>\n",
       "      <th>Breakfast Cuisine 3</th>\n",
       "    </tr>\n",
       "  </thead>\n",
       "  <tbody>\n",
       "    <tr>\n",
       "      <th>0</th>\n",
       "      <td>Heaven Escape surrounded by stunning golf view...</td>\n",
       "      <td>1</td>\n",
       "      <td>0</td>\n",
       "      <td>0</td>\n",
       "      <td>1</td>\n",
       "      <td>1</td>\n",
       "      <td>0</td>\n",
       "      <td>0</td>\n",
       "      <td>0</td>\n",
       "      <td>0</td>\n",
       "      <td>1</td>\n",
       "    </tr>\n",
       "    <tr>\n",
       "      <th>1</th>\n",
       "      <td>2 Bedroom Apt with Sea View</td>\n",
       "      <td>1</td>\n",
       "      <td>0</td>\n",
       "      <td>0</td>\n",
       "      <td>0</td>\n",
       "      <td>0</td>\n",
       "      <td>0</td>\n",
       "      <td>0</td>\n",
       "      <td>0</td>\n",
       "      <td>0</td>\n",
       "      <td>0</td>\n",
       "    </tr>\n",
       "    <tr>\n",
       "      <th>2</th>\n",
       "      <td>Primestay - Bluewaters Residences 2BR, Dubai</td>\n",
       "      <td>1</td>\n",
       "      <td>0</td>\n",
       "      <td>0</td>\n",
       "      <td>0</td>\n",
       "      <td>0</td>\n",
       "      <td>0</td>\n",
       "      <td>0</td>\n",
       "      <td>0</td>\n",
       "      <td>0</td>\n",
       "      <td>0</td>\n",
       "    </tr>\n",
       "    <tr>\n",
       "      <th>3</th>\n",
       "      <td>Anantara Residences Palm Jumeirah</td>\n",
       "      <td>1</td>\n",
       "      <td>1</td>\n",
       "      <td>1</td>\n",
       "      <td>1</td>\n",
       "      <td>1</td>\n",
       "      <td>1</td>\n",
       "      <td>1</td>\n",
       "      <td>1</td>\n",
       "      <td>0</td>\n",
       "      <td>1</td>\n",
       "    </tr>\n",
       "    <tr>\n",
       "      <th>4</th>\n",
       "      <td>High Class 1BHK/Binghatti Mirage</td>\n",
       "      <td>1</td>\n",
       "      <td>0</td>\n",
       "      <td>0</td>\n",
       "      <td>0</td>\n",
       "      <td>0</td>\n",
       "      <td>0</td>\n",
       "      <td>0</td>\n",
       "      <td>0</td>\n",
       "      <td>0</td>\n",
       "      <td>0</td>\n",
       "    </tr>\n",
       "    <tr>\n",
       "      <th>...</th>\n",
       "      <td>...</td>\n",
       "      <td>...</td>\n",
       "      <td>...</td>\n",
       "      <td>...</td>\n",
       "      <td>...</td>\n",
       "      <td>...</td>\n",
       "      <td>...</td>\n",
       "      <td>...</td>\n",
       "      <td>...</td>\n",
       "      <td>...</td>\n",
       "      <td>...</td>\n",
       "    </tr>\n",
       "    <tr>\n",
       "      <th>595</th>\n",
       "      <td>Modern Lake View 1BR Condo plus Den with Balcony</td>\n",
       "      <td>1</td>\n",
       "      <td>0</td>\n",
       "      <td>0</td>\n",
       "      <td>0</td>\n",
       "      <td>0</td>\n",
       "      <td>0</td>\n",
       "      <td>0</td>\n",
       "      <td>0</td>\n",
       "      <td>0</td>\n",
       "      <td>0</td>\n",
       "    </tr>\n",
       "    <tr>\n",
       "      <th>596</th>\n",
       "      <td>Lovely private bedroom</td>\n",
       "      <td>0</td>\n",
       "      <td>0</td>\n",
       "      <td>0</td>\n",
       "      <td>0</td>\n",
       "      <td>1</td>\n",
       "      <td>0</td>\n",
       "      <td>0</td>\n",
       "      <td>0</td>\n",
       "      <td>0</td>\n",
       "      <td>1</td>\n",
       "    </tr>\n",
       "    <tr>\n",
       "      <th>597</th>\n",
       "      <td>The Novotel Toronto Centre</td>\n",
       "      <td>0</td>\n",
       "      <td>0</td>\n",
       "      <td>0</td>\n",
       "      <td>0</td>\n",
       "      <td>0</td>\n",
       "      <td>0</td>\n",
       "      <td>0</td>\n",
       "      <td>1</td>\n",
       "      <td>1</td>\n",
       "      <td>1</td>\n",
       "    </tr>\n",
       "    <tr>\n",
       "      <th>598</th>\n",
       "      <td>Presidential 2+1BR Condo, Entertainment Distri...</td>\n",
       "      <td>1</td>\n",
       "      <td>0</td>\n",
       "      <td>1</td>\n",
       "      <td>1</td>\n",
       "      <td>1</td>\n",
       "      <td>1</td>\n",
       "      <td>1</td>\n",
       "      <td>0</td>\n",
       "      <td>0</td>\n",
       "      <td>0</td>\n",
       "    </tr>\n",
       "    <tr>\n",
       "      <th>599</th>\n",
       "      <td>Downtown Toronto mins walk to CN Tower,Rogers ...</td>\n",
       "      <td>1</td>\n",
       "      <td>0</td>\n",
       "      <td>0</td>\n",
       "      <td>0</td>\n",
       "      <td>0</td>\n",
       "      <td>0</td>\n",
       "      <td>0</td>\n",
       "      <td>0</td>\n",
       "      <td>0</td>\n",
       "      <td>0</td>\n",
       "    </tr>\n",
       "  </tbody>\n",
       "</table>\n",
       "<p>600 rows × 11 columns</p>\n",
       "</div>"
      ],
      "text/plain": [
       "                                            Hotel Name WiFi Family Rooms  \\\n",
       "0    Heaven Escape surrounded by stunning golf view...    1            0   \n",
       "1                          2 Bedroom Apt with Sea View    1            0   \n",
       "2         Primestay - Bluewaters Residences 2BR, Dubai    1            0   \n",
       "3                    Anantara Residences Palm Jumeirah    1            1   \n",
       "4                     High Class 1BHK/Binghatti Mirage    1            0   \n",
       "..                                                 ...  ...          ...   \n",
       "595   Modern Lake View 1BR Condo plus Den with Balcony    1            0   \n",
       "596                             Lovely private bedroom    0            0   \n",
       "597                         The Novotel Toronto Centre    0            0   \n",
       "598  Presidential 2+1BR Condo, Entertainment Distri...    1            0   \n",
       "599  Downtown Toronto mins walk to CN Tower,Rogers ...    1            0   \n",
       "\n",
       "    Non Smoking Rooms Restaurant Bar Heating Lift Breakfast Cuisine 1  \\\n",
       "0                   0          1   1       0    0                   0   \n",
       "1                   0          0   0       0    0                   0   \n",
       "2                   0          0   0       0    0                   0   \n",
       "3                   1          1   1       1    1                   1   \n",
       "4                   0          0   0       0    0                   0   \n",
       "..                ...        ...  ..     ...  ...                 ...   \n",
       "595                 0          0   0       0    0                   0   \n",
       "596                 0          0   1       0    0                   0   \n",
       "597                 0          0   0       0    0                   1   \n",
       "598                 1          1   1       1    1                   0   \n",
       "599                 0          0   0       0    0                   0   \n",
       "\n",
       "    Breakfast Cuisine 2 Breakfast Cuisine 3  \n",
       "0                     0                   1  \n",
       "1                     0                   0  \n",
       "2                     0                   0  \n",
       "3                     0                   1  \n",
       "4                     0                   0  \n",
       "..                  ...                 ...  \n",
       "595                   0                   0  \n",
       "596                   0                   1  \n",
       "597                   1                   1  \n",
       "598                   0                   0  \n",
       "599                   0                   0  \n",
       "\n",
       "[600 rows x 11 columns]"
      ]
     },
     "execution_count": 220,
     "metadata": {},
     "output_type": "execute_result"
    }
   ],
   "source": [
    "# Data2.csv : sno, Hotel name ,Free wifi, Family rooms ,Non Smoking Rooms, Restaurant ,Bar, Heating ,Lift ,\n",
    "# Breakfast Cuisine1,Breakfast Cuisine2, Breakfast Cuisine3(can take Yes /NO values)\n",
    "\n",
    "Data2 = pd.DataFrame({'Hotel Name':hotel, 'WiFi':wifi, \"Family Rooms\":family_rooms, 'Non Smoking Rooms':non_smoking_rooms, 'Restaurant':restaurant, 'Bar':bar, 'Heating':heating, 'Lift':lift, 'Breakfast Cuisine 1':BC1, 'Breakfast Cuisine 2':BC2, 'Breakfast Cuisine 3':BC3})\n",
    "Data2"
   ]
  },
  {
   "cell_type": "code",
   "execution_count": 221,
   "id": "15c69060",
   "metadata": {},
   "outputs": [],
   "source": [
    "Data2.to_csv('Data2')"
   ]
  },
  {
   "cell_type": "code",
   "execution_count": null,
   "id": "497fcd56",
   "metadata": {},
   "outputs": [],
   "source": []
  },
  {
   "cell_type": "markdown",
   "id": "6136e1d3",
   "metadata": {},
   "source": [
    "Data3.csv : sno , Hotel name, Room Type ,Single Bed ,Double bed ,Prices"
   ]
  },
  {
   "cell_type": "markdown",
   "id": "198b9df4",
   "metadata": {},
   "source": [
    "### Dubai"
   ]
  },
  {
   "cell_type": "code",
   "execution_count": 15,
   "id": "8d9f1400",
   "metadata": {},
   "outputs": [],
   "source": [
    "dubai = webdriver.Chrome()\n",
    "dubai.get('https://shorturl.at/hpSV9')\n",
    "\n",
    "cookie = dubai.find_element(By.ID, 'onetrust-accept-btn-handler')\n",
    "cookie.click()\n",
    "\n",
    "search = dubai.find_element(By.XPATH, '//input[@class=\"eb46370fe1\"]')\n",
    "search.send_keys('dubai')\n",
    "time.sleep(5)\n",
    "\n",
    "date = dubai.find_element(By.XPATH, '//button[@class=\"ebbedaf8ac ab26a5d2bd e33c97ff6b\"]')\n",
    "date.click()\n",
    "\n",
    "check_in = dubai.find_element(By.XPATH, '//span[@aria-label=\"29 November 2023\"]')\n",
    "check_in.click()\n",
    "\n",
    "check_in = dubai.find_element(By.XPATH, '//span[@aria-label=\"30 November 2023\"]')\n",
    "check_in.click()\n",
    "\n",
    "button = dubai.find_element(By.XPATH, '//button[@class=\"a83ed08757 c21c56c305 a4c1805887 f671049264 d2529514af c082d89982 cceeb8986b\"]')\n",
    "button.click()\n",
    "time.sleep(3)\n",
    "\n",
    "body = dubai.find_element(By.XPATH, '//div[@class=\"f0c216ee26 c676dd76fe de4fbb6ed0 b5018b639f\"]/div/div/div/div/button')\n",
    "body.click()\n",
    "\n",
    "sort = dubai.find_element(By.XPATH, '//span[@class=\"fcd9eec8fb a07dcf7ef3 bf9a32efa5\"]')\n",
    "sort.click()\n",
    "\n",
    "high = dubai.find_element(By.XPATH, '//div[@class=\"f998a7c837 ec5d8a4630 ed9055eada da4aa3251d\"]/div/div/div/ul/li[5]')\n",
    "high.click()"
   ]
  },
  {
   "cell_type": "code",
   "execution_count": 9,
   "id": "ae8a5a76",
   "metadata": {},
   "outputs": [
    {
     "data": {
      "text/plain": [
       "50"
      ]
     },
     "execution_count": 9,
     "metadata": {},
     "output_type": "execute_result"
    }
   ],
   "source": [
    "dubai_hotels_url = []\n",
    "\n",
    "start = 0\n",
    "end = 2\n",
    "for page in range(start,end):\n",
    "    url = dubai.find_elements(By.XPATH, '//h3[@class=\"aab71f8e4e\"]/a')\n",
    "    for i in url:\n",
    "        dubai_hotels_url.append(i.get_attribute('href')) \n",
    "    next_button = dubai.find_element(By.XPATH, '//div[3]/button/span/span[@class=\"fcd9eec8fb bf9a32efa5\"]')\n",
    "    next_button.click()\n",
    "    time.sleep(3)\n",
    "len(dubai_hotels_url)"
   ]
  },
  {
   "cell_type": "code",
   "execution_count": 10,
   "id": "25e2ecfe",
   "metadata": {},
   "outputs": [
    {
     "name": "stdout",
     "output_type": "stream",
     "text": [
      "['One-Bedroom Apartment', 'One-Bedroom Apartment', 'Studio with Pool View', 'One-Bedroom Apartment', 'Luxury King Room with City View', 'De Luxe Room', 'One-Bedroom Apartment', 'King Guest Room', 'Deluxe King Room with Sea View', 'Superior King', 'Deluxe Double Room with Balcony and Hotel Private Beach Access', 'King Room', \"Superior Room City View with free access to Hotel's private beach at Palm - Jumeirah\", 'Deluxe Room', 'Classic King Room', 'King Room with Balcony and Skyline View', 'Superior Double Room with Hotel Private Beach Access', 'Standard Room with Balcony and Creek View - includes Complimentary Shuttle to Kite Beach, Dubai Mall / Burj Khalifa', 'Standard Room', 'Grand Superior Balcony King', 'DELUXE ROOM Balcony, King Bed or Two Single Beds, Private Beach Access', 'Superior King Room', 'Palm Deluxe Room', 'Superior Twin Room', 'King Room', '1 King Bed Deluxe Walk-in Shower', 'Superior King Room', 'Deluxe Room, Guest room, 1 Queen, Garden view - Complimentary Transfer to Dubai Mall / Burj Khalifa & DXB Airport Shuttle Drop Off', 'Bedouin Medium Room with King Bed', 'Standard Room', 'Deluxe', 'Premier Pool View Room', 'Deluxe Polo View Room', 'Luxury King Room', 'Deluxe Room, Guest room, 1 King, City view', 'Palace Superior Deluxe King Room', 'Resort View Room', 'Scene Room', 'Deluxe Versace Room with City View', 'Deluxe Marina Suite (Duplex Suite) - Sea View', 'Luxury Room Sea View', '1 King Bed Standard Waterfront View', 'Premier Lagoon View Room', '2 Twin Standard Downtown View w complimentary transfer to Kite Beach & Dubai Mall', 'Double or Twin Room with Sea View', 'Premier Ocean View Room With balcony', 'Guest King Room with Balcony', 'Studio', 'Superior Room king bed', '1 King Bed Standard Accessible']\n"
     ]
    }
   ],
   "source": [
    "room_type = []\n",
    "\n",
    "for i in dubai_hotels_url:\n",
    "    dubai.get(i)\n",
    "    try:\n",
    "        rooms_type = dubai.find_element(By.XPATH, '//span[@class=\"hprt-roomtype-icon-link \"]')\n",
    "        room_type.append(rooms_type.text)\n",
    "    except NoSuchElementException:\n",
    "        room_type.append('')\n",
    "print(room_type)\n"
   ]
  },
  {
   "cell_type": "code",
   "execution_count": 11,
   "id": "11dba84c",
   "metadata": {},
   "outputs": [
    {
     "name": "stdout",
     "output_type": "stream",
     "text": [
      "['0', '0', '0', '0', '1', '0', '0', '1', '1', '0', '1', '1', '1', '1', '1', '1', '0', '1', '0', '1', '1', '1', '0', '1', '1', '1', '1', '1', '1', '0', '1', '0', '0', '1', '1', '1', '0', '1', '1', '1', '1', '1', '1', '1', '1', '1', '0', '1', '0', '0']\n"
     ]
    }
   ],
   "source": [
    "single_bed = []\n",
    "\n",
    "for i in dubai_hotels_url:\n",
    "    dubai.get(i)\n",
    "    try:\n",
    "        single_beds = dubai.find_element(By.XPATH, '//i[@class=\"bicon bicon-singles\"]')\n",
    "        single_bed.append('1')\n",
    "    except NoSuchElementException:\n",
    "        single_bed.append('0')\n",
    "print(single_bed)"
   ]
  },
  {
   "cell_type": "code",
   "execution_count": 12,
   "id": "7340bb3f",
   "metadata": {},
   "outputs": [
    {
     "name": "stdout",
     "output_type": "stream",
     "text": [
      "['1', '1', '1', '1', '1', '1', '1', '1', '1', '1', '1', '1', '1', '1', '1', '1', '1', '1', '1', '1', '1', '1', '1', '1', '1', '1', '1', '1', '1', '1', '1', '1', '1', '1', '1', '1', '1', '1', '1', '1', '1', '1', '1', '1', '1', '1', '1', '1', '1', '1']\n"
     ]
    }
   ],
   "source": [
    "double_bed = []\n",
    "\n",
    "for i in dubai_hotels_url:\n",
    "    dubai.get(i)\n",
    "    try:\n",
    "        double_beds = dubai.find_element(By.XPATH, '//i[@class=\"bicon bicon-double\"]')\n",
    "        double_bed.append('1')\n",
    "    except NoSuchElementException:\n",
    "        double_bed.append('0')\n",
    "print(double_bed)"
   ]
  },
  {
   "cell_type": "code",
   "execution_count": 16,
   "id": "bf066ac8",
   "metadata": {},
   "outputs": [
    {
     "name": "stdout",
     "output_type": "stream",
     "text": [
      "['780', '1,423', '792', '852', '1,655', '1,044', '1,031', '1,298', '2,657', '2,156', '2,466', '1,220', '1,763', '1,703', '1,663', '1,514', '1,788', '1,356', '1,600', '1,762', '2,007', '740', '2,504', '1,122', '1,702', '1,824', '1,557', '2,297', '2,090', '2,032', '2,563', '2,090', '2,266', '1,755', '1,169', '5,806', '4,255', '1,949', '3,155', '18,825', '3,341', '1,978', '4,036', '2,112', '3,015', '5,112', '3,087', '1,070', '3,222', '2,217']\n"
     ]
    }
   ],
   "source": [
    "prices = []\n",
    "\n",
    "for i in dubai_hotels_url:\n",
    "    dubai.get(i)\n",
    "    try:\n",
    "        price = dubai.find_element(By.XPATH, '//span[@class=\"prco-valign-middle-helper\"]')\n",
    "        prices.append(price.text.split(' ')[0])\n",
    "    except NoSuchElementException:\n",
    "        prices.append('')\n",
    "print(prices)"
   ]
  },
  {
   "cell_type": "code",
   "execution_count": 17,
   "id": "5fddd6ef",
   "metadata": {},
   "outputs": [
    {
     "data": {
      "text/plain": [
       "50"
      ]
     },
     "execution_count": 17,
     "metadata": {},
     "output_type": "execute_result"
    }
   ],
   "source": [
    "len(prices)"
   ]
  },
  {
   "cell_type": "code",
   "execution_count": 18,
   "id": "e95eb5bc",
   "metadata": {},
   "outputs": [],
   "source": [
    "dubai.close()"
   ]
  },
  {
   "cell_type": "code",
   "execution_count": 23,
   "id": "224ca53e",
   "metadata": {},
   "outputs": [],
   "source": [
    "london = webdriver.Chrome()\n",
    "london.get('https://shorturl.at/hpSV9')\n",
    "\n",
    "cookie = london.find_element(By.ID, 'onetrust-accept-btn-handler')\n",
    "cookie.click()\n",
    "\n",
    "search = london.find_element(By.XPATH, '//input[@class=\"eb46370fe1\"]')\n",
    "search.send_keys('london')\n",
    "time.sleep(5)\n",
    "\n",
    "date = london.find_element(By.XPATH, '//button[@class=\"ebbedaf8ac ab26a5d2bd e33c97ff6b\"]')\n",
    "date.click()\n",
    "\n",
    "check_in = london.find_element(By.XPATH, '//span[@aria-label=\"29 November 2023\"]')\n",
    "check_in.click()\n",
    "\n",
    "check_in = london.find_element(By.XPATH, '//span[@aria-label=\"30 November 2023\"]')\n",
    "check_in.click()\n",
    "\n",
    "button = london.find_element(By.XPATH, '//button[@class=\"a83ed08757 c21c56c305 a4c1805887 f671049264 d2529514af c082d89982 cceeb8986b\"]')\n",
    "button.click()\n",
    "time.sleep(5)\n",
    "\n",
    "body = london.find_element(By.XPATH, '//div[@class=\"f0c216ee26 c676dd76fe de4fbb6ed0 b5018b639f\"]/div/div/div/div/button')\n",
    "body.click()\n",
    "\n",
    "sort = london.find_element(By.XPATH, '//span[@class=\"fcd9eec8fb a07dcf7ef3 bf9a32efa5\"]')\n",
    "sort.click()\n",
    "\n",
    "high = london.find_element(By.XPATH, '//div[@class=\"f998a7c837 ec5d8a4630 ed9055eada da4aa3251d\"]/div/div/div/ul/li[5]')\n",
    "high.click()"
   ]
  },
  {
   "cell_type": "code",
   "execution_count": 24,
   "id": "e93be004",
   "metadata": {},
   "outputs": [
    {
     "data": {
      "text/plain": [
       "50"
      ]
     },
     "execution_count": 24,
     "metadata": {},
     "output_type": "execute_result"
    }
   ],
   "source": [
    "london_hotels_url = []\n",
    "\n",
    "start = 0\n",
    "end = 2\n",
    "for page in range(start,end):\n",
    "    url = london.find_elements(By.XPATH, '//h3[@class=\"aab71f8e4e\"]/a')\n",
    "    for i in url:\n",
    "        london_hotels_url.append(i.get_attribute('href')) \n",
    "    next_button = london.find_element(By.XPATH, '//div[3]/button/span/span[@class=\"fcd9eec8fb bf9a32efa5\"]')\n",
    "    next_button.click()\n",
    "    time.sleep(3)\n",
    "len(london_hotels_url)"
   ]
  },
  {
   "cell_type": "code",
   "execution_count": 25,
   "id": "8b58de12",
   "metadata": {},
   "outputs": [],
   "source": [
    "for i in london_hotels_url:\n",
    "    london.get(i)\n",
    "    try:\n",
    "        rooms_type = london.find_element(By.XPATH, '//span[@class=\"hprt-roomtype-icon-link \"]')\n",
    "        room_type.append(rooms_type.text)\n",
    "    except NoSuchElementException:\n",
    "        room_type.append('')\n",
    "\n",
    "for i in london_hotels_url:\n",
    "    london.get(i)\n",
    "    try:\n",
    "        single_beds = london.find_element(By.XPATH, '//i[@class=\"bicon bicon-singles\"]')\n",
    "        single_bed.append('1')\n",
    "    except NoSuchElementException:\n",
    "        single_bed.append('0')\n",
    "\n",
    "for i in london_hotels_url:\n",
    "    london.get(i)\n",
    "    try:\n",
    "        double_beds = london.find_element(By.XPATH, '//i[@class=\"bicon bicon-double\"]')\n",
    "        double_bed.append('1')\n",
    "    except NoSuchElementException:\n",
    "        double_bed.append('0')\n",
    "\n",
    "for i in london_hotels_url:\n",
    "    london.get(i)\n",
    "    try:\n",
    "        price = london.find_element(By.XPATH, '//span[@class=\"prco-valign-middle-helper\"]')\n",
    "        prices.append(price.text.split(' ')[0])\n",
    "    except NoSuchElementException:\n",
    "        prices.append('')"
   ]
  },
  {
   "cell_type": "code",
   "execution_count": 26,
   "id": "237099ea",
   "metadata": {},
   "outputs": [
    {
     "data": {
      "text/plain": [
       "(101, 100, 100, 100)"
      ]
     },
     "execution_count": 26,
     "metadata": {},
     "output_type": "execute_result"
    }
   ],
   "source": [
    "len(room_type), len(single_bed), len(double_bed), len(prices)"
   ]
  },
  {
   "cell_type": "code",
   "execution_count": 27,
   "id": "1a8967b9",
   "metadata": {},
   "outputs": [],
   "source": [
    "length = 100\n",
    "room_type = room_type[:length]"
   ]
  },
  {
   "cell_type": "code",
   "execution_count": 28,
   "id": "6ce62077",
   "metadata": {},
   "outputs": [
    {
     "data": {
      "text/plain": [
       "(100, 100, 100, 100)"
      ]
     },
     "execution_count": 28,
     "metadata": {},
     "output_type": "execute_result"
    }
   ],
   "source": [
    "len(room_type), len(single_bed), len(double_bed), len(prices)"
   ]
  },
  {
   "cell_type": "code",
   "execution_count": 30,
   "id": "dc1d70b0",
   "metadata": {},
   "outputs": [],
   "source": [
    "london.close()"
   ]
  },
  {
   "cell_type": "markdown",
   "id": "76a6ab67",
   "metadata": {},
   "source": [
    "### Kuala Lampur"
   ]
  },
  {
   "cell_type": "code",
   "execution_count": 32,
   "id": "ba058f42",
   "metadata": {},
   "outputs": [],
   "source": [
    "kuala = webdriver.Chrome()\n",
    "kuala.get('https://shorturl.at/hpSV9')\n",
    "\n",
    "cookie = kuala.find_element(By.ID, 'onetrust-accept-btn-handler')\n",
    "cookie.click()\n",
    "\n",
    "search = kuala.find_element(By.XPATH, '//input[@class=\"eb46370fe1\"]')\n",
    "search.send_keys('Kuala Lampur')\n",
    "time.sleep(5)\n",
    "\n",
    "date = kuala.find_element(By.XPATH, '//button[@class=\"ebbedaf8ac ab26a5d2bd e33c97ff6b\"]')\n",
    "date.click()\n",
    "\n",
    "check_in = kuala.find_element(By.XPATH, '//span[@aria-label=\"29 November 2023\"]')\n",
    "check_in.click()\n",
    "\n",
    "check_in = kuala.find_element(By.XPATH, '//span[@aria-label=\"30 November 2023\"]')\n",
    "check_in.click()\n",
    "\n",
    "button = kuala.find_element(By.XPATH, '//button[@class=\"a83ed08757 c21c56c305 a4c1805887 f671049264 d2529514af c082d89982 cceeb8986b\"]')\n",
    "button.click()\n",
    "time.sleep(5)\n",
    "\n",
    "body = kuala.find_element(By.XPATH, '//div[@class=\"f0c216ee26 c676dd76fe de4fbb6ed0 b5018b639f\"]/div/div/div/div/button')\n",
    "body.click()\n",
    "\n",
    "sort = kuala.find_element(By.XPATH, '//span[@class=\"fcd9eec8fb a07dcf7ef3 bf9a32efa5\"]')\n",
    "sort.click()\n",
    "\n",
    "high = kuala.find_element(By.XPATH, '//div[@class=\"f998a7c837 ec5d8a4630 ed9055eada da4aa3251d\"]/div/div/div/ul/li[5]')\n",
    "high.click()"
   ]
  },
  {
   "cell_type": "code",
   "execution_count": 33,
   "id": "9e1f997b",
   "metadata": {},
   "outputs": [
    {
     "data": {
      "text/plain": [
       "50"
      ]
     },
     "execution_count": 33,
     "metadata": {},
     "output_type": "execute_result"
    }
   ],
   "source": [
    "kuala_hotels_url = []\n",
    "\n",
    "start = 0\n",
    "end = 2\n",
    "for page in range(start,end):\n",
    "    url = kuala.find_elements(By.XPATH, '//h3[@class=\"aab71f8e4e\"]/a')\n",
    "    for i in url:\n",
    "        kuala_hotels_url.append(i.get_attribute('href')) \n",
    "    next_button = kuala.find_element(By.XPATH, '//div[3]/button/span/span[@class=\"fcd9eec8fb bf9a32efa5\"]')\n",
    "    next_button.click()\n",
    "    time.sleep(3)\n",
    "len(kuala_hotels_url)"
   ]
  },
  {
   "cell_type": "code",
   "execution_count": 34,
   "id": "eb8be98d",
   "metadata": {},
   "outputs": [],
   "source": [
    "for i in kuala_hotels_url:\n",
    "    kuala.get(i)\n",
    "    try:\n",
    "        rooms_type = kuala.find_element(By.XPATH, '//span[@class=\"hprt-roomtype-icon-link \"]')\n",
    "        room_type.append(rooms_type.text)\n",
    "    except NoSuchElementException:\n",
    "        room_type.append('')\n",
    "\n",
    "for i in kuala_hotels_url:\n",
    "    kuala.get(i)\n",
    "    try:\n",
    "        single_beds = kuala.find_element(By.XPATH, '//i[@class=\"bicon bicon-singles\"]')\n",
    "        single_bed.append('1')\n",
    "    except NoSuchElementException:\n",
    "        single_bed.append('0')\n",
    "\n",
    "for i in kuala_hotels_url:\n",
    "    kuala.get(i)\n",
    "    try:\n",
    "        double_beds = kuala.find_element(By.XPATH, '//i[@class=\"bicon bicon-double\"]')\n",
    "        double_bed.append('1')\n",
    "    except NoSuchElementException:\n",
    "        double_bed.append('0')\n",
    "\n",
    "for i in kuala_hotels_url:\n",
    "    kuala.get(i)\n",
    "    try:\n",
    "        price = kuala.find_element(By.XPATH, '//span[@class=\"prco-valign-middle-helper\"]')\n",
    "        prices.append(price.text.split(' ')[0])\n",
    "    except NoSuchElementException:\n",
    "        prices.append('')"
   ]
  },
  {
   "cell_type": "code",
   "execution_count": 35,
   "id": "9f4f9a9d",
   "metadata": {},
   "outputs": [
    {
     "data": {
      "text/plain": [
       "(150, 150, 150, 150)"
      ]
     },
     "execution_count": 35,
     "metadata": {},
     "output_type": "execute_result"
    }
   ],
   "source": [
    "len(room_type), len(single_bed), len(double_bed), len(prices)"
   ]
  },
  {
   "cell_type": "code",
   "execution_count": 36,
   "id": "8e88914a",
   "metadata": {},
   "outputs": [],
   "source": [
    "kuala.close()"
   ]
  },
  {
   "cell_type": "markdown",
   "id": "0cf0dd99",
   "metadata": {},
   "source": [
    "### Manchester"
   ]
  },
  {
   "cell_type": "code",
   "execution_count": 37,
   "id": "0c72ecb7",
   "metadata": {},
   "outputs": [],
   "source": [
    "man = webdriver.Chrome()\n",
    "man.get('https://shorturl.at/hpSV9')\n",
    "\n",
    "cookie = man.find_element(By.ID, 'onetrust-accept-btn-handler')\n",
    "cookie.click()\n",
    "\n",
    "search = man.find_element(By.XPATH, '//input[@class=\"eb46370fe1\"]')\n",
    "search.send_keys('Manchester')\n",
    "time.sleep(5)\n",
    "\n",
    "date = man.find_element(By.XPATH, '//button[@class=\"ebbedaf8ac ab26a5d2bd e33c97ff6b\"]')\n",
    "date.click()\n",
    "\n",
    "check_in = man.find_element(By.XPATH, '//span[@aria-label=\"29 November 2023\"]')\n",
    "check_in.click()\n",
    "\n",
    "check_in = man.find_element(By.XPATH, '//span[@aria-label=\"30 November 2023\"]')\n",
    "check_in.click()\n",
    "\n",
    "button = man.find_element(By.XPATH, '//button[@class=\"a83ed08757 c21c56c305 a4c1805887 f671049264 d2529514af c082d89982 cceeb8986b\"]')\n",
    "button.click()\n",
    "time.sleep(5)\n",
    "\n",
    "body = man.find_element(By.XPATH, '//div[@class=\"f0c216ee26 c676dd76fe de4fbb6ed0 b5018b639f\"]/div/div/div/div/button')\n",
    "body.click()\n",
    "\n",
    "sort = man.find_element(By.XPATH, '//span[@class=\"fcd9eec8fb a07dcf7ef3 bf9a32efa5\"]')\n",
    "sort.click()\n",
    "\n",
    "high = man.find_element(By.XPATH, '//div[@class=\"f998a7c837 ec5d8a4630 ed9055eada da4aa3251d\"]/div/div/div/ul/li[5]')\n",
    "high.click()"
   ]
  },
  {
   "cell_type": "code",
   "execution_count": 38,
   "id": "794b97e5",
   "metadata": {},
   "outputs": [
    {
     "data": {
      "text/plain": [
       "50"
      ]
     },
     "execution_count": 38,
     "metadata": {},
     "output_type": "execute_result"
    }
   ],
   "source": [
    "man_hotels_url = []\n",
    "\n",
    "start = 0\n",
    "end = 2\n",
    "for page in range(start,end):\n",
    "    url = man.find_elements(By.XPATH, '//h3[@class=\"aab71f8e4e\"]/a')\n",
    "    for i in url:\n",
    "        man_hotels_url.append(i.get_attribute('href')) \n",
    "    next_button = man.find_element(By.XPATH, '//div[3]/button/span/span[@class=\"fcd9eec8fb bf9a32efa5\"]')\n",
    "    next_button.click()\n",
    "    time.sleep(3)\n",
    "len(man_hotels_url)"
   ]
  },
  {
   "cell_type": "code",
   "execution_count": 39,
   "id": "2f75eca8",
   "metadata": {},
   "outputs": [],
   "source": [
    "for i in man_hotels_url:\n",
    "    man.get(i)\n",
    "    try:\n",
    "        rooms_type = man.find_element(By.XPATH, '//span[@class=\"hprt-roomtype-icon-link \"]')\n",
    "        room_type.append(rooms_type.text)\n",
    "    except NoSuchElementException:\n",
    "        room_type.append('')\n",
    "\n",
    "for i in man_hotels_url:\n",
    "    man.get(i)\n",
    "    try:\n",
    "        single_beds = man.find_element(By.XPATH, '//i[@class=\"bicon bicon-singles\"]')\n",
    "        single_bed.append('1')\n",
    "    except NoSuchElementException:\n",
    "        single_bed.append('0')\n",
    "\n",
    "for i in man_hotels_url:\n",
    "    man.get(i)\n",
    "    try:\n",
    "        double_beds = man.find_element(By.XPATH, '//i[@class=\"bicon bicon-double\"]')\n",
    "        double_bed.append('1')\n",
    "    except NoSuchElementException:\n",
    "        double_bed.append('0')\n",
    "\n",
    "for i in man_hotels_url:\n",
    "    man.get(i)\n",
    "    try:\n",
    "        price = man.find_element(By.XPATH, '//span[@class=\"prco-valign-middle-helper\"]')\n",
    "        prices.append(price.text.split(' ')[0])\n",
    "    except NoSuchElementException:\n",
    "        prices.append('')"
   ]
  },
  {
   "cell_type": "code",
   "execution_count": 40,
   "id": "c0a7833d",
   "metadata": {},
   "outputs": [
    {
     "data": {
      "text/plain": [
       "(200, 200, 200, 200)"
      ]
     },
     "execution_count": 40,
     "metadata": {},
     "output_type": "execute_result"
    }
   ],
   "source": [
    "len(room_type), len(single_bed), len(double_bed), len(prices)"
   ]
  },
  {
   "cell_type": "code",
   "execution_count": 41,
   "id": "fc5c3613",
   "metadata": {},
   "outputs": [],
   "source": [
    "man.close()"
   ]
  },
  {
   "cell_type": "markdown",
   "id": "53e5de38",
   "metadata": {},
   "source": [
    "### New Delhi"
   ]
  },
  {
   "cell_type": "code",
   "execution_count": 42,
   "id": "2aad7f05",
   "metadata": {},
   "outputs": [],
   "source": [
    "delhi = webdriver.Chrome()\n",
    "delhi.get('https://shorturl.at/hpSV9')\n",
    "\n",
    "cookie= delhi.find_element(By.ID, 'onetrust-accept-btn-handler')\n",
    "cookie.click()\n",
    "\n",
    "search = delhi.find_element(By.XPATH, '//input[@class=\"eb46370fe1\"]')\n",
    "search.send_keys('New Delhi')\n",
    "time.sleep(5)\n",
    "\n",
    "date = delhi.find_element(By.XPATH, '//button[@class=\"ebbedaf8ac ab26a5d2bd e33c97ff6b\"]')\n",
    "date.click()\n",
    "\n",
    "check_in = delhi.find_element(By.XPATH, '//span[@aria-label=\"29 November 2023\"]')\n",
    "check_in.click()\n",
    "\n",
    "check_in = delhi.find_element(By.XPATH, '//span[@aria-label=\"30 November 2023\"]')\n",
    "check_in.click()\n",
    "\n",
    "button = delhi.find_element(By.XPATH, '//button[@class=\"a83ed08757 c21c56c305 a4c1805887 f671049264 d2529514af c082d89982 cceeb8986b\"]')\n",
    "button.click()\n",
    "time.sleep(5)\n",
    "\n",
    "body = delhi.find_element(By.XPATH, '//div[@class=\"f0c216ee26 c676dd76fe de4fbb6ed0 b5018b639f\"]/div/div/div/div/button')\n",
    "body.click()\n",
    "\n",
    "sort = delhi.find_element(By.XPATH, '//span[@class=\"fcd9eec8fb a07dcf7ef3 bf9a32efa5\"]')\n",
    "sort.click()\n",
    "\n",
    "high = delhi.find_element(By.XPATH, '//div[@class=\"f998a7c837 ec5d8a4630 ed9055eada da4aa3251d\"]/div/div/div/ul/li[5]')\n",
    "high.click()"
   ]
  },
  {
   "cell_type": "code",
   "execution_count": 43,
   "id": "5dd03635",
   "metadata": {},
   "outputs": [
    {
     "data": {
      "text/plain": [
       "50"
      ]
     },
     "execution_count": 43,
     "metadata": {},
     "output_type": "execute_result"
    }
   ],
   "source": [
    "delhi_hotels_url = []\n",
    "\n",
    "start = 0\n",
    "end = 2\n",
    "for page in range(start,end):\n",
    "    url = delhi.find_elements(By.XPATH, '//h3[@class=\"aab71f8e4e\"]/a')\n",
    "    for i in url:\n",
    "        delhi_hotels_url.append(i.get_attribute('href')) \n",
    "    next_button = delhi.find_element(By.XPATH, '//div[3]/button/span/span[@class=\"fcd9eec8fb bf9a32efa5\"]')\n",
    "    next_button.click()\n",
    "    time.sleep(3)\n",
    "len(delhi_hotels_url)"
   ]
  },
  {
   "cell_type": "code",
   "execution_count": 44,
   "id": "02e347e3",
   "metadata": {},
   "outputs": [],
   "source": [
    "for i in delhi_hotels_url:\n",
    "    delhi.get(i)\n",
    "    try:\n",
    "        rooms_type = delhi.find_element(By.XPATH, '//span[@class=\"hprt-roomtype-icon-link \"]')\n",
    "        room_type.append(rooms_type.text)\n",
    "    except NoSuchElementException:\n",
    "        room_type.append('')\n",
    "\n",
    "for i in delhi_hotels_url:\n",
    "    delhi.get(i)\n",
    "    try:\n",
    "        single_beds = delhi.find_element(By.XPATH, '//i[@class=\"bicon bicon-singles\"]')\n",
    "        single_bed.append('1')\n",
    "    except NoSuchElementException:\n",
    "        single_bed.append('0')\n",
    "\n",
    "for i in delhi_hotels_url:\n",
    "    delhi.get(i)\n",
    "    try:\n",
    "        double_beds = delhi.find_element(By.XPATH, '//i[@class=\"bicon bicon-double\"]')\n",
    "        double_bed.append('1')\n",
    "    except NoSuchElementException:\n",
    "        double_bed.append('0')\n",
    "\n",
    "for i in delhi_hotels_url:\n",
    "    delhi.get(i)\n",
    "    try:\n",
    "        price = delhi.find_element(By.XPATH, '//span[@class=\"prco-valign-middle-helper\"]')\n",
    "        prices.append(price.text.split(' ')[0])\n",
    "    except NoSuchElementException:\n",
    "        prices.append('')"
   ]
  },
  {
   "cell_type": "code",
   "execution_count": 45,
   "id": "aa5cd1a4",
   "metadata": {},
   "outputs": [
    {
     "data": {
      "text/plain": [
       "(250, 250, 250, 250)"
      ]
     },
     "execution_count": 45,
     "metadata": {},
     "output_type": "execute_result"
    }
   ],
   "source": [
    "len(room_type), len(single_bed), len(double_bed), len(prices)"
   ]
  },
  {
   "cell_type": "code",
   "execution_count": 46,
   "id": "c0e2e9fa",
   "metadata": {},
   "outputs": [],
   "source": [
    "delhi.close()"
   ]
  },
  {
   "cell_type": "markdown",
   "id": "9c5633ae",
   "metadata": {},
   "source": [
    "### Birmingham"
   ]
  },
  {
   "cell_type": "code",
   "execution_count": 48,
   "id": "9056af93",
   "metadata": {},
   "outputs": [],
   "source": [
    "biri = webdriver.Chrome()\n",
    "biri.get('https://shorturl.at/hpSV9')\n",
    "\n",
    "cookie= biri.find_element(By.ID, 'onetrust-accept-btn-handler')\n",
    "cookie.click()\n",
    "\n",
    "search = biri.find_element(By.XPATH, '//input[@class=\"eb46370fe1\"]')\n",
    "search.send_keys('Birmingham')\n",
    "time.sleep(5)\n",
    "\n",
    "date = biri.find_element(By.XPATH, '//button[@class=\"ebbedaf8ac ab26a5d2bd e33c97ff6b\"]')\n",
    "date.click()\n",
    "\n",
    "check_in = biri.find_element(By.XPATH, '//span[@aria-label=\"29 November 2023\"]')\n",
    "check_in.click()\n",
    "\n",
    "check_in = biri.find_element(By.XPATH, '//span[@aria-label=\"30 November 2023\"]')\n",
    "check_in.click()\n",
    "\n",
    "button = biri.find_element(By.XPATH, '//button[@class=\"a83ed08757 c21c56c305 a4c1805887 f671049264 d2529514af c082d89982 cceeb8986b\"]')\n",
    "button.click()\n",
    "time.sleep(5)\n",
    "\n",
    "body = biri.find_element(By.XPATH, '//div[@class=\"f0c216ee26 c676dd76fe de4fbb6ed0 b5018b639f\"]/div/div/div/div/button')\n",
    "body.click()\n",
    "\n",
    "sort = biri.find_element(By.XPATH, '//span[@class=\"fcd9eec8fb a07dcf7ef3 bf9a32efa5\"]')\n",
    "sort.click()\n",
    "\n",
    "high = biri.find_element(By.XPATH, '//div[@class=\"f998a7c837 ec5d8a4630 ed9055eada da4aa3251d\"]/div/div/div/ul/li[5]')\n",
    "high.click()"
   ]
  },
  {
   "cell_type": "code",
   "execution_count": 49,
   "id": "80a9a669",
   "metadata": {},
   "outputs": [
    {
     "data": {
      "text/plain": [
       "50"
      ]
     },
     "execution_count": 49,
     "metadata": {},
     "output_type": "execute_result"
    }
   ],
   "source": [
    "biri_hotels_url = []\n",
    "\n",
    "start = 0\n",
    "end = 2\n",
    "for page in range(start,end):\n",
    "    url = biri.find_elements(By.XPATH, '//h3[@class=\"aab71f8e4e\"]/a')\n",
    "    for i in url:\n",
    "        biri_hotels_url.append(i.get_attribute('href')) \n",
    "    next_button = biri.find_element(By.XPATH, '//div[3]/button/span/span[@class=\"fcd9eec8fb bf9a32efa5\"]')\n",
    "    next_button.click()\n",
    "    time.sleep(3)\n",
    "len(biri_hotels_url)"
   ]
  },
  {
   "cell_type": "code",
   "execution_count": 50,
   "id": "bbc3013f",
   "metadata": {},
   "outputs": [],
   "source": [
    "for i in biri_hotels_url:\n",
    "    biri.get(i)\n",
    "    try:\n",
    "        rooms_type = biri.find_element(By.XPATH, '//span[@class=\"hprt-roomtype-icon-link \"]')\n",
    "        room_type.append(rooms_type.text)\n",
    "    except NoSuchElementException:\n",
    "        room_type.append('')\n",
    "\n",
    "for i in biri_hotels_url:\n",
    "    biri.get(i)\n",
    "    try:\n",
    "        single_beds = biri.find_element(By.XPATH, '//i[@class=\"bicon bicon-singles\"]')\n",
    "        single_bed.append('1')\n",
    "    except NoSuchElementException:\n",
    "        single_bed.append('0')\n",
    "\n",
    "for i in biri_hotels_url:\n",
    "    biri.get(i)\n",
    "    try:\n",
    "        double_beds = biri.find_element(By.XPATH, '//i[@class=\"bicon bicon-double\"]')\n",
    "        double_bed.append('1')\n",
    "    except NoSuchElementException:\n",
    "        double_bed.append('0')\n",
    "\n",
    "for i in biri_hotels_url:\n",
    "    biri.get(i)\n",
    "    try:\n",
    "        price = biri.find_element(By.XPATH, '//span[@class=\"prco-valign-middle-helper\"]')\n",
    "        prices.append(price.text.split(' ')[0])\n",
    "    except NoSuchElementException:\n",
    "        prices.append('')"
   ]
  },
  {
   "cell_type": "code",
   "execution_count": 51,
   "id": "fc63607e",
   "metadata": {},
   "outputs": [
    {
     "data": {
      "text/plain": [
       "(300, 300, 300, 300)"
      ]
     },
     "execution_count": 51,
     "metadata": {},
     "output_type": "execute_result"
    }
   ],
   "source": [
    "len(room_type), len(single_bed), len(double_bed), len(prices)"
   ]
  },
  {
   "cell_type": "code",
   "execution_count": 52,
   "id": "97a25c99",
   "metadata": {},
   "outputs": [],
   "source": [
    "biri.close()"
   ]
  },
  {
   "cell_type": "markdown",
   "id": "ac3b38b6",
   "metadata": {},
   "source": [
    "### Berlin"
   ]
  },
  {
   "cell_type": "code",
   "execution_count": 53,
   "id": "1132b87b",
   "metadata": {},
   "outputs": [],
   "source": [
    "berlin = webdriver.Chrome()\n",
    "berlin.get('https://shorturl.at/hpSV9')\n",
    "\n",
    "cookie= berlin.find_element(By.ID, 'onetrust-accept-btn-handler')\n",
    "cookie.click()\n",
    "\n",
    "search = berlin.find_element(By.XPATH, '//input[@class=\"eb46370fe1\"]')\n",
    "search.send_keys('berlin')\n",
    "time.sleep(5)\n",
    "\n",
    "date = berlin.find_element(By.XPATH, '//button[@class=\"ebbedaf8ac ab26a5d2bd e33c97ff6b\"]')\n",
    "date.click()\n",
    "\n",
    "check_in = berlin.find_element(By.XPATH, '//span[@aria-label=\"29 November 2023\"]')\n",
    "check_in.click()\n",
    "\n",
    "check_in = berlin.find_element(By.XPATH, '//span[@aria-label=\"30 November 2023\"]')\n",
    "check_in.click()\n",
    "\n",
    "button = berlin.find_element(By.XPATH, '//button[@class=\"a83ed08757 c21c56c305 a4c1805887 f671049264 d2529514af c082d89982 cceeb8986b\"]')\n",
    "button.click()\n",
    "time.sleep(5)\n",
    "\n",
    "body = berlin.find_element(By.XPATH, '//div[@class=\"f0c216ee26 c676dd76fe de4fbb6ed0 b5018b639f\"]/div/div/div/div/button')\n",
    "body.click()\n",
    "\n",
    "sort = berlin.find_element(By.XPATH, '//span[@class=\"fcd9eec8fb a07dcf7ef3 bf9a32efa5\"]')\n",
    "sort.click()\n",
    "\n",
    "high = berlin.find_element(By.XPATH, '//div[@class=\"f998a7c837 ec5d8a4630 ed9055eada da4aa3251d\"]/div/div/div/ul/li[5]')\n",
    "high.click()"
   ]
  },
  {
   "cell_type": "code",
   "execution_count": 54,
   "id": "9eb6fb52",
   "metadata": {},
   "outputs": [
    {
     "data": {
      "text/plain": [
       "50"
      ]
     },
     "execution_count": 54,
     "metadata": {},
     "output_type": "execute_result"
    }
   ],
   "source": [
    "berlin_hotels_url = []\n",
    "\n",
    "start = 0\n",
    "end = 2\n",
    "for page in range(start,end):\n",
    "    url = berlin.find_elements(By.XPATH, '//h3[@class=\"aab71f8e4e\"]/a')\n",
    "    for i in url:\n",
    "        berlin_hotels_url.append(i.get_attribute('href')) \n",
    "    next_button = berlin.find_element(By.XPATH, '//div[3]/button/span/span[@class=\"fcd9eec8fb bf9a32efa5\"]')\n",
    "    next_button.click()\n",
    "    time.sleep(3)\n",
    "len(berlin_hotels_url)"
   ]
  },
  {
   "cell_type": "code",
   "execution_count": 55,
   "id": "14618f40",
   "metadata": {},
   "outputs": [],
   "source": [
    "for i in berlin_hotels_url:\n",
    "    berlin.get(i)\n",
    "    try:\n",
    "        rooms_type = berlin.find_element(By.XPATH, '//span[@class=\"hprt-roomtype-icon-link \"]')\n",
    "        room_type.append(rooms_type.text)\n",
    "    except NoSuchElementException:\n",
    "        room_type.append('')\n",
    "\n",
    "for i in berlin_hotels_url:\n",
    "    berlin.get(i)\n",
    "    try:\n",
    "        single_beds = berlin.find_element(By.XPATH, '//i[@class=\"bicon bicon-singles\"]')\n",
    "        single_bed.append('1')\n",
    "    except NoSuchElementException:\n",
    "        single_bed.append('0')\n",
    "\n",
    "for i in berlin_hotels_url:\n",
    "    berlin.get(i)\n",
    "    try:\n",
    "        double_beds = berlin.find_element(By.XPATH, '//i[@class=\"bicon bicon-double\"]')\n",
    "        double_bed.append('1')\n",
    "    except NoSuchElementException:\n",
    "        double_bed.append('0')\n",
    "\n",
    "for i in berlin_hotels_url:\n",
    "    berlin.get(i)\n",
    "    try:\n",
    "        price = berlin.find_element(By.XPATH, '//span[@class=\"prco-valign-middle-helper\"]')\n",
    "        prices.append(price.text.split(' ')[0])\n",
    "    except NoSuchElementException:\n",
    "        prices.append('')"
   ]
  },
  {
   "cell_type": "code",
   "execution_count": 56,
   "id": "525cfd03",
   "metadata": {},
   "outputs": [
    {
     "data": {
      "text/plain": [
       "(350, 350, 350, 350)"
      ]
     },
     "execution_count": 56,
     "metadata": {},
     "output_type": "execute_result"
    }
   ],
   "source": [
    "len(room_type), len(single_bed), len(double_bed), len(prices)"
   ]
  },
  {
   "cell_type": "code",
   "execution_count": 57,
   "id": "49efb38b",
   "metadata": {},
   "outputs": [],
   "source": [
    "berlin.close()"
   ]
  },
  {
   "cell_type": "markdown",
   "id": "f9231280",
   "metadata": {},
   "source": [
    "### Sydney"
   ]
  },
  {
   "cell_type": "code",
   "execution_count": 60,
   "id": "0a7b4155",
   "metadata": {},
   "outputs": [],
   "source": [
    "sydney = webdriver.Chrome()\n",
    "sydney.get('https://shorturl.at/hpSV9')\n",
    "\n",
    "cookie= sydney.find_element(By.ID, 'onetrust-accept-btn-handler')\n",
    "cookie.click()\n",
    "\n",
    "search = sydney.find_element(By.XPATH, '//input[@class=\"eb46370fe1\"]')\n",
    "search.send_keys('sydney')\n",
    "time.sleep(5)\n",
    "\n",
    "date = sydney.find_element(By.XPATH, '//button[@class=\"ebbedaf8ac ab26a5d2bd e33c97ff6b\"]')\n",
    "date.click()\n",
    "\n",
    "check_in = sydney.find_element(By.XPATH, '//span[@aria-label=\"29 November 2023\"]')\n",
    "check_in.click()\n",
    "\n",
    "check_in = sydney.find_element(By.XPATH, '//span[@aria-label=\"30 November 2023\"]')\n",
    "check_in.click()\n",
    "\n",
    "button = sydney.find_element(By.XPATH, '//button[@class=\"a83ed08757 c21c56c305 a4c1805887 f671049264 d2529514af c082d89982 cceeb8986b\"]')\n",
    "button.click()\n",
    "time.sleep(5)\n",
    "\n",
    "body = sydney.find_element(By.XPATH, '//div[@class=\"f0c216ee26 c676dd76fe de4fbb6ed0 b5018b639f\"]/div/div/div/div/button')\n",
    "body.click()\n",
    "# this line above might be needed might not. The popup window apear only sometimes from what I saw. \n",
    "\n",
    "sort = sydney.find_element(By.XPATH, '//span[@class=\"fcd9eec8fb a07dcf7ef3 bf9a32efa5\"]')\n",
    "sort.click()\n",
    "\n",
    "high = sydney.find_element(By.XPATH, '//div[@class=\"f998a7c837 ec5d8a4630 ed9055eada da4aa3251d\"]/div/div/div/ul/li[5]')\n",
    "high.click()"
   ]
  },
  {
   "cell_type": "code",
   "execution_count": 61,
   "id": "b8e3ccc3",
   "metadata": {},
   "outputs": [
    {
     "data": {
      "text/plain": [
       "50"
      ]
     },
     "execution_count": 61,
     "metadata": {},
     "output_type": "execute_result"
    }
   ],
   "source": [
    "sydney_hotels_url = []\n",
    "\n",
    "start = 0\n",
    "end = 2\n",
    "for page in range(start,end):\n",
    "    url = sydney.find_elements(By.XPATH, '//h3[@class=\"aab71f8e4e\"]/a')\n",
    "    for i in url:\n",
    "        sydney_hotels_url.append(i.get_attribute('href')) \n",
    "    next_button = sydney.find_element(By.XPATH, '//div[3]/button/span/span[@class=\"fcd9eec8fb bf9a32efa5\"]')\n",
    "    next_button.click()\n",
    "    time.sleep(3)\n",
    "len(sydney_hotels_url)"
   ]
  },
  {
   "cell_type": "code",
   "execution_count": 62,
   "id": "389c4dca",
   "metadata": {},
   "outputs": [],
   "source": [
    "for i in sydney_hotels_url:\n",
    "    sydney.get(i)\n",
    "    try:\n",
    "        rooms_type = sydney.find_element(By.XPATH, '//span[@class=\"hprt-roomtype-icon-link \"]')\n",
    "        room_type.append(rooms_type.text)\n",
    "    except NoSuchElementException:\n",
    "        room_type.append('')\n",
    "\n",
    "for i in sydney_hotels_url:\n",
    "    sydney.get(i)\n",
    "    try:\n",
    "        single_beds = sydney.find_element(By.XPATH, '//i[@class=\"bicon bicon-singles\"]')\n",
    "        single_bed.append('1')\n",
    "    except NoSuchElementException:\n",
    "        single_bed.append('0')\n",
    "\n",
    "for i in sydney_hotels_url:\n",
    "    sydney.get(i)\n",
    "    try:\n",
    "        double_beds = sydney.find_element(By.XPATH, '//i[@class=\"bicon bicon-double\"]')\n",
    "        double_bed.append('1')\n",
    "    except NoSuchElementException:\n",
    "        double_bed.append('0')\n",
    "\n",
    "for i in sydney_hotels_url:\n",
    "    sydney.get(i)\n",
    "    try:\n",
    "        price = sydney.find_element(By.XPATH, '//span[@class=\"prco-valign-middle-helper\"]')\n",
    "        prices.append(price.text.split(' ')[0])\n",
    "    except NoSuchElementException:\n",
    "        prices.append('')"
   ]
  },
  {
   "cell_type": "code",
   "execution_count": 63,
   "id": "ce1f9600",
   "metadata": {},
   "outputs": [
    {
     "data": {
      "text/plain": [
       "(400, 400, 400, 400)"
      ]
     },
     "execution_count": 63,
     "metadata": {},
     "output_type": "execute_result"
    }
   ],
   "source": [
    "len(room_type), len(single_bed), len(double_bed), len(prices)"
   ]
  },
  {
   "cell_type": "code",
   "execution_count": 64,
   "id": "e627d590",
   "metadata": {},
   "outputs": [],
   "source": [
    "sydney.close()"
   ]
  },
  {
   "cell_type": "markdown",
   "id": "98ab17ea",
   "metadata": {},
   "source": [
    "### Melbourne"
   ]
  },
  {
   "cell_type": "code",
   "execution_count": 65,
   "id": "ee1c40cd",
   "metadata": {},
   "outputs": [],
   "source": [
    "mel = webdriver.Chrome()\n",
    "mel.get('https://shorturl.at/hpSV9')\n",
    "\n",
    "cookie= mel.find_element(By.ID, 'onetrust-accept-btn-handler')\n",
    "cookie.click()\n",
    "\n",
    "search = mel.find_element(By.XPATH, '//input[@class=\"eb46370fe1\"]')\n",
    "search.send_keys('melbourne')\n",
    "time.sleep(5)\n",
    "\n",
    "date = mel.find_element(By.XPATH, '//button[@class=\"ebbedaf8ac ab26a5d2bd e33c97ff6b\"]')\n",
    "date.click()\n",
    "\n",
    "check_in = mel.find_element(By.XPATH, '//span[@aria-label=\"29 November 2023\"]')\n",
    "check_in.click()\n",
    "\n",
    "check_in = mel.find_element(By.XPATH, '//span[@aria-label=\"30 November 2023\"]')\n",
    "check_in.click()\n",
    "\n",
    "button = mel.find_element(By.XPATH, '//button[@class=\"a83ed08757 c21c56c305 a4c1805887 f671049264 d2529514af c082d89982 cceeb8986b\"]')\n",
    "button.click()\n",
    "time.sleep(5)\n",
    "\n",
    "#body = mel.find_element(By.XPATH, '//div[@class=\"f0c216ee26 c676dd76fe de4fbb6ed0 b5018b639f\"]/div/div/div/div/button')\n",
    "#body.click()\n",
    "\n",
    "sort = mel.find_element(By.XPATH, '//span[@class=\"fcd9eec8fb a07dcf7ef3 bf9a32efa5\"]')\n",
    "sort.click()\n",
    "\n",
    "high = mel.find_element(By.XPATH, '//div[@class=\"f998a7c837 ec5d8a4630 ed9055eada da4aa3251d\"]/div/div/div/ul/li[5]')\n",
    "high.click()"
   ]
  },
  {
   "cell_type": "code",
   "execution_count": 66,
   "id": "7f1a96e5",
   "metadata": {},
   "outputs": [
    {
     "data": {
      "text/plain": [
       "51"
      ]
     },
     "execution_count": 66,
     "metadata": {},
     "output_type": "execute_result"
    }
   ],
   "source": [
    "mel_hotels_url = []\n",
    "\n",
    "start = 0\n",
    "end = 2\n",
    "for page in range(start,end):\n",
    "    url = mel.find_elements(By.XPATH, '//h3[@class=\"aab71f8e4e\"]/a')\n",
    "    for i in url:\n",
    "        mel_hotels_url.append(i.get_attribute('href')) \n",
    "    next_button = mel.find_element(By.XPATH, '//div[3]/button/span/span[@class=\"fcd9eec8fb bf9a32efa5\"]')\n",
    "    next_button.click()\n",
    "    time.sleep(3)\n",
    "len(mel_hotels_url)"
   ]
  },
  {
   "cell_type": "code",
   "execution_count": 67,
   "id": "96779572",
   "metadata": {},
   "outputs": [],
   "source": [
    "for i in mel_hotels_url:\n",
    "    mel.get(i)\n",
    "    try:\n",
    "        rooms_type = mel.find_element(By.XPATH, '//span[@class=\"hprt-roomtype-icon-link \"]')\n",
    "        room_type.append(rooms_type.text)\n",
    "    except NoSuchElementException:\n",
    "        room_type.append('')\n",
    "\n",
    "for i in mel_hotels_url:\n",
    "    mel.get(i)\n",
    "    try:\n",
    "        single_beds = mel.find_element(By.XPATH, '//i[@class=\"bicon bicon-singles\"]')\n",
    "        single_bed.append('1')\n",
    "    except NoSuchElementException:\n",
    "        single_bed.append('0')\n",
    "\n",
    "for i in mel_hotels_url:\n",
    "    mel.get(i)\n",
    "    try:\n",
    "        double_beds = mel.find_element(By.XPATH, '//i[@class=\"bicon bicon-double\"]')\n",
    "        double_bed.append('1')\n",
    "    except NoSuchElementException:\n",
    "        double_bed.append('0')\n",
    "\n",
    "for i in mel_hotels_url:\n",
    "    mel.get(i)\n",
    "    try:\n",
    "        price = mel.find_element(By.XPATH, '//span[@class=\"prco-valign-middle-helper\"]')\n",
    "        prices.append(price.text.split(' ')[0])\n",
    "    except NoSuchElementException:\n",
    "        prices.append('')"
   ]
  },
  {
   "cell_type": "code",
   "execution_count": 68,
   "id": "288147ea",
   "metadata": {},
   "outputs": [
    {
     "data": {
      "text/plain": [
       "(451, 451, 451, 451)"
      ]
     },
     "execution_count": 68,
     "metadata": {},
     "output_type": "execute_result"
    }
   ],
   "source": [
    "len(room_type), len(single_bed), len(double_bed), len(prices)"
   ]
  },
  {
   "cell_type": "code",
   "execution_count": 69,
   "id": "e310d03f",
   "metadata": {},
   "outputs": [],
   "source": [
    "mel.close()"
   ]
  },
  {
   "cell_type": "markdown",
   "id": "8e967dd4",
   "metadata": {},
   "source": [
    "### Paris"
   ]
  },
  {
   "cell_type": "code",
   "execution_count": 72,
   "id": "4d1aabc1",
   "metadata": {},
   "outputs": [],
   "source": [
    "paris = webdriver.Chrome()\n",
    "paris.get('https://shorturl.at/hpSV9')\n",
    "\n",
    "cookie= paris.find_element(By.ID, 'onetrust-accept-btn-handler')\n",
    "cookie.click()\n",
    "\n",
    "search = paris.find_element(By.XPATH, '//input[@class=\"eb46370fe1\"]')\n",
    "search.send_keys('paris')\n",
    "time.sleep(5)\n",
    "\n",
    "date = paris.find_element(By.XPATH, '//button[@class=\"ebbedaf8ac ab26a5d2bd e33c97ff6b\"]')\n",
    "date.click()\n",
    "\n",
    "check_in = paris.find_element(By.XPATH, '//span[@aria-label=\"29 November 2023\"]')\n",
    "check_in.click()\n",
    "\n",
    "check_in = paris.find_element(By.XPATH, '//span[@aria-label=\"30 November 2023\"]')\n",
    "check_in.click()\n",
    "\n",
    "button = paris.find_element(By.XPATH, '//button[@class=\"a83ed08757 c21c56c305 a4c1805887 f671049264 d2529514af c082d89982 cceeb8986b\"]')\n",
    "button.click()\n",
    "time.sleep(5)\n",
    "\n",
    "body = paris.find_element(By.XPATH, '//div[@class=\"f0c216ee26 c676dd76fe de4fbb6ed0 b5018b639f\"]/div/div/div/div/button')\n",
    "body.click()\n",
    "\n",
    "sort = paris.find_element(By.XPATH, '//span[@class=\"fcd9eec8fb a07dcf7ef3 bf9a32efa5\"]')\n",
    "sort.click()\n",
    "\n",
    "high = paris.find_element(By.XPATH, '//div[@class=\"f998a7c837 ec5d8a4630 ed9055eada da4aa3251d\"]/div/div/div/ul/li[5]')\n",
    "high.click()"
   ]
  },
  {
   "cell_type": "code",
   "execution_count": 73,
   "id": "a8e807d2",
   "metadata": {},
   "outputs": [
    {
     "data": {
      "text/plain": [
       "50"
      ]
     },
     "execution_count": 73,
     "metadata": {},
     "output_type": "execute_result"
    }
   ],
   "source": [
    "paris_hotels_url = []\n",
    "\n",
    "start = 0\n",
    "end = 2\n",
    "for page in range(start,end):\n",
    "    url = paris.find_elements(By.XPATH, '//h3[@class=\"aab71f8e4e\"]/a')\n",
    "    for i in url:\n",
    "        paris_hotels_url.append(i.get_attribute('href')) \n",
    "    next_button = paris.find_element(By.XPATH, '//div[3]/button/span/span[@class=\"fcd9eec8fb bf9a32efa5\"]')\n",
    "    next_button.click()\n",
    "    time.sleep(3)\n",
    "len(paris_hotels_url)"
   ]
  },
  {
   "cell_type": "code",
   "execution_count": 74,
   "id": "98098679",
   "metadata": {},
   "outputs": [],
   "source": [
    "for i in paris_hotels_url:\n",
    "    paris.get(i)\n",
    "    try:\n",
    "        rooms_type = paris.find_element(By.XPATH, '//span[@class=\"hprt-roomtype-icon-link \"]')\n",
    "        room_type.append(rooms_type.text)\n",
    "    except NoSuchElementException:\n",
    "        room_type.append('')\n",
    "\n",
    "for i in paris_hotels_url:\n",
    "    paris.get(i)\n",
    "    try:\n",
    "        single_beds = paris.find_element(By.XPATH, '//i[@class=\"bicon bicon-singles\"]')\n",
    "        single_bed.append('1')\n",
    "    except NoSuchElementException:\n",
    "        single_bed.append('0')\n",
    "\n",
    "for i in paris_hotels_url:\n",
    "    paris.get(i)\n",
    "    try:\n",
    "        double_beds = paris.find_element(By.XPATH, '//i[@class=\"bicon bicon-double\"]')\n",
    "        double_bed.append('1')\n",
    "    except NoSuchElementException:\n",
    "        double_bed.append('0')\n",
    "\n",
    "for i in paris_hotels_url:\n",
    "    paris.get(i)\n",
    "    try:\n",
    "        price = paris.find_element(By.XPATH, '//span[@class=\"prco-valign-middle-helper\"]')\n",
    "        prices.append(price.text.split(' ')[0])\n",
    "    except NoSuchElementException:\n",
    "        prices.append('')"
   ]
  },
  {
   "cell_type": "code",
   "execution_count": 75,
   "id": "7e09c8e6",
   "metadata": {},
   "outputs": [
    {
     "data": {
      "text/plain": [
       "(501, 501, 501, 501)"
      ]
     },
     "execution_count": 75,
     "metadata": {},
     "output_type": "execute_result"
    }
   ],
   "source": [
    "len(room_type), len(single_bed), len(double_bed), len(prices)"
   ]
  },
  {
   "cell_type": "code",
   "execution_count": 76,
   "id": "643868db",
   "metadata": {},
   "outputs": [],
   "source": [
    "paris.close()"
   ]
  },
  {
   "cell_type": "markdown",
   "id": "0c7cc402",
   "metadata": {},
   "source": [
    "### Tokyo"
   ]
  },
  {
   "cell_type": "code",
   "execution_count": 77,
   "id": "0cb09e4a",
   "metadata": {},
   "outputs": [],
   "source": [
    "tokyo = webdriver.Chrome()\n",
    "tokyo.get('https://shorturl.at/hpSV9')\n",
    "\n",
    "cookie= tokyo.find_element(By.ID, 'onetrust-accept-btn-handler')\n",
    "cookie.click()\n",
    "\n",
    "search = tokyo.find_element(By.XPATH, '//input[@class=\"eb46370fe1\"]')\n",
    "search.send_keys('tokyo')\n",
    "time.sleep(5)\n",
    "\n",
    "date = tokyo.find_element(By.XPATH, '//button[@class=\"ebbedaf8ac ab26a5d2bd e33c97ff6b\"]')\n",
    "date.click()\n",
    "\n",
    "check_in = tokyo.find_element(By.XPATH, '//span[@aria-label=\"29 November 2023\"]')\n",
    "check_in.click()\n",
    "\n",
    "check_in = tokyo.find_element(By.XPATH, '//span[@aria-label=\"30 November 2023\"]')\n",
    "check_in.click()\n",
    "\n",
    "button = tokyo.find_element(By.XPATH, '//button[@class=\"a83ed08757 c21c56c305 a4c1805887 f671049264 d2529514af c082d89982 cceeb8986b\"]')\n",
    "button.click()\n",
    "time.sleep(5)\n",
    "\n",
    "body = tokyo.find_element(By.XPATH, '//div[@class=\"f0c216ee26 c676dd76fe de4fbb6ed0 b5018b639f\"]/div/div/div/div/button')\n",
    "body.click()\n",
    "\n",
    "sort = tokyo.find_element(By.XPATH, '//span[@class=\"fcd9eec8fb a07dcf7ef3 bf9a32efa5\"]')\n",
    "sort.click()\n",
    "\n",
    "high = tokyo.find_element(By.XPATH, '//div[@class=\"f998a7c837 ec5d8a4630 ed9055eada da4aa3251d\"]/div/div/div/ul/li[5]')\n",
    "high.click()"
   ]
  },
  {
   "cell_type": "code",
   "execution_count": 78,
   "id": "e34ef16a",
   "metadata": {},
   "outputs": [
    {
     "data": {
      "text/plain": [
       "50"
      ]
     },
     "execution_count": 78,
     "metadata": {},
     "output_type": "execute_result"
    }
   ],
   "source": [
    "tokyo_hotels_url = []\n",
    "\n",
    "start = 0\n",
    "end = 2\n",
    "for page in range(start,end):\n",
    "    url = tokyo.find_elements(By.XPATH, '//h3[@class=\"aab71f8e4e\"]/a')\n",
    "    for i in url:\n",
    "        tokyo_hotels_url.append(i.get_attribute('href')) \n",
    "    next_button = tokyo.find_element(By.XPATH, '//div[3]/button/span/span[@class=\"fcd9eec8fb bf9a32efa5\"]')\n",
    "    next_button.click()\n",
    "    time.sleep(3)\n",
    "len(tokyo_hotels_url)"
   ]
  },
  {
   "cell_type": "code",
   "execution_count": 79,
   "id": "c2acb841",
   "metadata": {},
   "outputs": [],
   "source": [
    "for i in tokyo_hotels_url:\n",
    "    tokyo.get(i)\n",
    "    try:\n",
    "        rooms_type = tokyo.find_element(By.XPATH, '//span[@class=\"hprt-roomtype-icon-link \"]')\n",
    "        room_type.append(rooms_type.text)\n",
    "    except NoSuchElementException:\n",
    "        room_type.append('')\n",
    "\n",
    "for i in tokyo_hotels_url:\n",
    "    tokyo.get(i)\n",
    "    try:\n",
    "        single_beds = tokyo.find_element(By.XPATH, '//i[@class=\"bicon bicon-singles\"]')\n",
    "        single_bed.append('1')\n",
    "    except NoSuchElementException:\n",
    "        single_bed.append('0')\n",
    "\n",
    "for i in tokyo_hotels_url:\n",
    "    tokyo.get(i)\n",
    "    try:\n",
    "        double_beds = tokyo.find_element(By.XPATH, '//i[@class=\"bicon bicon-double\"]')\n",
    "        double_bed.append('1')\n",
    "    except NoSuchElementException:\n",
    "        double_bed.append('0')\n",
    "\n",
    "for i in tokyo_hotels_url:\n",
    "    tokyo.get(i)\n",
    "    try:\n",
    "        price = tokyo.find_element(By.XPATH, '//span[@class=\"prco-valign-middle-helper\"]')\n",
    "        prices.append(price.text.split(' ')[0])\n",
    "    except NoSuchElementException:\n",
    "        prices.append('')"
   ]
  },
  {
   "cell_type": "code",
   "execution_count": 80,
   "id": "05acbf08",
   "metadata": {},
   "outputs": [
    {
     "data": {
      "text/plain": [
       "(551, 551, 551, 551)"
      ]
     },
     "execution_count": 80,
     "metadata": {},
     "output_type": "execute_result"
    }
   ],
   "source": [
    "len(room_type), len(single_bed), len(double_bed), len(prices)"
   ]
  },
  {
   "cell_type": "code",
   "execution_count": 81,
   "id": "2d7f5a4f",
   "metadata": {},
   "outputs": [],
   "source": [
    "tokyo.close()"
   ]
  },
  {
   "cell_type": "markdown",
   "id": "fc3a99a4",
   "metadata": {},
   "source": [
    "### Toronto"
   ]
  },
  {
   "cell_type": "code",
   "execution_count": 82,
   "id": "3b1b3419",
   "metadata": {},
   "outputs": [],
   "source": [
    "toronto = webdriver.Chrome()\n",
    "toronto.get('https://shorturl.at/hpSV9')\n",
    "\n",
    "cookie= toronto.find_element(By.ID, 'onetrust-accept-btn-handler')\n",
    "cookie.click()\n",
    "\n",
    "search = toronto.find_element(By.XPATH, '//input[@class=\"eb46370fe1\"]')\n",
    "search.send_keys('toronto')\n",
    "time.sleep(5)\n",
    "\n",
    "date = toronto.find_element(By.XPATH, '//button[@class=\"ebbedaf8ac ab26a5d2bd e33c97ff6b\"]')\n",
    "date.click()\n",
    "\n",
    "check_in = toronto.find_element(By.XPATH, '//span[@aria-label=\"29 November 2023\"]')\n",
    "check_in.click()\n",
    "\n",
    "check_in = toronto.find_element(By.XPATH, '//span[@aria-label=\"30 November 2023\"]')\n",
    "check_in.click()\n",
    "\n",
    "button = toronto.find_element(By.XPATH, '//button[@class=\"a83ed08757 c21c56c305 a4c1805887 f671049264 d2529514af c082d89982 cceeb8986b\"]')\n",
    "button.click()\n",
    "time.sleep(5)\n",
    "\n",
    "body = toronto.find_element(By.XPATH, '//div[@class=\"f0c216ee26 c676dd76fe de4fbb6ed0 b5018b639f\"]/div/div/div/div/button')\n",
    "body.click()\n",
    "\n",
    "sort = toronto.find_element(By.XPATH, '//span[@class=\"fcd9eec8fb a07dcf7ef3 bf9a32efa5\"]')\n",
    "sort.click()\n",
    "\n",
    "high = toronto.find_element(By.XPATH, '//div[@class=\"f998a7c837 ec5d8a4630 ed9055eada da4aa3251d\"]/div/div/div/ul/li[5]')\n",
    "high.click()"
   ]
  },
  {
   "cell_type": "code",
   "execution_count": 83,
   "id": "747c4769",
   "metadata": {},
   "outputs": [
    {
     "data": {
      "text/plain": [
       "50"
      ]
     },
     "execution_count": 83,
     "metadata": {},
     "output_type": "execute_result"
    }
   ],
   "source": [
    "toronto_hotels_url = []\n",
    "\n",
    "start = 0\n",
    "end = 2\n",
    "for page in range(start,end):\n",
    "    url = toronto.find_elements(By.XPATH, '//h3[@class=\"aab71f8e4e\"]/a')\n",
    "    for i in url:\n",
    "        toronto_hotels_url.append(i.get_attribute('href')) \n",
    "    next_button = toronto.find_element(By.XPATH, '//div[3]/button/span/span[@class=\"fcd9eec8fb bf9a32efa5\"]')\n",
    "    next_button.click()\n",
    "    time.sleep(3)\n",
    "len(toronto_hotels_url)"
   ]
  },
  {
   "cell_type": "code",
   "execution_count": 84,
   "id": "4091ad40",
   "metadata": {},
   "outputs": [],
   "source": [
    "for i in toronto_hotels_url:\n",
    "    toronto.get(i)\n",
    "    try:\n",
    "        rooms_type = toronto.find_element(By.XPATH, '//span[@class=\"hprt-roomtype-icon-link \"]')\n",
    "        room_type.append(rooms_type.text)\n",
    "    except NoSuchElementException:\n",
    "        room_type.append('')\n",
    "\n",
    "for i in toronto_hotels_url:\n",
    "    toronto.get(i)\n",
    "    try:\n",
    "        single_beds = toronto.find_element(By.XPATH, '//i[@class=\"bicon bicon-singles\"]')\n",
    "        single_bed.append('1')\n",
    "    except NoSuchElementException:\n",
    "        single_bed.append('0')\n",
    "\n",
    "for i in toronto_hotels_url:\n",
    "    toronto.get(i)\n",
    "    try:\n",
    "        double_beds = toronto.find_element(By.XPATH, '//i[@class=\"bicon bicon-double\"]')\n",
    "        double_bed.append('1')\n",
    "    except NoSuchElementException:\n",
    "        double_bed.append('0')\n",
    "\n",
    "for i in toronto_hotels_url:\n",
    "    toronto.get(i)\n",
    "    try:\n",
    "        price = toronto.find_element(By.XPATH, '//span[@class=\"prco-valign-middle-helper\"]')\n",
    "        prices.append(price.text.split(' ')[0])\n",
    "    except NoSuchElementException:\n",
    "        prices.append('')"
   ]
  },
  {
   "cell_type": "code",
   "execution_count": 85,
   "id": "37403050",
   "metadata": {},
   "outputs": [
    {
     "data": {
      "text/plain": [
       "(601, 601, 601, 601)"
      ]
     },
     "execution_count": 85,
     "metadata": {},
     "output_type": "execute_result"
    }
   ],
   "source": [
    "len(room_type), len(single_bed), len(double_bed), len(prices)"
   ]
  },
  {
   "cell_type": "code",
   "execution_count": 86,
   "id": "e8397bf8",
   "metadata": {},
   "outputs": [],
   "source": [
    "toronto.close()"
   ]
  },
  {
   "cell_type": "code",
   "execution_count": 90,
   "id": "d98a71c2",
   "metadata": {},
   "outputs": [
    {
     "data": {
      "text/plain": [
       "600"
      ]
     },
     "execution_count": 90,
     "metadata": {},
     "output_type": "execute_result"
    }
   ],
   "source": [
    "import csv \n",
    "\n",
    "# Replace 'your_dataset.csv' with the path to your CSV file\n",
    "csv_file = 'Data1'\n",
    "hotel_name = 'Hotel Name'  # Replace with the actual column name you want to extract\n",
    "\n",
    "hotel = []\n",
    "\n",
    "with open(csv_file, 'r', encoding='utf-8') as file:\n",
    "    reader = csv.DictReader(file)\n",
    "    for row in reader:\n",
    "        hotel.append(row[hotel_name])\n",
    "len(hotel)\n"
   ]
  },
  {
   "cell_type": "code",
   "execution_count": 91,
   "id": "150045f7",
   "metadata": {},
   "outputs": [],
   "source": [
    "# Desired length\n",
    "desired_length = 600\n",
    "\n",
    "# Truncate the list to the desired length\n",
    "room_type = room_type[:desired_length]"
   ]
  },
  {
   "cell_type": "code",
   "execution_count": 92,
   "id": "fada9d40",
   "metadata": {},
   "outputs": [],
   "source": [
    "# Desired length\n",
    "desired_length = 600\n",
    "\n",
    "# Truncate the list to the desired length\n",
    "single_bed = single_bed[:desired_length]"
   ]
  },
  {
   "cell_type": "code",
   "execution_count": 93,
   "id": "1eba696c",
   "metadata": {},
   "outputs": [],
   "source": [
    "# Desired length\n",
    "desired_length = 600\n",
    "\n",
    "# Truncate the list to the desired length\n",
    "double_bed = double_bed[:desired_length]"
   ]
  },
  {
   "cell_type": "code",
   "execution_count": 94,
   "id": "fd90ddd4",
   "metadata": {},
   "outputs": [],
   "source": [
    "# Desired length\n",
    "desired_length = 600\n",
    "\n",
    "# Truncate the list to the desired length\n",
    "prices = prices[:desired_length]"
   ]
  },
  {
   "cell_type": "code",
   "execution_count": 95,
   "id": "ef84043c",
   "metadata": {},
   "outputs": [
    {
     "data": {
      "text/plain": [
       "(600, 600, 600, 600, 600)"
      ]
     },
     "execution_count": 95,
     "metadata": {},
     "output_type": "execute_result"
    }
   ],
   "source": [
    "len(room_type), len(single_bed), len(double_bed), len(prices), len(hotel)"
   ]
  },
  {
   "cell_type": "code",
   "execution_count": 96,
   "id": "7436714b",
   "metadata": {},
   "outputs": [
    {
     "data": {
      "text/html": [
       "<div>\n",
       "<style scoped>\n",
       "    .dataframe tbody tr th:only-of-type {\n",
       "        vertical-align: middle;\n",
       "    }\n",
       "\n",
       "    .dataframe tbody tr th {\n",
       "        vertical-align: top;\n",
       "    }\n",
       "\n",
       "    .dataframe thead th {\n",
       "        text-align: right;\n",
       "    }\n",
       "</style>\n",
       "<table border=\"1\" class=\"dataframe\">\n",
       "  <thead>\n",
       "    <tr style=\"text-align: right;\">\n",
       "      <th></th>\n",
       "      <th>Hotel Name</th>\n",
       "      <th>Room type</th>\n",
       "      <th>Single bed</th>\n",
       "      <th>Double bed</th>\n",
       "      <th>Prices</th>\n",
       "    </tr>\n",
       "  </thead>\n",
       "  <tbody>\n",
       "    <tr>\n",
       "      <th>0</th>\n",
       "      <td>Heaven Escape surrounded by stunning golf view...</td>\n",
       "      <td>One-Bedroom Apartment</td>\n",
       "      <td>0</td>\n",
       "      <td>1</td>\n",
       "      <td>780</td>\n",
       "    </tr>\n",
       "    <tr>\n",
       "      <th>1</th>\n",
       "      <td>2 Bedroom Apt with Sea View</td>\n",
       "      <td>One-Bedroom Apartment</td>\n",
       "      <td>0</td>\n",
       "      <td>1</td>\n",
       "      <td>1,423</td>\n",
       "    </tr>\n",
       "    <tr>\n",
       "      <th>2</th>\n",
       "      <td>Primestay - Bluewaters Residences 2BR, Dubai</td>\n",
       "      <td>Studio with Pool View</td>\n",
       "      <td>0</td>\n",
       "      <td>1</td>\n",
       "      <td>792</td>\n",
       "    </tr>\n",
       "    <tr>\n",
       "      <th>3</th>\n",
       "      <td>Anantara Residences Palm Jumeirah</td>\n",
       "      <td>One-Bedroom Apartment</td>\n",
       "      <td>0</td>\n",
       "      <td>1</td>\n",
       "      <td>852</td>\n",
       "    </tr>\n",
       "    <tr>\n",
       "      <th>4</th>\n",
       "      <td>High Class 1BHK/Binghatti Mirage</td>\n",
       "      <td>Luxury King Room with City View</td>\n",
       "      <td>1</td>\n",
       "      <td>1</td>\n",
       "      <td>1,655</td>\n",
       "    </tr>\n",
       "    <tr>\n",
       "      <th>...</th>\n",
       "      <td>...</td>\n",
       "      <td>...</td>\n",
       "      <td>...</td>\n",
       "      <td>...</td>\n",
       "      <td>...</td>\n",
       "    </tr>\n",
       "    <tr>\n",
       "      <th>595</th>\n",
       "      <td>Modern Lake View 1BR Condo plus Den with Balcony</td>\n",
       "      <td>Room Selected at Check-In</td>\n",
       "      <td>0</td>\n",
       "      <td>1</td>\n",
       "      <td>1,531</td>\n",
       "    </tr>\n",
       "    <tr>\n",
       "      <th>596</th>\n",
       "      <td>Lovely private bedroom</td>\n",
       "      <td>King Studio - Non-Smoking</td>\n",
       "      <td>0</td>\n",
       "      <td>1</td>\n",
       "      <td>2,074</td>\n",
       "    </tr>\n",
       "    <tr>\n",
       "      <th>597</th>\n",
       "      <td>The Novotel Toronto Centre</td>\n",
       "      <td>Traditional, Guest room, 2 Queen</td>\n",
       "      <td>0</td>\n",
       "      <td>1</td>\n",
       "      <td>1,519</td>\n",
       "    </tr>\n",
       "    <tr>\n",
       "      <th>598</th>\n",
       "      <td>Presidential 2+1BR Condo, Entertainment Distri...</td>\n",
       "      <td>2 Queen Premium High Floor</td>\n",
       "      <td>0</td>\n",
       "      <td>1</td>\n",
       "      <td>2,486</td>\n",
       "    </tr>\n",
       "    <tr>\n",
       "      <th>599</th>\n",
       "      <td>Downtown Toronto mins walk to CN Tower,Rogers ...</td>\n",
       "      <td>King Room with Roll-In Shower - Mobility Acces...</td>\n",
       "      <td>0</td>\n",
       "      <td>1</td>\n",
       "      <td>1,895</td>\n",
       "    </tr>\n",
       "  </tbody>\n",
       "</table>\n",
       "<p>600 rows × 5 columns</p>\n",
       "</div>"
      ],
      "text/plain": [
       "                                            Hotel Name  \\\n",
       "0    Heaven Escape surrounded by stunning golf view...   \n",
       "1                          2 Bedroom Apt with Sea View   \n",
       "2         Primestay - Bluewaters Residences 2BR, Dubai   \n",
       "3                    Anantara Residences Palm Jumeirah   \n",
       "4                     High Class 1BHK/Binghatti Mirage   \n",
       "..                                                 ...   \n",
       "595   Modern Lake View 1BR Condo plus Den with Balcony   \n",
       "596                             Lovely private bedroom   \n",
       "597                         The Novotel Toronto Centre   \n",
       "598  Presidential 2+1BR Condo, Entertainment Distri...   \n",
       "599  Downtown Toronto mins walk to CN Tower,Rogers ...   \n",
       "\n",
       "                                             Room type Single bed Double bed  \\\n",
       "0                                One-Bedroom Apartment          0          1   \n",
       "1                                One-Bedroom Apartment          0          1   \n",
       "2                                Studio with Pool View          0          1   \n",
       "3                                One-Bedroom Apartment          0          1   \n",
       "4                      Luxury King Room with City View          1          1   \n",
       "..                                                 ...        ...        ...   \n",
       "595                          Room Selected at Check-In          0          1   \n",
       "596                          King Studio - Non-Smoking          0          1   \n",
       "597                   Traditional, Guest room, 2 Queen          0          1   \n",
       "598                         2 Queen Premium High Floor          0          1   \n",
       "599  King Room with Roll-In Shower - Mobility Acces...          0          1   \n",
       "\n",
       "    Prices  \n",
       "0      780  \n",
       "1    1,423  \n",
       "2      792  \n",
       "3      852  \n",
       "4    1,655  \n",
       "..     ...  \n",
       "595  1,531  \n",
       "596  2,074  \n",
       "597  1,519  \n",
       "598  2,486  \n",
       "599  1,895  \n",
       "\n",
       "[600 rows x 5 columns]"
      ]
     },
     "execution_count": 96,
     "metadata": {},
     "output_type": "execute_result"
    }
   ],
   "source": [
    "Data3 = pd.DataFrame({'Hotel Name':hotel,'Room type':room_type, 'Single bed':single_bed, 'Double bed':double_bed, 'Prices':prices})\n",
    "Data3"
   ]
  },
  {
   "cell_type": "code",
   "execution_count": 98,
   "id": "e9afe981",
   "metadata": {},
   "outputs": [],
   "source": [
    "Data3.to_csv('Data3')"
   ]
  },
  {
   "cell_type": "code",
   "execution_count": null,
   "id": "a282e639",
   "metadata": {},
   "outputs": [],
   "source": []
  },
  {
   "cell_type": "code",
   "execution_count": null,
   "id": "927923e6",
   "metadata": {},
   "outputs": [],
   "source": []
  }
 ],
 "metadata": {
  "kernelspec": {
   "display_name": "Python 3 (ipykernel)",
   "language": "python",
   "name": "python3"
  },
  "language_info": {
   "codemirror_mode": {
    "name": "ipython",
    "version": 3
   },
   "file_extension": ".py",
   "mimetype": "text/x-python",
   "name": "python",
   "nbconvert_exporter": "python",
   "pygments_lexer": "ipython3",
   "version": "3.10.11"
  }
 },
 "nbformat": 4,
 "nbformat_minor": 5
}
